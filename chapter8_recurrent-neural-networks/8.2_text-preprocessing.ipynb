{
 "cells": [
  {
   "cell_type": "markdown",
   "id": "fdaad6d5",
   "metadata": {
    "origin_pos": 0
   },
   "source": [
    "# 文本预处理"
   ]
  },
  {
   "cell_type": "code",
   "execution_count": 5,
   "id": "bb8907ca",
   "metadata": {
    "origin_pos": 2,
    "tab": [
     "pytorch"
    ]
   },
   "outputs": [],
   "source": [
    "import collections\n",
    "import re\n",
    "from d2l import torch as d2l"
   ]
  },
  {
   "cell_type": "code",
   "execution_count": 4,
   "id": "ac0f9f0d",
   "metadata": {
    "origin_pos": 6,
    "tab": [
     "pytorch"
    ]
   },
   "outputs": [
    {
     "name": "stdout",
     "output_type": "stream",
     "text": [
      "# 文本总行数: 3221\n",
      "the time machine by h g wells\n",
      "twinkled and his usually pale face was flushed and animated the\n"
     ]
    }
   ],
   "source": [
    "\n",
    "#@save\n",
    "d2l.DATA_HUB['time_machine'] = (d2l.DATA_URL + 'timemachine.txt',\n",
    "                                '090b5e7e70c295757f55df93cb0a180b9691891a')\n",
    "\n",
    "def read_time_machine():  #@save\n",
    "    \"\"\"将时间机器数据集加载到文本行的列表中\"\"\"\n",
    "    with open(d2l.download('time_machine'), 'r') as f:\n",
    "        lines = f.readlines()\n",
    "    # 使用列表生成式生成一个列表\n",
    "    # re.sub(): 正则表达式替换函数 \n",
    "    # '[^A-Za-z]+': 正则表达式模式 [^...]: 表示\"非\"，匹配不在括号内的任何字符\n",
    "    # A-Za-z: 表示所有英文字母（大小写）\n",
    "    # +: 表示\"一个或多个\"前面的字符\n",
    "    # .strip() 移除字符串两端的空白字符（空格、制表符、换行符等）\n",
    "    # .lower() 将所有字母转换为小写形式\n",
    "    return [re.sub('[^A-Za-z]+', ' ', line).strip().lower() for line in lines]\n",
    "\n",
    "lines = read_time_machine()\n",
    "print(f'# 文本总行数: {len(lines)}')\n",
    "# 输出第一行\n",
    "print(lines[0])\n",
    "# 输出第十一行\n",
    "print(lines[10])"
   ]
  },
  {
   "cell_type": "code",
   "execution_count": 14,
   "id": "afd6a9df",
   "metadata": {
    "origin_pos": 8,
    "tab": [
     "pytorch"
    ]
   },
   "outputs": [
    {
     "name": "stdout",
     "output_type": "stream",
     "text": [
      "['the', 'time', 'machine', 'by', 'h', 'g', 'wells']\n",
      "[]\n",
      "[]\n",
      "[]\n",
      "[]\n",
      "['i']\n",
      "[]\n",
      "[]\n",
      "['the', 'time', 'traveller', 'for', 'so', 'it', 'will', 'be', 'convenient', 'to', 'speak', 'of', 'him']\n",
      "['was', 'expounding', 'a', 'recondite', 'matter', 'to', 'us', 'his', 'grey', 'eyes', 'shone', 'and']\n",
      "['twinkled', 'and', 'his', 'usually', 'pale', 'face', 'was', 'flushed', 'and', 'animated', 'the']\n",
      "['t', 'h', 'e', ' ', 't', 'i', 'm', 'e', ' ', 'm', 'a', 'c', 'h', 'i', 'n', 'e', ' ', 'b', 'y', ' ', 'h', ' ', 'g', ' ', 'w', 'e', 'l', 'l', 's']\n"
     ]
    }
   ],
   "source": [
    "# 进行词元化拆分\n",
    "def tokenize(lines, token='word'):  #@save\n",
    "    \"\"\"将文本行拆分为单词或字符词元\"\"\"\n",
    "    if token == 'word':\n",
    "        return [line.split() for line in lines]\n",
    "    elif token == 'char':\n",
    "        return [list(line) for line in lines]\n",
    "    else:\n",
    "        print('错误：未知词元类型：' + token)\n",
    "\n",
    "tokens = tokenize(lines)\n",
    "for i in range(11):\n",
    "    print(tokens[i])\n",
    "tokens2 = tokenize(lines,\"char\")\n",
    "print(tokens2[0])"
   ]
  },
  {
   "cell_type": "markdown",
   "id": "e61c06e8",
   "metadata": {
    "origin_pos": 9
   },
   "source": [
    "## 词表\n"
   ]
  },
  {
   "cell_type": "code",
   "execution_count": 8,
   "id": "16db7dad",
   "metadata": {
    "origin_pos": 10,
    "tab": [
     "pytorch"
    ]
   },
   "outputs": [],
   "source": [
    "# 建立词表类\n",
    "class Vocab:  #@save\n",
    "    def __init__(self, tokens=None, min_freq=0, reserved_tokens=None):\n",
    "        # tokens 刚才生成的词元列表\n",
    "        # reserved_tokens预定义的次元列表\n",
    "        if tokens is None:\n",
    "            tokens = []\n",
    "        if reserved_tokens is None:\n",
    "            reserved_tokens = []\n",
    "        \n",
    "        # count_corpus函数统计每个词元在语料库中出现的次数，返回一个Counter对象\n",
    "        counter = count_corpus(tokens)\n",
    "        \n",
    "        # 将Counter对象中的(词元, 频率)对按照频率降序排序，结果存储在self._token_freqs属性中。\n",
    "        # counter.items(): 返回(token, frequency)元组列表\n",
    "        # key=lambda x: x[1]: 按照频率进行排序(因为item返回的是(token, frequency)元组列表)\n",
    "        # reverse=True: 降序排列(高频词元优先)\n",
    "        self._token_freqs = sorted(counter.items(), key=lambda x: x[1],reverse=True)\n",
    "        \n",
    "        # 未知词元的索引为0\n",
    "        # 将特殊词元 <unk>放在列表的最前面 并将预定义的保留词元列表连接到特殊词元之后\n",
    "        self.idx_to_token = ['<unk>'] + reserved_tokens\n",
    "        # 使用字典递推式进行处理\n",
    "        # enumerate函数： enumerate(self.idx_to_token) 会为列表中的每个元素生成一个(索引, 元素)对\n",
    "        self.token_to_idx = {token: idx\n",
    "                             for idx, token in enumerate(self.idx_to_token)}\n",
    "        for token, freq in self._token_freqs:\n",
    "            # 删除其中一些出现频率很小的词元\n",
    "            if freq < min_freq:\n",
    "                break\n",
    "            # 将符合条件的词元添加到两个列表中 并生成映射\n",
    "            if token not in self.token_to_idx:\n",
    "                self.idx_to_token.append(token)\n",
    "                self.token_to_idx[token] = len(self.idx_to_token) - 1\n",
    "\n",
    "    def __len__(self):\n",
    "        return len(self.idx_to_token)\n",
    "\n",
    "    def __getitem__(self, tokens):\n",
    "        # 判断是否为单个词元\n",
    "        if not isinstance(tokens, (list, tuple)):\n",
    "            # 如果是单个词元 存在则返回对应的键值 不存在则返回0\n",
    "            # dictionary.get(key, default_value)字典的内置参数 存在则返回key 不存在则返回default_value\n",
    "            return self.token_to_idx.get(tokens, self.unk)\n",
    "        # 通过列表生成式和递归操作逐个对词元进行处理\n",
    "        return [self.__getitem__(token) for token in tokens]\n",
    "\n",
    "    # 与上述方法同理 从id到token\n",
    "    def to_tokens(self, indices):\n",
    "        if not isinstance(indices, (list, tuple)):\n",
    "            return self.idx_to_token[indices]\n",
    "        return [self.idx_to_token[index] for index in indices]\n",
    "\n",
    "    @property\n",
    "    def unk(self):  # 未知词元的索引为0\n",
    "        return 0\n",
    "\n",
    "    @property\n",
    "    def token_freqs(self):\n",
    "        return self._token_freqs\n",
    "\n",
    "def count_corpus(tokens):  #@save\n",
    "    # 统计词元频率\n",
    "    # 对空列表和二维列表进行特使处理\n",
    "    if len(tokens) == 0 or isinstance(tokens[0], list):\n",
    "        # 将词元列表展平成一个列表\n",
    "        tokens = [token for line in tokens for token in line]\n",
    "        # 相当于\n",
    "        # flattened_tokens = []\n",
    "        # for line in tokens:\n",
    "        #     for token in line:\n",
    "        #         flattened_tokens.append(token)\n",
    "        # tokens = flattened_tokens\n",
    "    return collections.Counter(tokens)"
   ]
  },
  {
   "cell_type": "code",
   "execution_count": null,
   "id": "240f1f9a-95dd-4dc8-b367-d0a406f74a8f",
   "metadata": {},
   "outputs": [],
   "source": [
    "# count_corpus的使用\n",
    "import collections\n",
    "\n",
    "# 一维词元列表\n",
    "tokens_1d = ['the', 'time', 'machine', 'by', 'h', 'g', 'wells', 'the', 'time', 'traveller']\n",
    "\n",
    "# 统计词频\n",
    "counter = count_corpus(tokens_1d)\n",
    "print(counter)\n",
    "# 输出：Counter({'the': 2, 'time': 2, 'machine': 1, 'by': 1, 'h': 1, 'g': 1, 'wells': 1, 'traveller': 1})\n",
    "\n",
    "# 获取出现次数最多的3个词元\n",
    "print(counter.most_common(3))\n",
    "# 输出：[('the', 2), ('time', 2), ('machine', 1)]  (或其他频率相同的词元)"
   ]
  },
  {
   "cell_type": "code",
   "execution_count": 9,
   "id": "1501d478",
   "metadata": {
    "origin_pos": 12,
    "tab": [
     "pytorch"
    ]
   },
   "outputs": [
    {
     "name": "stdout",
     "output_type": "stream",
     "text": [
      "[('<unk>', 0), ('the', 1), ('i', 2), ('and', 3), ('of', 4), ('a', 5), ('to', 6), ('was', 7), ('in', 8), ('that', 9)]\n"
     ]
    }
   ],
   "source": [
    "# 构建此表 打印高频词元及其索引\n",
    "vocab = Vocab(tokens)\n",
    "print(list(vocab.token_to_idx.items())[:10])"
   ]
  },
  {
   "cell_type": "code",
   "execution_count": 10,
   "id": "f0244f09",
   "metadata": {
    "origin_pos": 14,
    "tab": [
     "pytorch"
    ]
   },
   "outputs": [
    {
     "name": "stdout",
     "output_type": "stream",
     "text": [
      "文本: ['the', 'time', 'machine', 'by', 'h', 'g', 'wells']\n",
      "索引: [1, 19, 50, 40, 2183, 2184, 400]\n",
      "文本: ['twinkled', 'and', 'his', 'usually', 'pale', 'face', 'was', 'flushed', 'and', 'animated', 'the']\n",
      "索引: [2186, 3, 25, 1044, 362, 113, 7, 1421, 3, 1045, 1]\n"
     ]
    }
   ],
   "source": [
    "# 将文本转换成数字索引列表\n",
    "for i in [0, 10]:\n",
    "    print('文本:', tokens[i])\n",
    "    print('索引:', vocab[tokens[i]])"
   ]
  },
  {
   "cell_type": "code",
   "execution_count": 12,
   "id": "578ed76f",
   "metadata": {
    "origin_pos": 16,
    "tab": [
     "pytorch"
    ]
   },
   "outputs": [
    {
     "data": {
      "text/plain": [
       "(170580, 28)"
      ]
     },
     "execution_count": 12,
     "metadata": {},
     "output_type": "execute_result"
    }
   ],
   "source": [
    "# 整合上述功能 对时光机器文本进行处理\n",
    "def load_corpus_time_machine(max_tokens=-1):  #@save\n",
    "    \"\"\"返回时光机器数据集的词元索引列表和词表\"\"\"\n",
    "    lines = read_time_machine()\n",
    "    # tokens是一个二维列表 \n",
    "    # [[字符1, 字符2, ...], [字符1, 字符2, ...], ...]\n",
    "    tokens = tokenize(lines, 'char')\n",
    "    vocab = Vocab(tokens)\n",
    "    corpus = [vocab[token] for line in tokens for token in line]\n",
    "    if max_tokens > 0:\n",
    "        corpus = corpus[:max_tokens]\n",
    "    return corpus, vocab\n",
    "\n",
    "# corpus = []\n",
    "# for line in tokens:      # 外层循环：遍历每一行\n",
    "#     for token in line:   # 内层循环：遍历行中的每个词元\n",
    "#         corpus.append(vocab[token])  # 将词元转换为索引并添加到结果列表\n",
    "# 输入tokens: 二维列表，每行包含多个词元（字符） [['t', 'h', 'e'], ['t', 'i', 'm', 'e'], ...]\n",
    "# 输出corpus: 一维列表，包含所有词元对应的索引[3, 4, 5, 3, 6, 7, 5, ...]\n",
    "corpus, vocab = load_corpus_time_machine()\n",
    "len(corpus), len(vocab)"
   ]
  }
 ],
 "metadata": {
  "kernelspec": {
   "display_name": "Python 3 (ipykernel)",
   "language": "python",
   "name": "python3"
  },
  "language_info": {
   "codemirror_mode": {
    "name": "ipython",
    "version": 3
   },
   "file_extension": ".py",
   "mimetype": "text/x-python",
   "name": "python",
   "nbconvert_exporter": "python",
   "pygments_lexer": "ipython3",
   "version": "3.13.2"
  },
  "required_libs": []
 },
 "nbformat": 4,
 "nbformat_minor": 5
}
