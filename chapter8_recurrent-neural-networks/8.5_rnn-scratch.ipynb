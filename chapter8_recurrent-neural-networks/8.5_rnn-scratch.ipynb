{
 "cells": [
  {
   "cell_type": "markdown",
   "id": "52df7352",
   "metadata": {
    "origin_pos": 0
   },
   "source": [
    "# 循环神经网络的从零开始实现"
   ]
  },
  {
   "cell_type": "code",
   "execution_count": 1,
   "id": "dafdcbcb",
   "metadata": {
    "origin_pos": 2,
    "tab": [
     "pytorch"
    ]
   },
   "outputs": [],
   "source": [
    "%matplotlib inline\n",
    "import math\n",
    "import torch\n",
    "from torch import nn\n",
    "from torch.nn import functional as F\n",
    "from d2l import torch as d2l"
   ]
  },
  {
   "cell_type": "code",
   "execution_count": 2,
   "id": "be4f5d93",
   "metadata": {
    "origin_pos": 5,
    "tab": [
     "pytorch"
    ]
   },
   "outputs": [],
   "source": [
    "batch_size, num_steps = 32, 35\n",
    "train_iter, vocab = d2l.load_data_time_machine(batch_size, num_steps)\n",
    "# 复习\n",
    "# train_iter是一个迭代器 每次调用返回一对(X, Y)\n",
    "# X 是输入序列的批次，形状为 (batch_size, num_steps)。\n",
    "# Y 是目标序列的批次，形状为 (batch_size, num_steps)。\n",
    "# vocab 是一个词汇表对象，包含了数据集中所有唯一词元及其对应的索引。\n",
    "# 包含以下属性和方法：\n",
    "# vocab[token]：返回词元 token 对应的索引。\n",
    "# vocab.to_tokens(index)：将索引转换回词元。\n",
    "# len(vocab)：返回词汇表中词元的数量。"
   ]
  },
  {
   "cell_type": "code",
   "execution_count": 3,
   "id": "7f91a56d-266d-4a21-87c1-ea5fd0295386",
   "metadata": {},
   "outputs": [
    {
     "name": "stdout",
     "output_type": "stream",
     "text": [
      "tensor([[13,  4, 15,  ...,  4, 22,  2],\n",
      "        [ 2,  1, 21,  ...,  1,  5,  6],\n",
      "        [ 4,  6,  1,  ..., 12, 19,  4],\n",
      "        ...,\n",
      "        [10,  2, 10,  ..., 16,  7, 10],\n",
      "        [12,  5,  6,  ...,  1,  2, 24],\n",
      "        [ 5,  8, 13,  ...,  4,  3,  1]])\n",
      "torch.Size([32, 35])\n",
      "tensor([[ 4, 15,  9,  ..., 22,  2, 12],\n",
      "        [ 1, 21, 14,  ...,  5,  6,  1],\n",
      "        [ 6,  1, 16,  ..., 19,  4, 11],\n",
      "        ...,\n",
      "        [ 2, 10,  1,  ...,  7, 10,  2],\n",
      "        [ 5,  6,  2,  ...,  2, 24, 20],\n",
      "        [ 8, 13,  3,  ...,  3,  1, 11]])\n",
      "['<unk>', ' ', 'e', 't', 'a', 'i', 'n', 'o', 's', 'h']\n",
      "{'<unk>': 0, ' ': 1, 'e': 2, 't': 3, 'a': 4, 'i': 5, 'n': 6, 'o': 7, 's': 8, 'h': 9, 'r': 10, 'd': 11, 'l': 12, 'm': 13, 'u': 14, 'c': 15, 'f': 16, 'w': 17, 'g': 18, 'y': 19, 'p': 20, 'b': 21, 'v': 22, 'k': 23, 'x': 24, 'z': 25, 'j': 26, 'q': 27}\n"
     ]
    }
   ],
   "source": [
    "# 查看词汇表中的一些词元\n",
    "# 默认是字符集映射的\n",
    "temp_train_iter, temp_vocab = d2l.load_data_time_machine(batch_size, num_steps)\n",
    "tx,ty = next(iter(temp_train_iter))\n",
    "print(tx)\n",
    "print(tx.shape)\n",
    "print(ty)\n",
    "print(temp_vocab.idx_to_token[:10])  # 显示前10个词元\n",
    "print(temp_vocab.token_to_idx)  # 显示词元到索引的映射"
   ]
  },
  {
   "cell_type": "code",
   "execution_count": 4,
   "id": "c5725a77",
   "metadata": {
    "origin_pos": 9,
    "tab": [
     "pytorch"
    ]
   },
   "outputs": [
    {
     "data": {
      "text/plain": [
       "tensor([[1, 0, 0, 0, 0, 0, 0, 0, 0, 0, 0, 0, 0, 0, 0, 0, 0, 0, 0, 0, 0, 0, 0, 0,\n",
       "         0, 0, 0, 0],\n",
       "        [0, 0, 1, 0, 0, 0, 0, 0, 0, 0, 0, 0, 0, 0, 0, 0, 0, 0, 0, 0, 0, 0, 0, 0,\n",
       "         0, 0, 0, 0]])"
      ]
     },
     "execution_count": 4,
     "metadata": {},
     "output_type": "execute_result"
    }
   ],
   "source": [
    "# 独热编码\n",
    "# 将 [0, 2] 转换为独热编码，使用词汇表 vocab 的长度作为独热编码的深度。\n",
    "F.one_hot(torch.tensor([0, 2]), len(vocab))"
   ]
  },
  {
   "cell_type": "code",
   "execution_count": 5,
   "id": "60a49de8",
   "metadata": {
    "origin_pos": 14,
    "tab": [
     "pytorch"
    ]
   },
   "outputs": [
    {
     "data": {
      "text/plain": [
       "torch.Size([5, 2, 28])"
      ]
     },
     "execution_count": 5,
     "metadata": {},
     "output_type": "execute_result"
    }
   ],
   "source": [
    "# 小批量数据形状是（批量大小，时间步数）\n",
    "# one_hot函数将其转化为三维张量  （时间步数，批量大小，词表大小）\n",
    "X = torch.arange(10).reshape((2, 5))\n",
    "F.one_hot(X.T, 28).shape"
   ]
  },
  {
   "cell_type": "code",
   "execution_count": 6,
   "id": "a8ad7abe",
   "metadata": {
    "origin_pos": 19,
    "tab": [
     "pytorch"
    ]
   },
   "outputs": [],
   "source": [
    "# 初始化模型参数\n",
    "def get_params(vocab_size, num_hiddens, device):\n",
    "    # 输出输出等于词表大小\n",
    "    num_inputs = num_outputs = vocab_size\n",
    "\n",
    "    # 定义一个函数，用于生成正态分布随机数并乘以0.01\n",
    "    def normal(shape):\n",
    "        return torch.randn(size=shape, device=device) * 0.01\n",
    "\n",
    "    # 隐藏层参数\n",
    "    W_xh = normal((num_inputs, num_hiddens))\n",
    "    W_hh = normal((num_hiddens, num_hiddens))\n",
    "    b_h = torch.zeros(num_hiddens, device=device)\n",
    "    # 输出层参数\n",
    "    W_hq = normal((num_hiddens, num_outputs))\n",
    "    b_q = torch.zeros(num_outputs, device=device)\n",
    "    # 附加梯度\n",
    "    params = [W_xh, W_hh, b_h, W_hq, b_q]\n",
    "    for param in params:\n",
    "        param.requires_grad_(True)\n",
    "    return params"
   ]
  },
  {
   "cell_type": "code",
   "execution_count": 7,
   "id": "e310bbed",
   "metadata": {
    "origin_pos": 24,
    "tab": [
     "pytorch"
    ]
   },
   "outputs": [],
   "source": [
    "# 在初始化时返回隐状态\n",
    "# 形状（批量大小，隐藏单元数）\n",
    "def init_rnn_state(batch_size, num_hiddens, device):\n",
    "    return (torch.zeros((batch_size, num_hiddens), device=device), )"
   ]
  },
  {
   "cell_type": "code",
   "execution_count": 8,
   "id": "84a46eb3",
   "metadata": {
    "origin_pos": 29,
    "tab": [
     "pytorch"
    ]
   },
   "outputs": [],
   "source": [
    "# 在一个时间步内计算隐状态和输出\n",
    "def rnn(inputs, state, params):\n",
    "    # inputs的形状：(时间步数量，批量大小，词表大小) 进行独热编码的结果\n",
    "    # 参数解包\n",
    "    W_xh, W_hh, b_h, W_hq, b_q = params\n",
    "    # 隐状态解包\n",
    "    H, = state\n",
    "    outputs = []\n",
    "    # X的形状：(批量大小，词表大小)\n",
    "    for X in inputs:\n",
    "        H = torch.tanh(torch.mm(X, W_xh) + torch.mm(H, W_hh) + b_h)\n",
    "        Y = torch.mm(H, W_hq) + b_q\n",
    "        outputs.append(Y)\n",
    "    return torch.cat(outputs, dim=0), (H,)\n",
    "# torch.cat(outputs, dim=0): 将所有时间步的输出在维度0上连接，得到形状为(时间步数量*批量大小，词表大小)的张量\n",
    "# (H,): 返回最终的隐藏状态作为元组"
   ]
  },
  {
   "cell_type": "code",
   "execution_count": 9,
   "id": "a45ae30c",
   "metadata": {
    "origin_pos": 34,
    "tab": [
     "pytorch"
    ]
   },
   "outputs": [],
   "source": [
    "# 循环神经网络类\n",
    "class RNNModelScratch: #@save\n",
    "    def __init__(self, vocab_size, num_hiddens, device,\n",
    "                 get_params, init_state, forward_fn):\n",
    "        self.vocab_size, self.num_hiddens = vocab_size, num_hiddens\n",
    "        self.params = get_params(vocab_size, num_hiddens, device)\n",
    "        # 即上方的函数\n",
    "        self.init_state, self.forward_fn = init_state, forward_fn\n",
    "\n",
    "    def __call__(self, X, state):\n",
    "        X = F.one_hot(X.T, self.vocab_size).type(torch.float32)\n",
    "        return self.forward_fn(X, state, self.params)\n",
    "\n",
    "    def begin_state(self, batch_size, device):\n",
    "        return self.init_state(batch_size, self.num_hiddens, device)"
   ]
  },
  {
   "cell_type": "code",
   "execution_count": 10,
   "id": "83809e58",
   "metadata": {
    "origin_pos": 39,
    "tab": [
     "pytorch"
    ]
   },
   "outputs": [
    {
     "data": {
      "text/plain": [
       "(torch.Size([10, 28]), 1, torch.Size([2, 512]))"
      ]
     },
     "execution_count": 10,
     "metadata": {},
     "output_type": "execute_result"
    }
   ],
   "source": [
    "# 检查输入输出是否符合对应的维度\n",
    "# len(vocab)=28\n",
    "num_hiddens = 512\n",
    "net = RNNModelScratch(len(vocab), num_hiddens, d2l.try_gpu(), get_params,\n",
    "                      init_rnn_state, rnn)\n",
    "# X是上面定义的测试 (2,5)\n",
    "# state是包含1个元素的元组，元素形状为 (2, 512)\n",
    "\n",
    "state = net.begin_state(X.shape[0], d2l.try_gpu())\n",
    "# 在 __call__ 方法中，X.T 形状变为 (5, 2)\n",
    "# 独热编码后形状为 (5,2,28)\n",
    "# 在 rnn 函数中，按时间步迭代:\n",
    "# 每个时间步的 X 形状是 (2, 28)\n",
    "# 隐藏状态 H 形状是 (2, 512)\n",
    "# 每个时间步的输出 Y 形状是 (2, 28)\n",
    "# 所有时间步的输出连接后 torch.cat(outputs, dim=0) 形状为 (5*2, 28) = (10, 28)\n",
    "# 最终隐藏状态 new_state 仍是包含1个元素的元组，元素形状为 (2, 512)\n",
    "Y, new_state = net(X.to(d2l.try_gpu()), state)\n",
    "Y.shape, len(new_state), new_state[0].shape"
   ]
  },
  {
   "cell_type": "markdown",
   "id": "d27adf47-1d47-4a3e-99bc-baaa4906a1ab",
   "metadata": {},
   "source": [
    "# RNN模型中的形状详解\n",
    "\n",
    "## 基本参数和变量\n",
    "\n",
    "### 词汇和隐藏状态维度\n",
    "- **vocab_size**: 词汇表大小\n",
    "- **num_hiddens**: 隐藏单元数量\n",
    "\n",
    "### 输入数据\n",
    "- **X**: 形状为 `(batch_size, num_steps)`\n",
    "  - 第一维：批量大小，表示同时处理的序列数量\n",
    "  - 第二维：时间步数，表示每个序列的长度\n",
    "\n",
    "## 模型参数形状\n",
    "\n",
    "### 权重矩阵和偏置\n",
    "- **W_xh**: `(vocab_size, num_hiddens)`\n",
    "  - 输入到隐藏层的权重\n",
    "- **W_hh**: `(num_hiddens, num_hiddens)`\n",
    "  - 隐藏层到隐藏层的权重（循环连接）\n",
    "- **b_h**: `(num_hiddens,)`\n",
    "  - 隐藏层的偏置\n",
    "- **W_hq**: `(num_hiddens, vocab_size)`\n",
    "  - 隐藏层到输出层的权重\n",
    "- **b_q**: `(vocab_size,)`\n",
    "  - 输出层的偏置\n",
    "\n",
    "## 数据流转换过程\n",
    "\n",
    "### 初始化\n",
    "- **state**: 返回元组 `(H,)`，其中 H 形状为 `(batch_size, num_hiddens)`\n",
    "  - 每个批次样本都有自己的隐藏状态向量\n",
    "\n",
    "### 前向传播过程\n",
    "1. **输入转换**:\n",
    "   - **X.T**: `(num_steps, batch_size)`\n",
    "   - **F.one_hot(X.T, vocab_size)**: `(num_steps, batch_size, vocab_size)`\n",
    "\n",
    "2. **RNN循环处理**:\n",
    "   - 迭代每个时间步:\n",
    "     - 单个时间步的 **X**: `(batch_size, vocab_size)`\n",
    "     - 隐藏状态 **H**: `(batch_size, num_hiddens)`\n",
    "     - 单个时间步的输出 **Y**: `(batch_size, vocab_size)`\n",
    "\n",
    "3. **最终输出**:\n",
    "   - **Y** (连接所有时间步): `(num_steps * batch_size, vocab_size)`\n",
    "     - 注意这里的维度是将所有时间步的输出堆叠在一起\n",
    "   - **new_state**: 元组 `(H,)`，其中 H 形状为 `(batch_size, num_hiddens)`\n",
    "     - 只保留最后一个时间步的隐藏状态\n",
    "\n",
    "## 维度变换的关键点\n",
    "1. 转置操作 `X.T` 将时间步放在第一维，便于按时间步迭代\n",
    "2. 独热编码将整数索引转换为向量表示\n",
    "3. 输出连接 (`torch.cat`) 将所有时间步结果连接成一个大张量\n",
    "4. 隐藏状态保持为元组，便于扩展到更复杂的RNN变种(如LSTM)"
   ]
  },
  {
   "cell_type": "code",
   "execution_count": 19,
   "id": "a98020e1",
   "metadata": {
    "origin_pos": 44,
    "tab": [
     "pytorch"
    ]
   },
   "outputs": [],
   "source": [
    "# 进行预测 参数内容(前缀字符串 要生成的字符数量 网络模型 词汇表 计算设备)\n",
    "def predict_ch8(prefix, num_preds, net, vocab, device):  #@save\n",
    "    # batch_size=1 表示一次只预测一个序列\n",
    "    # 返回形状为 (1, num_hiddens) 的隐藏状态张量，作为元组 (H,)\n",
    "    state = net.begin_state(batch_size=1, device=device)\n",
    "    # outputs 是一个列表，包含前缀第一个字符的索引 t对应的索引是3 所以 outputs = [3]\n",
    "    outputs = [vocab[prefix[0]]]\n",
    "    # 获得outputs列表中的最后一个元素 并将其转化成(1,1)的向量\n",
    "    get_input = lambda: torch.tensor([outputs[-1]], device=device).reshape((1, 1))\n",
    "    # 虽然outputs初始化时只有一个元素，但在每次生成新的字符后，这个列表会不断增长。\n",
    "    # 因此取outputs列表中的最后一个元素是为了获取最近生成的字符索引，并将其作为下一步的输入。\n",
    "    \n",
    "    # 遍历 prefix 中从第二个字符开始的每个字符。\n",
    "    # 进行预热 \n",
    "    # 预热是指在正式开始生成新字符之前，使用前缀字符来驱动 RNN 网络。\n",
    "    # 通过预热期，RNN 网络可以根据前缀字符来更新其隐藏状态，从而提供一个更好的初始条件给后续的字符生成过程。\n",
    "    # 这样可以使生成的新字符更符合前缀的上下文。\n",
    "    for y in prefix[1:]: \n",
    "        _, state = net(get_input(), state)\n",
    "        # 更新隐藏状态 state 并将当前字符的索引添加到 outputs 列表。\n",
    "        outputs.append(vocab[y])\n",
    "    # 预测num_preds步    \n",
    "    for _ in range(num_preds):  # 预测num_preds步\n",
    "        y, state = net(get_input(), state)\n",
    "        outputs.append(int(y.argmax(dim=1).reshape(1)))\n",
    "    # 展示内容\n",
    "    return ''.join([vocab.idx_to_token[i] for i in outputs])"
   ]
  },
  {
   "cell_type": "code",
   "execution_count": 20,
   "id": "8ea33551",
   "metadata": {
    "origin_pos": 48,
    "tab": [
     "pytorch"
    ]
   },
   "outputs": [
    {
     "data": {
      "text/plain": [
       "'time traveller vwzs<unk>f<unk>dlv'"
      ]
     },
     "execution_count": 20,
     "metadata": {},
     "output_type": "execute_result"
    }
   ],
   "source": [
    "# 测试输出\n",
    "predict_ch8('time traveller ', 10, net, vocab, d2l.try_gpu())"
   ]
  },
  {
   "cell_type": "code",
   "execution_count": 21,
   "id": "997a02ea",
   "metadata": {
    "origin_pos": 52,
    "tab": [
     "pytorch"
    ]
   },
   "outputs": [],
   "source": [
    "# 梯度裁剪函数\n",
    "def grad_clipping(net, theta):  \n",
    "    # 获取所有参数\n",
    "    # nn.Module实例通过遍历获取其中的参数列表\n",
    "    if isinstance(net, nn.Module):\n",
    "        params = [p for p in net.parameters() if p.requires_grad]\n",
    "    else:\n",
    "        # 如果不是的话就假设有这个参数\n",
    "        params = net.params\n",
    "    # 计算所有梯度参数的L2范数\n",
    "    norm = torch.sqrt(sum(torch.sum((p.grad ** 2)) for p in params))\n",
    "    if norm > theta:\n",
    "        # 如果梯度范数 norm 超过了阈值 theta，则对每个参数的梯度进行缩放(乘theta / norm)。\n",
    "        for param in params:\n",
    "            param.grad[:] *= theta / norm"
   ]
  },
  {
   "metadata": {},
   "cell_type": "code",
   "outputs": [],
   "execution_count": null,
   "source": [
    "# 训练代码从零开始实现\n",
    "def train_epoch_ch8(net, train_iter, loss, updater, device, use_random_iter):\n",
    "    state, timer = None, d2l.Timer()\n",
    "    metric = d2l.Accumulator(2)  # 训练损失之和,词元数量\n",
    "    for X, Y in train_iter:\n",
    "        if state is None or use_random_iter:\n",
    "            # 在第一次迭代或使用随机抽样时初始化state\n",
    "            state = net.begin_state(batch_size=X.shape[0], device=device)\n",
    "        else:\n",
    "            if isinstance(net, nn.Module) and not isinstance(state, tuple):\n",
    "                # 对于 nn.GRU，隐状态是一个单独的张量。我们需要在每个时间步之后调用 detach_() 方法，将隐状态从计算图中分离出来。\n",
    "                state.detach_()\n",
    "            else:\n",
    "                #对于 nn.LSTM，隐状态是一个包含两个张量的元组，分别表示短期记忆（cell state）和长期记忆（hidden state）。\n",
    "                # 我们需要对元组中的每个张量调用 detach_() 方法，将它们从计算图中分离出来。\n",
    "                for s in state:\n",
    "                    s.detach_()\n",
    "\n",
    "        # 将目标张量 Y 转置并展平为一维张量，以便用于计算损失\n",
    "        # 在时间序列模型中，输出通常是一个二维张量，其中一维是时间步，另一维是批量大小\n",
    "        y = Y.T.reshape(-1)\n",
    "        # 将输入和目标数据移动到指定设备上\n",
    "        X, y = X.to(device), y.to(device)\n",
    "        # 计算模型的输出和新的隐状态\n",
    "        y_hat, state = net(X, state)\n",
    "        # 计算损失\n",
    "        l = loss(y_hat, y.long()).mean()\n",
    "        # 如果 updater 是一个 PyTorch 优化器，则清除梯度，反向传播计算梯度，进行梯度裁剪，并更新模型参数。\n",
    "        if isinstance(updater, torch.optim.Optimizer):\n",
    "            updater.zero_grad()\n",
    "            l.backward()\n",
    "            grad_clipping(net, 1)\n",
    "            updater.step()\n",
    "        else:\n",
    "            l.backward()\n",
    "            grad_clipping(net, 1)\n",
    "            # 因为已经调用了mean函数\n",
    "            updater(batch_size=1)\n",
    "        metric.add(l * y.numel(), y.numel())\n",
    "    return math.exp(metric[0] / metric[1]), metric[1] / timer.stop()\n"
   ],
   "id": "27fe3484026a411c"
  },
  {
   "metadata": {},
   "cell_type": "code",
   "outputs": [],
   "execution_count": null,
   "source": [
    "# 使用高级API实现训练器\n",
    "def train_ch8(net, train_iter, vocab, lr, num_epochs, device,\n",
    "              use_random_iter=False):\n",
    "    loss = nn.CrossEntropyLoss()\n",
    "    animator = d2l.Animator(xlabel='epoch', ylabel='perplexity',\n",
    "                            legend=['train'], xlim=[10, num_epochs])\n",
    "    # 初始化\n",
    "    if isinstance(net, nn.Module):\n",
    "        updater = torch.optim.SGD(net.parameters(), lr)\n",
    "    else:\n",
    "        updater = lambda batch_size: d2l.sgd(net.params, lr, batch_size)\n",
    "    predict = lambda prefix: predict_ch8(prefix, 50, net, vocab, device)\n",
    "    # 训练和预测\n",
    "    for epoch in range(num_epochs):\n",
    "        ppl, speed = train_epoch_ch8(\n",
    "            net, train_iter, loss, updater, device, use_random_iter)\n",
    "        if (epoch + 1) % 10 == 0:\n",
    "            print(predict('time traveller'))\n",
    "            animator.add(epoch + 1, [ppl])\n",
    "    print(f'困惑度 {ppl:.1f}, {speed:.1f} 词元/秒 {str(device)}')\n",
    "    print(predict('time traveller'))\n",
    "    print(predict('traveller'))"
   ],
   "id": "6f691b4875cd1478"
  },
  {
   "metadata": {},
   "cell_type": "code",
   "outputs": [],
   "execution_count": null,
   "source": [
    "# 进行训练\n",
    "num_epochs, lr = 500, 1\n",
    "train_ch8(net, train_iter, vocab, lr, num_epochs, d2l.try_gpu())"
   ],
   "id": "366c6569257d4c6e"
  },
  {
   "metadata": {},
   "cell_type": "code",
   "outputs": [],
   "execution_count": null,
   "source": [
    "# 使用随机抽样方法\n",
    "net = RNNModelScratch(len(vocab), num_hiddens, d2l.try_gpu(), get_params,\n",
    "                      init_rnn_state, rnn)\n",
    "train_ch8(net, train_iter, vocab, lr, num_epochs, d2l.try_gpu(),\n",
    "          use_random_iter=True)"
   ],
   "id": "73da935d59729f01"
  }
 ],
 "metadata": {
  "kernelspec": {
   "display_name": "Python 3 (ipykernel)",
   "language": "python",
   "name": "python3"
  },
  "language_info": {
   "codemirror_mode": {
    "name": "ipython",
    "version": 3
   },
   "file_extension": ".py",
   "mimetype": "text/x-python",
   "name": "python",
   "nbconvert_exporter": "python",
   "pygments_lexer": "ipython3",
   "version": "3.13.2"
  },
  "required_libs": []
 },
 "nbformat": 4,
 "nbformat_minor": 5
}
