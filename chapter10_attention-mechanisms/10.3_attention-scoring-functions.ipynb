{
 "cells": [
  {
   "cell_type": "code",
   "id": "77bfe8f0",
   "metadata": {
    "execution": {
     "iopub.execute_input": "2023-08-18T06:58:57.046810Z",
     "iopub.status.busy": "2023-08-18T06:58:57.045981Z",
     "iopub.status.idle": "2023-08-18T06:59:00.174680Z",
     "shell.execute_reply": "2023-08-18T06:59:00.173514Z"
    },
    "origin_pos": 2,
    "tab": [
     "pytorch"
    ],
    "ExecuteTime": {
     "end_time": "2025-04-10T02:57:02.281290Z",
     "start_time": "2025-04-10T02:57:02.275697Z"
    }
   },
   "source": [
    "import math\n",
    "import torch\n",
    "from torch import nn\n",
    "from d2l import torch as d2l"
   ],
   "outputs": [],
   "execution_count": 13
  },
  {
   "metadata": {
    "ExecuteTime": {
     "end_time": "2025-04-10T02:57:04.232284Z",
     "start_time": "2025-04-10T02:57:04.222161Z"
    }
   },
   "cell_type": "code",
   "source": [
    "from matplotlib import pyplot as plt\n",
    "\n",
    "\n",
    "# 实现注意力的可视化\n",
    "# 输入matrices的形状是（要显示的行数，要显示的列数，查询的数目，键的数目）\n",
    "# 每个矩阵（查询数目 × 键数目）对应一个子图。\n",
    "\n",
    "def show_heatmaps(matrices, xlabel, ylabel, titles=None, figsize=(2.5, 2.5), cmap='Reds'):\n",
    "    \"\"\"显示矩阵热图\"\"\"\n",
    "    # 使用 Matplotlib 的 rcParams 来设置 SVG 格式\n",
    "    plt.rcParams['figure.dpi'] = 120  # 调整分辨率\n",
    "    plt.rcParams['savefig.format'] = 'svg'  # 设置保存格式为 SVG\n",
    "\n",
    "    # 获取矩阵的行列数\n",
    "    num_rows, num_cols = matrices.shape[0], matrices.shape[1]\n",
    "\n",
    "    # 绘图相关参数讲解\n",
    "    # num_rows, num_cols 子图网格的行列数\n",
    "    # figsize 整个图像的宽度和高度\n",
    "    # sharex=True, sharey=True 所有子图共享相同的x轴刻度\n",
    "    # squeeze=False 无论子图网格的形状如何，axes 始终是一个二维数组。\n",
    "    fig, axes = plt.subplots(num_rows, num_cols, figsize=figsize, sharex=True, sharey=True, squeeze=False)\n",
    "    # axes 的形状：(num_rows, num_cols)\n",
    "\n",
    "    # 遍历每一行的子图和对应的矩阵\n",
    "    for i, (row_axes, row_matrices) in enumerate(zip(axes, matrices)):\n",
    "        # 遍历每一列的子图和对应的矩阵\n",
    "        for j, (ax, matrix) in enumerate(zip(row_axes, row_matrices)):\n",
    "            pcm = ax.imshow(matrix.detach().numpy(), cmap=cmap)\n",
    "            if i == num_rows - 1:\n",
    "                ax.set_xlabel(xlabel)\n",
    "            if j == 0:\n",
    "                ax.set_ylabel(ylabel)\n",
    "            if titles:\n",
    "                ax.set_title(titles[j])\n",
    "\n",
    "    # 添加颜色条\n",
    "    fig.colorbar(pcm, ax=axes, shrink=0.6)\n",
    "    plt.show()"
   ],
   "id": "f66435b08efa5eb3",
   "outputs": [],
   "execution_count": 15
  },
  {
   "cell_type": "code",
   "id": "3be54330",
   "metadata": {
    "execution": {
     "iopub.execute_input": "2023-08-18T06:59:00.180834Z",
     "iopub.status.busy": "2023-08-18T06:59:00.179926Z",
     "iopub.status.idle": "2023-08-18T06:59:00.189306Z",
     "shell.execute_reply": "2023-08-18T06:59:00.188185Z"
    },
    "origin_pos": 7,
    "tab": [
     "pytorch"
    ],
    "ExecuteTime": {
     "end_time": "2025-04-10T02:57:06.891629Z",
     "start_time": "2025-04-10T02:57:06.883959Z"
    }
   },
   "source": [
    "# 通过在最后一个轴上掩蔽元素来执行softmax操作\n",
    "def masked_softmax(X, valid_lens):\n",
    "    # X：一个 3D 张量（通常表示批量数据的某种特征矩阵或注意力分数）\n",
    "    #valid_lens：合法长度，可以是 1D 或 2D 张量，用于指定每个序列的有效长度（非填充部分）\n",
    "    if valid_lens is None:\n",
    "        # 无遮掩 直接进行Softmax\n",
    "        return nn.functional.softmax(X, dim=-1)\n",
    "    else:\n",
    "        shape = X.shape\n",
    "        if valid_lens.dim() == 1:\n",
    "            # 如果 valid_lens 是 1D 张量，则将其重复扩展到与 X 的第二维度（shape[1]）一致\n",
    "            valid_lens = torch.repeat_interleave(valid_lens, shape[1])\n",
    "        else:\n",
    "            # 如果 valid_lens 是 2D 张量，则将其展平为 1D 张量\n",
    "            valid_lens = valid_lens.reshape(-1)\n",
    "        # 最后一轴上被掩蔽的元素使用一个非常大的负值替换，从而其softmax输出为0\n",
    "        X = d2l.sequence_mask(X.reshape(-1, shape[-1]), valid_lens,\n",
    "                              value=-1e6)\n",
    "        return nn.functional.softmax(X.reshape(shape), dim=-1)"
   ],
   "outputs": [],
   "execution_count": 16
  },
  {
   "metadata": {
    "execution": {
     "iopub.execute_input": "2023-08-18T06:59:00.194266Z",
     "iopub.status.busy": "2023-08-18T06:59:00.193661Z",
     "iopub.status.idle": "2023-08-18T06:59:00.238157Z",
     "shell.execute_reply": "2023-08-18T06:59:00.237124Z"
    },
    "origin_pos": 12,
    "tab": [
     "pytorch"
    ],
    "ExecuteTime": {
     "end_time": "2025-04-10T02:57:08.429727Z",
     "start_time": "2025-04-10T02:57:08.419280Z"
    }
   },
   "cell_type": "code",
   "source": [
    "# 使用小样本进行演示\n",
    "# (批量大小,序列长度,特征维度)\n",
    "# 两个样本的有效长度分别为2和3\n",
    "masked_softmax(torch.rand(2, 2, 4), torch.tensor([2, 3]))"
   ],
   "id": "5f3b0b7f",
   "outputs": [
    {
     "data": {
      "text/plain": [
       "tensor([[[0.2941, 0.7059, 0.0000, 0.0000],\n",
       "         [0.4747, 0.5253, 0.0000, 0.0000]],\n",
       "\n",
       "        [[0.3180, 0.3776, 0.3044, 0.0000],\n",
       "         [0.3884, 0.2414, 0.3703, 0.0000]]])"
      ]
     },
     "execution_count": 17,
     "metadata": {},
     "output_type": "execute_result"
    }
   ],
   "execution_count": 17
  },
  {
   "metadata": {
    "execution": {
     "iopub.execute_input": "2023-08-18T06:59:00.245983Z",
     "iopub.status.busy": "2023-08-18T06:59:00.244094Z",
     "iopub.status.idle": "2023-08-18T06:59:00.257237Z",
     "shell.execute_reply": "2023-08-18T06:59:00.256163Z"
    },
    "origin_pos": 17,
    "tab": [
     "pytorch"
    ],
    "ExecuteTime": {
     "end_time": "2025-04-10T02:19:10.576272Z",
     "start_time": "2025-04-10T02:19:10.565409Z"
    }
   },
   "cell_type": "code",
   "outputs": [
    {
     "data": {
      "text/plain": [
       "tensor([[[1.0000, 0.0000, 0.0000, 0.0000],\n",
       "         [0.2408, 0.4528, 0.3064, 0.0000]],\n",
       "\n",
       "        [[0.5330, 0.4670, 0.0000, 0.0000],\n",
       "         [0.2736, 0.2137, 0.1850, 0.3277]]])"
      ]
     },
     "execution_count": 5,
     "metadata": {},
     "output_type": "execute_result"
    }
   ],
   "execution_count": 5,
   "source": "masked_softmax(torch.rand(2, 2, 4), torch.tensor([[1, 3], [2, 4]]))",
   "id": "0296eee3"
  },
  {
   "metadata": {
    "ExecuteTime": {
     "end_time": "2025-04-10T03:26:19.683431Z",
     "start_time": "2025-04-10T03:26:19.676557Z"
    }
   },
   "cell_type": "code",
   "source": [
    "# 加性注意力的实现\n",
    "class AdditiveAttention(nn.Module):\n",
    "    def __init__(self, key_size, query_size, num_hiddens, dropout, **kwargs):\n",
    "        super(AdditiveAttention, self).__init__(**kwargs)\n",
    "        self.W_k = nn.Linear(key_size, num_hiddens, bias=False)\n",
    "        self.W_q = nn.Linear(query_size, num_hiddens, bias=False)\n",
    "        self.w_v = nn.Linear(num_hiddens, 1, bias=False)\n",
    "        self.dropout = nn.Dropout(dropout)\n",
    "\n",
    "    def forward(self, queries, keys, values, valid_lens):\n",
    "        # 输入: queries(2, 1, 20)  keys(2, 10, 2)\n",
    "        # W_q(query_size, num_hiddens) = (20, 8)\n",
    "        # queries = W_q* queries (2, 1, 20)->(2, 1, 20)*(20, 8)->(2, 1, 8)\n",
    "        # 输入: keys(2, 10, 2)\n",
    "        # w_k(key_size, num_hiddens) = (2, 8)\n",
    "        # keys = W_k* keys (2, 10, 2)->(2, 10, 2)*(2, 8)->(2, 10, 8)\n",
    "        queries, keys = self.W_q(queries), self.W_k(keys)\n",
    "        # queries.unsqueeze(2) (2, 1, 8)->(2, 1, 1, 8)\n",
    "        # keys.unsqueeze(1) (2, 10, 8) -> (2, 1, 10, 8)\n",
    "        # 广播 features=(2, 1, 1, 8)+(2, 1, 10, 8)= (2, 1, 10, 8)\n",
    "        # 扩展维度的目的是为了计算查询和键之间的所有组合关系\n",
    "        features = queries.unsqueeze(2) + keys.unsqueeze(1)\n",
    "        # 输入激活函数改变维度\n",
    "        features = torch.tanh(features)\n",
    "        # w_v (8, 1)\n",
    "        # features*w_v 然后清除最后一个维度 (2, 1, 10, 8)*(8, 1) = (2, 1, 10, 1)->(2, 1, 10)\n",
    "        scores = self.w_v(features).squeeze(-1)\n",
    "        # 进行遮蔽 不影响形状\n",
    "        self.attention_weights = masked_softmax(scores, valid_lens)\n",
    "        # 进行批量矩阵乘法 (2, 1, 10)*(2, 10, 4)-> (2, 1, 4) 输出结果因为进行的是批量矩阵乘法\n",
    "        return torch.bmm(self.dropout(self.attention_weights), values)"
   ],
   "id": "1678907ad7fc4ce9",
   "outputs": [],
   "execution_count": 24
  },
  {
   "cell_type": "code",
   "id": "764a05d4",
   "metadata": {
    "execution": {
     "iopub.execute_input": "2023-08-18T06:59:00.284992Z",
     "iopub.status.busy": "2023-08-18T06:59:00.283120Z",
     "iopub.status.idle": "2023-08-18T06:59:00.309249Z",
     "shell.execute_reply": "2023-08-18T06:59:00.308150Z"
    },
    "origin_pos": 27,
    "tab": [
     "pytorch"
    ],
    "ExecuteTime": {
     "end_time": "2025-04-10T03:21:36.459312Z",
     "start_time": "2025-04-10T03:21:36.446825Z"
    }
   },
   "source": [
    "# 计算过程详解\n",
    "# queries = torch.normal(0, 1, (2, 1, 20))\n",
    "# 形状: (batch_size, num_queries, query_size) = (2, 1, 20)  两个批量 每个批量一个查询 查询特征维度20\n",
    "# keys = torch.ones((2, 10, 2))\n",
    "# 形状: (batch_size, num_keys, key_size) = (2, 10, 2) 两个批量 每个批量有十个键 键特征维度2\n",
    "queries, keys = torch.normal(0, 1, (2, 1, 20)), torch.ones((2, 10, 2))\n",
    "# values形状: (batch_size, num_keys, value_dim) = (2, 10, 4) 两个批量 每个批量有十个值 键特征维度4\n",
    "# 使用repeat使得每个批量对应的值是相同的\n",
    "values = torch.arange(40, dtype=torch.float32).reshape(1, 10, 4).repeat(\n",
    "    2, 1, 1)\n",
    "# 定义有效长度\n",
    "valid_lens = torch.tensor([2, 6])\n",
    "# 初始化\n",
    "attention = AdditiveAttention(key_size=2, query_size=20, num_hiddens=8,\n",
    "                              dropout=0.1)\n",
    "attention.eval()\n",
    "# 计算过程详见实现类前向传播过程\n",
    "attention(queries, keys, values, valid_lens).size()"
   ],
   "outputs": [
    {
     "data": {
      "text/plain": [
       "torch.Size([2, 1, 4])"
      ]
     },
     "execution_count": 23,
     "metadata": {},
     "output_type": "execute_result"
    }
   ],
   "execution_count": 23
  },
  {
   "cell_type": "code",
   "id": "2cc35bc4",
   "metadata": {
    "execution": {
     "iopub.execute_input": "2023-08-18T06:59:00.316794Z",
     "iopub.status.busy": "2023-08-18T06:59:00.315016Z",
     "iopub.status.idle": "2023-08-18T06:59:00.531804Z",
     "shell.execute_reply": "2023-08-18T06:59:00.530673Z"
    },
    "origin_pos": 31,
    "tab": [
     "pytorch"
    ],
    "ExecuteTime": {
     "end_time": "2025-04-10T02:57:19.226542Z",
     "start_time": "2025-04-10T02:57:19.173024Z"
    }
   },
   "source": [
    "# 尽管加性注意力包含了可学习的参数，但由于本例子中每个键都是相同的，所以注意力权重是均匀的，由指定的有效长度决定。\n",
    "show_heatmaps(attention.attention_weights.reshape((1, 1, 2, 10)),\n",
    "                  xlabel='Keys', ylabel='Queries')"
   ],
   "outputs": [
    {
     "data": {
      "text/plain": [
       "<Figure size 300x300 with 2 Axes>"
      ],
      "image/png": "[encoded data removed]"
     },
     "metadata": {},
     "output_type": "display_data"
    }
   ],
   "execution_count": 20
  },
  {
   "cell_type": "code",
   "id": "974ab3dd",
   "metadata": {
    "execution": {
     "iopub.execute_input": "2023-08-18T06:59:00.537439Z",
     "iopub.status.busy": "2023-08-18T06:59:00.536367Z",
     "iopub.status.idle": "2023-08-18T06:59:00.545728Z",
     "shell.execute_reply": "2023-08-18T06:59:00.544563Z"
    },
    "origin_pos": 34,
    "tab": [
     "pytorch"
    ],
    "ExecuteTime": {
     "end_time": "2025-04-10T03:49:20.649933Z",
     "start_time": "2025-04-10T03:49:20.642042Z"
    }
   },
   "source": [
    "# 缩放点积注意力的实现\n",
    "class DotProductAttention(nn.Module):\n",
    "    def __init__(self, dropout, **kwargs):\n",
    "        super(DotProductAttention, self).__init__(**kwargs)\n",
    "        self.dropout = nn.Dropout(dropout)\n",
    "# keys = torch.ones((2, 10, 2))\n",
    "# 形状: (batch_size, num_keys, key_size) = (2, 10, 2) 两个批量 每个批量有十个键 键特征维度2\n",
    "# values形状: (batch_size, num_keys, value_dim) = (2, 10, 4) 两个批量 每个批量有十个值 键特征维度4\n",
    "# 使用repeat使得每个批量对应的值是相同的\n",
    "    def forward(self, queries, keys, values, valid_lens=None):\n",
    "        # d = 2\n",
    "        d = queries.shape[-1]\n",
    "        # bmm批量计算(2,1,2)*(2,2,10)-> (2,1,10)\n",
    "        # 设置transpose_b=True为了交换keys的最后两个维度\n",
    "        # keys.transpose(1, 2) 的形状为 (batch_size, d, num_keys) = (2, 2, 10)\n",
    "        # / math.sqrt(d)是进行缩放\n",
    "        # 未缩放的分数可能会过大，导致 Softmax 输出极端分布。缩放后分数范围更合理，防止梯度消失\n",
    "        scores = torch.bmm(queries, keys.transpose(1,2)) / math.sqrt(d)\n",
    "        self.attention_weights = masked_softmax(scores, valid_lens)\n",
    "        return torch.bmm(self.dropout(self.attention_weights), values)"
   ],
   "outputs": [],
   "execution_count": 25
  },
  {
   "cell_type": "code",
   "id": "f4eb4277",
   "metadata": {
    "execution": {
     "iopub.execute_input": "2023-08-18T06:59:00.550788Z",
     "iopub.status.busy": "2023-08-18T06:59:00.549812Z",
     "iopub.status.idle": "2023-08-18T06:59:00.562245Z",
     "shell.execute_reply": "2023-08-18T06:59:00.561174Z"
    },
    "origin_pos": 39,
    "tab": [
     "pytorch"
    ],
    "ExecuteTime": {
     "end_time": "2025-04-10T03:49:23.618792Z",
     "start_time": "2025-04-10T03:49:23.607677Z"
    }
   },
   "source": [
    "# queries形状: (batch_size, num_queries, query_size)=(2,1,2)  两个批量 每个批量一个查询 查询特征维度2\n",
    "queries = torch.normal(0, 1, (2, 1, 2))\n",
    "attention = DotProductAttention(dropout=0.5)\n",
    "attention.eval()\n",
    "attention(queries, keys, values, valid_lens)"
   ],
   "outputs": [
    {
     "data": {
      "text/plain": [
       "tensor([[[ 2.0000,  3.0000,  4.0000,  5.0000]],\n",
       "\n",
       "        [[10.0000, 11.0000, 12.0000, 13.0000]]])"
      ]
     },
     "execution_count": 26,
     "metadata": {},
     "output_type": "execute_result"
    }
   ],
   "execution_count": 26
  },
  {
   "cell_type": "code",
   "id": "76040da6",
   "metadata": {
    "execution": {
     "iopub.execute_input": "2023-08-18T06:59:00.567093Z",
     "iopub.status.busy": "2023-08-18T06:59:00.566474Z",
     "iopub.status.idle": "2023-08-18T06:59:00.804899Z",
     "shell.execute_reply": "2023-08-18T06:59:00.803678Z"
    },
    "origin_pos": 43,
    "tab": [
     "pytorch"
    ],
    "ExecuteTime": {
     "end_time": "2025-04-10T03:49:28.250660Z",
     "start_time": "2025-04-10T03:49:28.216197Z"
    }
   },
   "source": [
    "# 由于键包含的是相同的元素， 而这些元素无法通过任何查询进行区分，因此获得了均匀的注意力权重。\n",
    "show_heatmaps(attention.attention_weights.reshape((1, 1, 2, 10)),\n",
    "                  xlabel='Keys', ylabel='Queries')"
   ],
   "outputs": [
    {
     "data": {
      "text/plain": [
       "<Figure size 300x300 with 2 Axes>"
      ],
      "image/png": "[encoded data removed]"
     },
     "metadata": {},
     "output_type": "display_data"
    }
   ],
   "execution_count": 27
  },
  {
   "metadata": {},
   "cell_type": "markdown",
   "source": [
    "# 缩放点积注意力（Scaled Dot-Product Attention）详解\n",
    "\n",
    "缩放点积注意力是Transformer模型的核心机制，最早在2017年发表的《Attention Is All You Need》论文中提出。这个机制是现代自然语言处理模型（如BERT、GPT等）的基础。\n",
    "\n",
    "## 基本原理\n",
    "\n",
    "缩放点积注意力的计算公式如下：\n",
    "\n",
    "$$\n",
    "\\text{Attention}(Q, K, V) = \\text{softmax}\\left(\\frac{QK^T}{\\sqrt{d_k}}\\right)V\n",
    "$$\n",
    "\n",
    "其中：\n",
    "- **Q（查询矩阵）**：代表我们想要关注的内容\n",
    "- **K（键矩阵）**：用于与查询进行匹配\n",
    "- **V（值矩阵）**：实际被提取的信息\n",
    "- **d_k**：键向量的维度\n",
    "\n",
    "## 工作流程\n",
    "\n",
    "1. **计算相似度**：首先计算查询 (Q) 和键 (K) 之间的点积，得到注意力分数（$$QK^T$$）。\n",
    "2. **缩放**：将点积除以 $$\\sqrt{d_k}$$ 进行缩放，防止梯度消失问题。\n",
    "3. **Softmax归一化**：对缩放后的分数应用 softmax 函数，获得注意力权重。\n",
    "4. **加权求和**：用这些权重对值 (V) 进行加权求和。\n",
    "\n",
    "## 为什么需要缩放？\n",
    "\n",
    "当输入维度 $$d_k$$ 较大时，点积的结果值会变得很大，导致 softmax 函数梯度接近零。通过除以 $$\\sqrt{d_k}$$，可以保持点积结果的方差大约为1，使 softmax 函数工作在梯度更为敏感的区域。\n",
    "\n",
    "## 多头注意力\n",
    "\n",
    "在实际应用中，通常使用**多头注意力**（Multi-Head Attention），即多个缩放点积注意力的并行计算：\n",
    "\n",
    "$$\n",
    "\\text{MultiHead}(Q, K, V) = \\text{Concat}(\\text{head}_1, ..., \\text{head}_h)W^O\n",
    "$$\n",
    "\n",
    "其中：\n",
    "\n",
    "$$\n",
    "\\text{head}_i = \\text{Attention}(QW_i^Q, KW_i^K, VW_i^V)\n",
    "$$\n",
    "\n",
    "- **W_i^Q, W_i^K, W_i^V**：是不同头的线性变换矩阵。\n",
    "- **W^O**：是输出的线性变换矩阵。\n",
    "\n",
    "多头注意力允许模型在不同位置和不同表示子空间中共同注意信息。\n",
    "\n",
    "## 应用优势\n",
    "\n",
    "1. **并行计算**：与RNN相比，自注意力机制可以并行处理整个序列。\n",
    "2. **长距离依赖**：能够直接建模序列中任意位置的依赖关系。\n",
    "3. **可解释性**：注意力权重可视化后能显示模型关注的部分。\n",
    "\n",
    "缩放点积注意力是现代深度学习模型中的重要组成部分，其简单而高效的设计使得复杂的序列建模任务变得可能。"
   ],
   "id": "4b331f4086d413f8"
  }
 ],
 "metadata": {
  "language_info": {
   "name": "python"
  },
  "required_libs": [],
  "kernelspec": {
   "name": "python3",
   "language": "python",
   "display_name": "Python 3 (ipykernel)"
  }
 },
 "nbformat": 4,
 "nbformat_minor": 5
}
