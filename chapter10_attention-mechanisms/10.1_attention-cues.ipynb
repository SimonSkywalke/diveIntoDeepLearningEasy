{
 "cells": [
  {
   "cell_type": "code",
   "id": "58a7898f",
   "metadata": {
    "execution": {
     "iopub.execute_input": "2023-08-18T07:03:03.521946Z",
     "iopub.status.busy": "2023-08-18T07:03:03.521507Z",
     "iopub.status.idle": "2023-08-18T07:03:05.621623Z",
     "shell.execute_reply": "2023-08-18T07:03:05.620583Z"
    },
    "origin_pos": 2,
    "tab": [
     "pytorch"
    ],
    "ExecuteTime": {
     "end_time": "2025-04-09T05:45:21.329283Z",
     "start_time": "2025-04-09T05:45:20.133171Z"
    }
   },
   "source": [
    "import matplotlib.pyplot as plt\n",
    "import torch"
   ],
   "outputs": [],
   "execution_count": 1
  },
  {
   "metadata": {},
   "cell_type": "markdown",
   "source": [
    "# 平均汇聚层与注意力汇聚层的区别与联系\n",
    "\n",
    "## 1. 平均汇聚层\n",
    "\n",
    "### 定义\n",
    "- 平均汇聚层（Average Pooling Layer）是一种**简单的汇聚操作**，对输入的所有元素进行**简单平均**。\n",
    "- 每个输入的权重都是**相等的**。\n",
    "\n",
    "### 公式\n",
    "$$\n",
    "\\text{输出} = \\frac{1}{n} \\sum_{i=1}^n x_i\n",
    "$$\n",
    "\n",
    "### 特性\n",
    "- 所有输入的权重相等（权重为 $\\frac{1}{n}$）。\n",
    "- 不区分输入的重要性。\n",
    "- 应用于降维或特征的粗粒度提取。\n",
    "\n",
    "### 示例\n",
    "输入为 $[1, 2, 3]$：\n",
    "$$\n",
    "\\text{输出} = \\frac{1}{3}(1 + 2 + 3) = 2\n",
    "$$\n",
    "权重为 $\\frac{1}{3}$，每个输入的贡献相同。\n",
    "\n",
    "---\n",
    "\n",
    "## 2. 注意力汇聚层\n",
    "\n",
    "### 定义\n",
    "- 注意力汇聚层（Attention Pooling Layer）是一种**动态加权平均操作**。\n",
    "- 根据**查询（Query）**和**键（Key）**的关系计算权重，进而对输入进行加权平均。\n",
    "\n",
    "### 公式\n",
    "对于输入 $x_1, x_2, \\dots, x_n$ 及其权重 $w_1, w_2, \\dots, w_n$，其输出为：\n",
    "$$\n",
    "\\text{输出} = \\sum_{i=1}^n w_i x_i\n",
    "$$\n",
    "其中，权重 $w_i$ 是根据查询和键之间的相似度动态计算的，且满足：\n",
    "$$\n",
    "\\sum_{i=1}^n w_i = 1\n",
    "$$\n",
    "\n",
    "### 权重计算步骤\n",
    "1. **相似度计算**：通过查询向量 $q$ 和键向量 $k_i$ 的相似度函数（如点积、余弦相似度）计算：\n",
    "   $$\n",
    "   \\text{相似度}(q, k_i)\n",
    "   $$\n",
    "2. **归一化**：使用 Softmax 函数将相似度转化为权重：\n",
    "   $$\n",
    "   w_i = \\frac{\\exp(\\text{相似度}(q, k_i))}{\\sum_{j=1}^n \\exp(\\text{相似度}(q, k_j))}\n",
    "   $$\n",
    "3. **加权聚合**：根据权重 $w_i$ 对输入进行加权平均。\n",
    "\n",
    "### 示例\n",
    "输入为 $[1, 2, 3]$，查询向量 $q$ 和键向量 $k = [k_1, k_2, k_3]$ 计算得权重为 $w = [0.1, 0.3, 0.6]$：\n",
    "$$\n",
    "\\text{输出} = 0.1 \\cdot 1 + 0.3 \\cdot 2 + 0.6 \\cdot 3 = 2.5\n",
    "$$\n",
    "权重反映了查询向量对每个输入的重要性。\n",
    "\n",
    "---\n",
    "\n",
    "## 3. 联系与区别\n",
    "\n",
    "### 联系\n",
    "- 两者的输出形式都是**加权平均值**。\n",
    "- **平均汇聚层**是注意力汇聚层的一个特例：当所有权重相等时，注意力汇聚层退化为平均汇聚层。\n",
    "\n",
    "### 区别\n",
    "| 特性             | 平均汇聚层                     | 注意力汇聚层                     |\n",
    "|------------------|--------------------------------|----------------------------------|\n",
    "| **权重计算方式** | 固定相等权重                   | 动态计算，依赖查询和键的相似度   |\n",
    "| **灵活性**       | 无法区分输入的重要性           | 根据输入的重要性动态调整权重     |\n",
    "| **应用场景**     | 简单降维或粗粒度特征提取       | 注意力机制、神经网络的动态建模   |\n",
    "\n",
    "---\n",
    "\n",
    "## 4. 总结\n",
    "- **平均汇聚层**是一种简单的加权平均，所有输入权重相等。\n",
    "- **注意力汇聚层**是加权平均的广义形式，权重由查询和键的关系动态计算。\n",
    "- 注意力汇聚层能更灵活地关注重要输入，是现代深度学习的重要机制之一。"
   ],
   "id": "ae097950ff641242"
  },
  {
   "cell_type": "code",
   "id": "3c30d535",
   "metadata": {
    "execution": {
     "iopub.execute_input": "2023-08-18T07:03:05.627152Z",
     "iopub.status.busy": "2023-08-18T07:03:05.626530Z",
     "iopub.status.idle": "2023-08-18T07:03:05.634951Z",
     "shell.execute_reply": "2023-08-18T07:03:05.633763Z"
    },
    "origin_pos": 6,
    "tab": [
     "pytorch"
    ],
    "ExecuteTime": {
     "end_time": "2025-04-09T06:01:36.466941Z",
     "start_time": "2025-04-09T06:01:36.464410Z"
    }
   },
   "source": [
    "# 实现注意力的可视化\n",
    "# 输入matrices的形状是（要显示的行数，要显示的列数，查询的数目，键的数目）\n",
    "# 每个矩阵（查询数目 × 键数目）对应一个子图。\n",
    "\n",
    "def show_heatmaps(matrices, xlabel, ylabel, titles=None, figsize=(2.5, 2.5), cmap='Reds'):\n",
    "    \"\"\"显示矩阵热图\"\"\"\n",
    "    # 使用 Matplotlib 的 rcParams 来设置 SVG 格式\n",
    "    plt.rcParams['figure.dpi'] = 120  # 调整分辨率\n",
    "    plt.rcParams['savefig.format'] = 'svg'  # 设置保存格式为 SVG\n",
    "\n",
    "    # 获取矩阵的行列数\n",
    "    num_rows, num_cols = matrices.shape[0], matrices.shape[1]\n",
    "\n",
    "    # 绘图相关参数讲解\n",
    "    # num_rows, num_cols 子图网格的行列数\n",
    "    # figsize 整个图像的宽度和高度\n",
    "    # sharex=True, sharey=True 所有子图共享相同的x轴刻度\n",
    "    # squeeze=False 无论子图网格的形状如何，axes 始终是一个二维数组。\n",
    "    fig, axes = plt.subplots(num_rows, num_cols, figsize=figsize, sharex=True, sharey=True, squeeze=False)\n",
    "    # axes 的形状：(num_rows, num_cols)\n",
    "\n",
    "    # 遍历每一行的子图和对应的矩阵\n",
    "    for i, (row_axes, row_matrices) in enumerate(zip(axes, matrices)):\n",
    "        # 遍历每一列的子图和对应的矩阵\n",
    "        for j, (ax, matrix) in enumerate(zip(row_axes, row_matrices)):\n",
    "            pcm = ax.imshow(matrix.detach().numpy(), cmap=cmap)\n",
    "            if i == num_rows - 1:\n",
    "                ax.set_xlabel(xlabel)\n",
    "            if j == 0:\n",
    "                ax.set_ylabel(ylabel)\n",
    "            if titles:\n",
    "                ax.set_title(titles[j])\n",
    "\n",
    "    # 添加颜色条\n",
    "    fig.colorbar(pcm, ax=axes, shrink=0.6)\n",
    "    plt.show()"
   ],
   "outputs": [],
   "execution_count": 8
  },
  {
   "cell_type": "code",
   "id": "bbabe8f3",
   "metadata": {
    "execution": {
     "iopub.execute_input": "2023-08-18T07:03:05.640096Z",
     "iopub.status.busy": "2023-08-18T07:03:05.639355Z",
     "iopub.status.idle": "2023-08-18T07:03:05.886353Z",
     "shell.execute_reply": "2023-08-18T07:03:05.885235Z"
    },
    "origin_pos": 8,
    "tab": [
     "pytorch"
    ],
    "ExecuteTime": {
     "end_time": "2025-04-09T06:01:39.522435Z",
     "start_time": "2025-04-09T06:01:39.462464Z"
    }
   },
   "source": [
    "# torch.eye(10)创建一个 10x10 的对角矩阵\n",
    "attention_weights = torch.eye(10).reshape((1, 1, 10, 10))\n",
    "show_heatmaps(attention_weights, xlabel='Keys', ylabel='Queries')"
   ],
   "outputs": [
    {
     "name": "stdout",
     "output_type": "stream",
     "text": [
      "1 1\n"
     ]
    },
    {
     "data": {
      "text/plain": [
       "<Figure size 300x300 with 2 Axes>"
      ],
      "image/png": "[encoded data removed]"
     },
     "metadata": {},
     "output_type": "display_data"
    }
   ],
   "execution_count": 9
  }
 ],
 "metadata": {
  "language_info": {
   "name": "python"
  },
  "required_libs": [],
  "kernelspec": {
   "name": "python3",
   "language": "python",
   "display_name": "Python 3 (ipykernel)"
  }
 },
 "nbformat": 4,
 "nbformat_minor": 5
}
