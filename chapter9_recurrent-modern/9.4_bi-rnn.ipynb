{
 "cells": [
  {
   "metadata": {
    "ExecuteTime": {
     "end_time": "2025-04-08T06:15:09.679519Z",
     "start_time": "2025-04-08T06:15:09.487428Z"
    }
   },
   "cell_type": "code",
   "source": [
    "import matplotlib.pyplot as plt\n",
    "\n",
    "def train_ch8(model, train_iter, vocab, lr, num_epochs, device,\n",
    "                   use_random_iter=False):\n",
    "    # 创建两个列表跟踪每个epoch的困惑度 用于绘图\n",
    "    epochs = []\n",
    "    ppls = []\n",
    "\n",
    "    # 使用交叉熵损失进行处理\n",
    "    loss = nn.CrossEntropyLoss()\n",
    "\n",
    "    # 初始化优化器\n",
    "    if isinstance(model, nn.Module):\n",
    "        # PyTorch模型：使用标准SGD优化器\n",
    "        updater = torch.optim.SGD(model.parameters(), lr)\n",
    "    else:\n",
    "        # 自定义模型：使用函数式SGD实现\n",
    "        updater = lambda batch_size: d2l.sgd(model.params, lr, batch_size)\n",
    "\n",
    "    # 预测函数\n",
    "    def predict(prefix):\n",
    "        return d2l.predict_ch8(prefix, 50, model, vocab, device)\n",
    "\n",
    "    # 训练循环\n",
    "    for epoch in range(num_epochs):\n",
    "        ppl, speed = d2l.train_epoch_ch8(\n",
    "            model, train_iter, loss, updater, device, use_random_iter)\n",
    "        # 更新列表中的轮次以及困惑度\n",
    "        epochs.append(epoch + 1)\n",
    "        ppls.append(ppl)\n",
    "\n",
    "    # 训练完成后打印最终结果\n",
    "    print(f'训练完成。最终困惑度: {ppl:.2f}, 速度: {speed:.1f} tokens/sec on {str(device)}')\n",
    "    print('生成文本示例:')\n",
    "    print(predict('time traveller'))\n",
    "\n",
    "    # 训练完成后绘制困惑度曲线\n",
    "    plt.figure(figsize=(10, 6))\n",
    "    plt.plot(epochs, ppls, 'b-', linewidth=2)\n",
    "    plt.xlabel('Epoch')\n",
    "    plt.ylabel('Perplexity')\n",
    "    plt.grid(True)\n",
    "    plt.tight_layout()\n",
    "    plt.show()"
   ],
   "id": "c3dc90ca7787a640",
   "outputs": [],
   "execution_count": 1
  },
  {
   "metadata": {
    "execution": {
     "iopub.execute_input": "2023-08-18T07:18:55.992113Z",
     "iopub.status.busy": "2023-08-18T07:18:55.991547Z",
     "iopub.status.idle": "2023-08-18T07:19:45.366029Z",
     "shell.execute_reply": "2023-08-18T07:19:45.365163Z"
    },
    "origin_pos": 2,
    "tab": [
     "pytorch"
    ],
    "ExecuteTime": {
     "end_time": "2025-04-08T06:15:26.907027Z",
     "start_time": "2025-04-08T06:15:16.155930Z"
    }
   },
   "cell_type": "code",
   "source": [
    "import torch\n",
    "from torch import nn\n",
    "from d2l import torch as d2l\n",
    "\n",
    "# 加载数据\n",
    "batch_size, num_steps, device = 32, 35, d2l.try_gpu()\n",
    "train_iter, vocab = d2l.load_data_time_machine(batch_size, num_steps)\n",
    "# 通过设置“bidirective=True”来定义双向LSTM模型\n",
    "vocab_size, num_hiddens, num_layers = len(vocab), 256, 2\n",
    "num_inputs = vocab_size\n",
    "lstm_layer = nn.LSTM(num_inputs, num_hiddens, num_layers, bidirectional=True)\n",
    "model = d2l.RNNModel(lstm_layer, len(vocab))\n",
    "model = model.to(device)\n",
    "# 训练模型\n",
    "num_epochs, lr = 500, 1\n",
    "train_ch8(model, train_iter, vocab, lr, num_epochs, device)"
   ],
   "id": "40b9f7d4",
   "outputs": [
    {
     "name": "stdout",
     "output_type": "stream",
     "text": [
      "训练完成。最终困惑度: 1.09, 速度: 489310.0 tokens/sec on cuda:0\n",
      "生成文本示例:\n",
      "time travellerererererererererererererererererererererererererer\n"
     ]
    },
    {
     "data": {
      "text/plain": [
       "<Figure size 1000x600 with 1 Axes>"
      ],
      "image/png": "[encoded data removed]"
     },
     "metadata": {},
     "output_type": "display_data"
    }
   ],
   "execution_count": 2
  },
  {
   "metadata": {},
   "cell_type": "markdown",
   "source": [
    "# 双向LSTM的公式与计算过程详解\n",
    "\n",
    "本文详细解析了双向LSTM模型的核心公式与计算过程，帮助理解其在时间序列任务中的工作机制。\n",
    "\n",
    "---\n",
    "\n",
    "## 参数上下文\n",
    "\n",
    "假设以下参数：\n",
    "- **`batch_size`**: 每个批次的样本数量，设定为 `32`。\n",
    "- **`num_steps`**: 序列的时间步数，设定为 `35`。\n",
    "- **`num_inputs`**: 每个时间步输入的特征维度，等于词汇量大小 `vocab_size`。\n",
    "- **`num_hiddens`**: 每个LSTM单元的隐藏状态维度，设定为 `256`。\n",
    "- **`num_layers`**: 隐藏层的数量，设定为 `2`。\n",
    "- **`bidirectional=True`**: 双向LSTM，正向和反向同时计算。\n",
    "\n",
    "---\n",
    "\n",
    "## 双向LSTM的核心公式与计算过程\n",
    "\n",
    "双向LSTM将每个时间步的输入序列同时传递给正向LSTM和反向LSTM，并通过拼接两个LSTM的隐藏状态输出得到最终结果。\n",
    "\n",
    "### 1. 正向LSTM公式\n",
    "正向LSTM从时间步 $t=1$ 到 $t=T$ 按以下公式计算：\n",
    "$$\n",
    "\\begin{aligned}\n",
    "& i_t^{(f)} = \\sigma(X_t W_{xi}^{(f)} + H_{t-1}^{(f)} W_{hi}^{(f)} + b_i^{(f)}) \\\\\n",
    "& f_t^{(f)} = \\sigma(X_t W_{xf}^{(f)} + H_{t-1}^{(f)} W_{hf}^{(f)} + b_f^{(f)}) \\\\\n",
    "& o_t^{(f)} = \\sigma(X_t W_{xo}^{(f)} + H_{t-1}^{(f)} W_{ho}^{(f)} + b_o^{(f)}) \\\\\n",
    "& \\tilde{C}_t^{(f)} = \\tanh(X_t W_{xc}^{(f)} + H_{t-1}^{(f)} W_{hc}^{(f)} + b_c^{(f)}) \\\\\n",
    "& C_t^{(f)} = f_t^{(f)} \\odot C_{t-1}^{(f)} + i_t^{(f)} \\odot \\tilde{C}_t^{(f)} \\\\\n",
    "& H_t^{(f)} = o_t^{(f)} \\odot \\tanh(C_t^{(f)})\n",
    "\\end{aligned}\n",
    "$$\n",
    "\n",
    "- **$i_t^{(f)}$**: 输入门，控制当前输入写入记忆单元的比例。\n",
    "- **$f_t^{(f)}$**: 遗忘门，控制前一时间步记忆的保留比例。\n",
    "- **$o_t^{(f)}$**: 输出门，控制记忆单元输出到隐藏状态的比例。\n",
    "- **$\\tilde{C}_t^{(f)}$**: 候选记忆单元，当前时间步的新信息。\n",
    "- **$C_t^{(f)}$**: 正向LSTM的记忆单元。\n",
    "- **$H_t^{(f)}$**: 正向LSTM的隐藏状态。\n",
    "\n",
    "---\n",
    "\n",
    "### 2. 反向LSTM公式\n",
    "反向LSTM从时间步 $t=T$ 到 $t=1$ 按以下公式计算：\n",
    "$$\n",
    "\\begin{aligned}\n",
    "& i_t^{(b)} = \\sigma(X_t W_{xi}^{(b)} + H_{t+1}^{(b)} W_{hi}^{(b)} + b_i^{(b)}) \\\\\n",
    "& f_t^{(b)} = \\sigma(X_t W_{xf}^{(b)} + H_{t+1}^{(b)} W_{hf}^{(b)} + b_f^{(b)}) \\\\\n",
    "& o_t^{(b)} = \\sigma(X_t W_{xo}^{(b)} + H_{t+1}^{(b)} W_{ho}^{(b)} + b_o^{(b)}) \\\\\n",
    "& \\tilde{C}_t^{(b)} = \\tanh(X_t W_{xc}^{(b)} + H_{t+1}^{(b)} W_{hc}^{(b)} + b_c^{(b)}) \\\\\n",
    "& C_t^{(b)} = f_t^{(b)} \\odot C_{t+1}^{(b)} + i_t^{(b)} \\odot \\tilde{C}_t^{(b)} \\\\\n",
    "& H_t^{(b)} = o_t^{(b)} \\odot \\tanh(C_t^{(b)})\n",
    "\\end{aligned}\n",
    "$$\n",
    "\n",
    "- 正向LSTM和反向LSTM的公式类似，唯一的区别是反向LSTM的计算顺序是从时间步 $t=T$ 到 $t=1$。\n",
    "\n",
    "---\n",
    "\n",
    "### 3. 双向LSTM的输出\n",
    "正向LSTM和反向LSTM的隐藏状态拼接为双向LSTM的输出：\n",
    "$$\n",
    "H_t = [H_t^{(f)}; H_t^{(b)}]\n",
    "$$\n",
    "- **$H_t$**: 双向LSTM的隐藏状态，维度为 $[2 \\times \\text{num\\_hiddens}]$。\n",
    "- 具体来说，如果正向和反向的隐藏状态维度均为 $256$，则拼接后的维度为 $512$。\n",
    "\n",
    "---\n",
    "\n",
    "### 4. 输出层\n",
    "双向LSTM的隐藏状态经过全连接层生成每个时间步的输出：\n",
    "$$\n",
    "Y_t = H_t W_{hq} + b_q\n",
    "$$\n",
    "- **$Y_t$**: 当前时间步的输出，维度为 `[vocab_size]`，表示预测的下一个词的概率分布。\n",
    "- **$W_{hq}$**: 输出层的权重矩阵，形状为 $[512, \\text{vocab\\_size}]$。\n",
    "- **$b_q$**: 输出层的偏置向量，形状为 $[\\text{vocab\\_size}]$。\n"
   ],
   "id": "2ef9c7817061d472"
  }
 ],
 "metadata": {
  "language_info": {
   "name": "python"
  },
  "required_libs": [],
  "kernelspec": {
   "name": "python3",
   "language": "python",
   "display_name": "Python 3 (ipykernel)"
  }
 },
 "nbformat": 4,
 "nbformat_minor": 5
}
