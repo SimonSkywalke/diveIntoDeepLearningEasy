{
 "cells": [
  {
   "cell_type": "code",
   "id": "bc9aa4b5",
   "metadata": {
    "execution": {
     "iopub.execute_input": "2023-08-18T07:15:31.967521Z",
     "iopub.status.busy": "2023-08-18T07:15:31.966534Z",
     "iopub.status.idle": "2023-08-18T07:15:33.959337Z",
     "shell.execute_reply": "2023-08-18T07:15:33.958486Z"
    },
    "origin_pos": 2,
    "tab": [
     "pytorch"
    ],
    "ExecuteTime": {
     "end_time": "2025-04-09T02:12:46.688065Z",
     "start_time": "2025-04-09T02:12:46.682880Z"
    }
   },
   "source": [
    "import collections\n",
    "import math\n",
    "import torch\n",
    "from torch import nn\n",
    "from d2l import torch as d2l"
   ],
   "outputs": [],
   "execution_count": 3
  },
  {
   "metadata": {
    "execution": {
     "iopub.execute_input": "2023-08-18T07:15:33.963601Z",
     "iopub.status.busy": "2023-08-18T07:15:33.962917Z",
     "iopub.status.idle": "2023-08-18T07:15:33.969272Z",
     "shell.execute_reply": "2023-08-18T07:15:33.968489Z"
    },
    "origin_pos": 7,
    "tab": [
     "pytorch"
    ],
    "ExecuteTime": {
     "end_time": "2025-04-09T02:12:48.124732Z",
     "start_time": "2025-04-09T02:12:48.117015Z"
    }
   },
   "cell_type": "code",
   "source": [
    "#用于序列到序列学习的循环神经网络编码器\n",
    "class Seq2SeqEncoder(d2l.Encoder):\n",
    "\n",
    "    def __init__(self, vocab_size, embed_size, num_hiddens, num_layers,\n",
    "                 dropout=0, **kwargs):\n",
    "        super(Seq2SeqEncoder, self).__init__(**kwargs)\n",
    "        # 嵌入层\n",
    "        self.embedding = nn.Embedding(vocab_size, embed_size)\n",
    "        self.rnn = nn.GRU(embed_size, num_hiddens, num_layers,\n",
    "                          dropout=dropout)\n",
    "\n",
    "    def forward(self, X, *args):\n",
    "        # 将词索引映射成嵌入向量\n",
    "        X = self.embedding(X)\n",
    "        # 调整输出向量的维度\n",
    "        X = X.permute(1, 0, 2)\n",
    "        output, state = self.rnn(X)\n",
    "        return output, state"
   ],
   "id": "3dbfb3ed",
   "outputs": [],
   "execution_count": 4
  },
  {
   "metadata": {
    "ExecuteTime": {
     "end_time": "2025-04-09T02:12:49.459662Z",
     "start_time": "2025-04-09T02:12:49.447611Z"
    }
   },
   "cell_type": "code",
   "source": [
    "# permute的用法 用于调整向量的维度\n",
    "import torch\n",
    "\n",
    "# 假设有一个形状为 (2, 3, 4) 的张量\n",
    "temp = torch.randn(2, 3, 4)\n",
    "print(\"原始张量的形状:\", temp.shape)\n",
    "\n",
    "# 使用 permute 重新排列维度\n",
    "temp_permuted = temp.permute(1, 0, 2)\n",
    "# 重新排列维度后的形状: torch.Size([3, 2, 4])\n",
    "print(\"重新排列维度后的形状:\", temp_permuted.shape)\n",
    "\n",
    "# 打印原始张量和重新排列后的张量\n",
    "print(\"原始张量:\\n\", temp)\n",
    "print(\"重新排列后的张量:\\n\", temp_permuted)"
   ],
   "id": "cdf234596f6b713",
   "outputs": [
    {
     "name": "stdout",
     "output_type": "stream",
     "text": [
      "原始张量的形状: torch.Size([2, 3, 4])\n",
      "重新排列维度后的形状: torch.Size([3, 2, 4])\n",
      "原始张量:\n",
      " tensor([[[-0.2167, -0.7214, -1.1619,  0.7126],\n",
      "         [ 0.7325, -0.1458, -0.5945, -1.1517],\n",
      "         [ 0.4763,  1.1110,  0.4661,  1.6304]],\n",
      "\n",
      "        [[ 0.4059, -1.0617,  0.1535, -1.8772],\n",
      "         [ 0.4663,  0.7954,  0.9865, -0.4461],\n",
      "         [-0.0192, -0.1635, -0.1410,  1.0554]]])\n",
      "重新排列后的张量:\n",
      " tensor([[[-0.2167, -0.7214, -1.1619,  0.7126],\n",
      "         [ 0.4059, -1.0617,  0.1535, -1.8772]],\n",
      "\n",
      "        [[ 0.7325, -0.1458, -0.5945, -1.1517],\n",
      "         [ 0.4663,  0.7954,  0.9865, -0.4461]],\n",
      "\n",
      "        [[ 0.4763,  1.1110,  0.4661,  1.6304],\n",
      "         [-0.0192, -0.1635, -0.1410,  1.0554]]])\n"
     ]
    }
   ],
   "execution_count": 5
  },
  {
   "cell_type": "code",
   "id": "1780ca82",
   "metadata": {
    "execution": {
     "iopub.execute_input": "2023-08-18T07:15:33.972667Z",
     "iopub.status.busy": "2023-08-18T07:15:33.972142Z",
     "iopub.status.idle": "2023-08-18T07:15:34.003637Z",
     "shell.execute_reply": "2023-08-18T07:15:34.002907Z"
    },
    "origin_pos": 12,
    "tab": [
     "pytorch"
    ],
    "ExecuteTime": {
     "end_time": "2025-04-09T02:12:51.310674Z",
     "start_time": "2025-04-09T02:12:51.292343Z"
    }
   },
   "source": [
    "encoder = Seq2SeqEncoder(vocab_size=10, embed_size=8, num_hiddens=16,\n",
    "                         num_layers=2)\n",
    "# eval()用于将模型设置为评估模式\n",
    "encoder.eval()\n",
    "# batch_size = 4, num_steps = 7\n",
    "X = torch.zeros((4, 7), dtype=torch.long)\n",
    "output, state = encoder(X)\n",
    "# output的形状:(num_steps,batch_size,num_hiddens)\n",
    "output.shape"
   ],
   "outputs": [
    {
     "data": {
      "text/plain": [
       "torch.Size([7, 4, 16])"
      ]
     },
     "execution_count": 6,
     "metadata": {},
     "output_type": "execute_result"
    }
   ],
   "execution_count": 6
  },
  {
   "cell_type": "code",
   "id": "32a2c1d8",
   "metadata": {
    "execution": {
     "iopub.execute_input": "2023-08-18T07:15:34.007123Z",
     "iopub.status.busy": "2023-08-18T07:15:34.006595Z",
     "iopub.status.idle": "2023-08-18T07:15:34.011456Z",
     "shell.execute_reply": "2023-08-18T07:15:34.010716Z"
    },
    "origin_pos": 17,
    "tab": [
     "pytorch"
    ],
    "ExecuteTime": {
     "end_time": "2025-04-09T02:12:53.141915Z",
     "start_time": "2025-04-09T02:12:53.134298Z"
    }
   },
   "source": [
    "# state的形状:(num_layers,batch_size,num_hiddens)\n",
    "state.shape"
   ],
   "outputs": [
    {
     "data": {
      "text/plain": [
       "torch.Size([2, 4, 16])"
      ]
     },
     "execution_count": 7,
     "metadata": {},
     "output_type": "execute_result"
    }
   ],
   "execution_count": 7
  },
  {
   "metadata": {},
   "cell_type": "markdown",
   "source": [
    "# 编码器的前向传播计算\n",
    "\n",
    "---\n",
    "\n",
    "## 初始输入\n",
    "\n",
    "```python\n",
    "X = torch.zeros((4, 7), dtype=torch.long)\n",
    "```\n",
    "\n",
    "- **形状**: `(batch_size, num_steps)` = `(4, 7)`\n",
    "  - `batch_size=4`: 输入批次中的样本数为 4。\n",
    "  - `num_steps=7`: 每个序列的时间步数（词的个数）为 7。\n",
    "\n",
    "---\n",
    "\n",
    "## 1. 嵌入层 (`self.embedding`)\n",
    "\n",
    "嵌入层的作用是将每个词索引映射为对应的嵌入向量。嵌入层的权重矩阵（通常称为嵌入矩阵）大小为 `(vocab_size, embed_size)`，其中：\n",
    "- `vocab_size=10`: 词汇表的大小，表示可用的词索引范围是 `[0, 9]`。\n",
    "- `embed_size=8`: 每个词将被表示为 8 维的向量。\n",
    "\n",
    "嵌入层的计算过程如下：\n",
    "1. **输入数据**:\n",
    "   - 输入张量 `X` 的形状是 `(batch_size, num_steps)` = `(4, 7)`。\n",
    "   - 张量中的每个值是一个整数，表示词汇表中的索引。例如：\n",
    "     ```python\n",
    "     X = [[0, 1, 2, 3, 4, 5, 6],\n",
    "          [7, 8, 9, 0, 1, 2, 3],\n",
    "          [4, 5, 6, 7, 8, 9, 0],\n",
    "          [1, 2, 3, 4, 5, 6, 7]]\n",
    "     ```\n",
    "\n",
    "2. **嵌入矩阵查找**:\n",
    "   - 对于每个词索引（例如 `0`, `1`, `2` 等），嵌入层会从嵌入矩阵中查找对应的嵌入向量。\n",
    "   - 嵌入矩阵的形状为 `(vocab_size, embed_size)` = `(10, 8)`：\n",
    "     ```python\n",
    "     embedding_matrix = [\n",
    "         [0.2, 0.1, -0.3, ..., 0.8],  # 嵌入向量 for 索引 0\n",
    "         [0.5, -0.6, 0.7, ..., -0.1], # 嵌入向量 for 索引 1\n",
    "         ...\n",
    "         [-0.3, 0.4, 0.1, ..., 0.6],  # 嵌入向量 for 索引 9\n",
    "     ]\n",
    "     ```\n",
    "   - 每个索引值会被映射到嵌入矩阵中的一行。例如：\n",
    "     - 索引 `0` → `[0.2, 0.1, -0.3, ..., 0.8]` (8 维向量)\n",
    "     - 索引 `1` → `[0.5, -0.6, 0.7, ..., -0.1]` (8 维向量)\n",
    "\n",
    "3. **输出张量**:\n",
    "   - 嵌入层为每个时间步的词索引生成一个嵌入向量。\n",
    "   - 输入形状 `(batch_size, num_steps)` = `(4, 7)` 转换为：\n",
    "     **`(batch_size, num_steps, embed_size)`** = `(4, 7, 8)`。\n",
    "---\n",
    "## 2. 维度调整 (`permute`)\n",
    "\n",
    "**计算原理**:\n",
    "为了适配循环神经网络（RNN）的输入格式，需要将时间步数（`num_steps`）调整到张量的第一维。\n",
    "PyTorch 的 RNN 模块要求输入的形状为 `(num_steps, batch_size, embed_size)`。\n",
    "\n",
    "```python\n",
    "X = X.permute(1, 0, 2)\n",
    "```\n",
    "\n",
    "- **输入形状**: `(batch_size, num_steps, embed_size)` = `(4, 7, 8)`\n",
    "- **输出形状**: `(num_steps, batch_size, embed_size)` = `(7, 4, 8)`\n",
    "  - `num_steps=7`: 序列的长度（时间步数）。\n",
    "  - `batch_size=4`: 批量大小。\n",
    "  - `embed_size=8`: 嵌入向量的维度。\n",
    "\n",
    "---\n",
    "\n",
    "## 3. GRU 编码器 (`self.rnn`)\n",
    "\n",
    "**计算原理**:\n",
    "GRU 是一种循环神经网络（RNN），接受一个形状为 `(num_steps, batch_size, embed_size)` 的输入张量，计算每个时间步的隐藏状态，并输出：\n",
    "1. 每个时间步的隐藏状态序列（`output`）。\n",
    "2. 最终的隐藏状态（`state`）。\n",
    "\n",
    "GRU 的输入向量维度为 `embed_size=8`，隐藏层状态的维度为 `num_hiddens=16`，网络有 `num_layers=2` 层。\n",
    "\n",
    "```python\n",
    "output, state = self.rnn(X)\n",
    "```\n",
    "\n",
    "- **输入形状**: `(num_steps, batch_size, embed_size)` = `(7, 4, 8)`\n",
    "- **输出结果**:\n",
    "  1. **`output`**: 每个时间步的隐藏状态序列。\n",
    "     - **形状**: `(num_steps, batch_size, num_hiddens)` = `(7, 4, 16)`\n",
    "       - `num_steps=7`: 序列的长度（时间步数）。\n",
    "       - `batch_size=4`: 批量大小。\n",
    "       - `num_hiddens=16`: GRU 的隐藏状态维度。\n",
    "  2. **`state`**: 最终的隐藏状态。\n",
    "     - **形状**: `(num_layers, batch_size, num_hiddens)` = `(2, 4, 16)`\n",
    "       - `num_layers=2`: GRU 的层数。\n",
    "       - `batch_size=4`: 批量大小。\n",
    "       - `num_hiddens=16`: GRU 的隐藏状态维度。\n",
    "\n"
   ],
   "id": "f2ce4fcbe5f2d81d"
  },
  {
   "cell_type": "code",
   "id": "09143bb3",
   "metadata": {
    "execution": {
     "iopub.execute_input": "2023-08-18T07:15:34.014841Z",
     "iopub.status.busy": "2023-08-18T07:15:34.014327Z",
     "iopub.status.idle": "2023-08-18T07:15:34.021372Z",
     "shell.execute_reply": "2023-08-18T07:15:34.020591Z"
    },
    "origin_pos": 21,
    "tab": [
     "pytorch"
    ],
    "ExecuteTime": {
     "end_time": "2025-04-09T02:13:10.755324Z",
     "start_time": "2025-04-09T02:13:10.747591Z"
    }
   },
   "source": [
    "# 解码器\n",
    "class Seq2SeqDecoder(d2l.Decoder):\n",
    "\n",
    "    def __init__(self, vocab_size, embed_size, num_hiddens, num_layers,\n",
    "                 dropout=0, **kwargs):\n",
    "        super(Seq2SeqDecoder, self).__init__(**kwargs)\n",
    "        self.embedding = nn.Embedding(vocab_size, embed_size)\n",
    "        self.rnn = nn.GRU(embed_size + num_hiddens, num_hiddens, num_layers,dropout=dropout)\n",
    "        self.dense = nn.Linear(num_hiddens, vocab_size)\n",
    "\n",
    "    def init_state(self, enc_outputs, *args):\n",
    "        return enc_outputs[1]\n",
    "\n",
    "    # 解码器的输入就是编码器的输出\n",
    "    # X是一开始输入的变量(4,7) state(2,4,16)\n",
    "    def forward(self, X, state):\n",
    "        # 嵌入层 X(4,7)->(7,4,8)\n",
    "        X = self.embedding(X).permute(1, 0, 2)\n",
    "        # 从隐状态中提取信息，并将其与嵌入向量进行\n",
    "        context = state[-1].repeat(X.shape[0], 1, 1)\n",
    "        X_and_context = torch.cat((X, context), 2)\n",
    "        output, state = self.rnn(X_and_context, state)\n",
    "        output = self.dense(output).permute(1, 0, 2)\n",
    "        return output, state"
   ],
   "outputs": [],
   "execution_count": 8
  },
  {
   "cell_type": "code",
   "id": "ad17a24d",
   "metadata": {
    "execution": {
     "iopub.execute_input": "2023-08-18T07:15:34.024844Z",
     "iopub.status.busy": "2023-08-18T07:15:34.024212Z",
     "iopub.status.idle": "2023-08-18T07:15:34.034277Z",
     "shell.execute_reply": "2023-08-18T07:15:34.033517Z"
    },
    "origin_pos": 26,
    "tab": [
     "pytorch"
    ],
    "ExecuteTime": {
     "end_time": "2025-04-09T02:13:14.242075Z",
     "start_time": "2025-04-09T02:13:14.228117Z"
    }
   },
   "source": [
    "decoder = Seq2SeqDecoder(vocab_size=10, embed_size=8, num_hiddens=16,\n",
    "                         num_layers=2)\n",
    "decoder.eval()\n",
    "# encoder(X) 返回两个内容 一个是上下文变量c 一个是隐状态state\n",
    "state = decoder.init_state(encoder(X))\n",
    "output, state = decoder(X, state)\n",
    "# output的形状为\n",
    "output.shape, state.shape"
   ],
   "outputs": [
    {
     "data": {
      "text/plain": [
       "(torch.Size([4, 7, 10]), torch.Size([2, 4, 16]))"
      ]
     },
     "execution_count": 9,
     "metadata": {},
     "output_type": "execute_result"
    }
   ],
   "execution_count": 9
  },
  {
   "metadata": {},
   "cell_type": "markdown",
   "source": [
    "# 解码器的前向传播计算\n",
    "## 1. 编码器输出\n",
    "\n",
    "假设编码器的输出为：\n",
    "- **`enc_outputs`**:\n",
    "  - `enc_outputs[0]` (编码器的输出序列): `(num_steps_enc, batch_size, num_hiddens)` = `(7, 4, 16)`\n",
    "  - `enc_outputs[1]` (编码器的隐藏状态): `(num_layers, batch_size, num_hiddens)` = `(2, 4, 16)`\n",
    "\n",
    "在解码器中，编码器的隐藏状态 `enc_outputs[1]` 被用作解码器的初始状态。\n",
    "\n",
    "---\n",
    "\n",
    "## 2. 解码器输入\n",
    "\n",
    "解码器的输入由两部分组成：\n",
    "1. 目标序列的词索引 `X`：\n",
    "   - 假设目标序列的形状为 `(batch_size, num_steps_dec)` = `(4, 7)`。\n",
    "   - 其中，`batch_size=4` 表示批量大小，`num_steps_dec=7` 表示目标序列的时间步数。\n",
    "\n",
    "2. 编码器的隐藏状态 `state`：\n",
    "   - 由 `enc_outputs[1]` 初始化，形状为 `(num_layers, batch_size, num_hiddens)` = `(2, 4, 16)`。\n",
    "\n",
    "---\n",
    "\n",
    "## 3. 嵌入层 (`self.embedding`)\n",
    "\n",
    "**计算原理**:\n",
    "嵌入层将目标序列的词索引映射为对应的嵌入向量。嵌入层的权重矩阵大小为 `(vocab_size, embed_size)`，其中：\n",
    "- `vocab_size=10`: 目标词汇表大小。\n",
    "- `embed_size=8`: 每个词被映射为 8 维的嵌入向量。\n",
    "\n",
    "**计算过程**:\n",
    "1. 输入 `X` 的形状为 `(batch_size, num_steps_dec)` = `(4, 7)`。\n",
    "2. 嵌入层将其映射为 `(batch_size, num_steps_dec, embed_size)` = `(4, 7, 8)`。\n",
    "3. 调整维度顺序 `.permute(1, 0, 2)`，输出形状为 `(num_steps_dec, batch_size, embed_size)` = `(7, 4, 8)`。\n",
    "\n",
    "---\n",
    "\n",
    "## 4. 广播上下文\n",
    "\n",
    "**计算原理**:\n",
    "解码器需要从编码器传递的隐藏状态中提取上下文信息，并将其与目标序列的嵌入向量结合。\n",
    "\n",
    "**计算过程**:\n",
    "1. state[-1]: 获取编码器最后一层隐藏状态，形状为 (batch_size, num_hiddens)。\n",
    "state 的形状是 (2, 4, 16)，那么 state[-1] 的形状为 (4, 16)。\n",
    "\n",
    "2. .repeat(X.shape[0], 1, 1):\n",
    "X.shape[0] 是解码器的时间步数（num_steps），这里为 7。\n",
    ".repeat 的作用是扩展 state[-1] 的形状：\n",
    "在第 0 维（时间步数）上重复 7 次。\n",
    "在第 1 维（批量大小）和第 2 维（隐藏状态维度）上保持不变。\n",
    "\n",
    "3. 输出 context:\n",
    "广播后的 context 的形状为 (num_steps, batch_size, num_hiddens)。\n",
    "假设 state[-1] 的形状是 (4, 16)，广播后 context 的形状为 (7, 4, 16)\n",
    "---\n",
    "\n",
    "## 5. 拼接输入与上下文\n",
    "\n",
    "**计算原理**:\n",
    "将目标序列的嵌入向量与广播后的上下文在最后一个维度上拼接，以便 GRU 同时处理目标序列输入和上下文信息。\n",
    "\n",
    "**计算过程**:\n",
    "1. 嵌入层输出 `X` 的形状为 `(num_steps_dec, batch_size, embed_size)` = `(7, 4, 8)`。\n",
    "2. 广播后的上下文 `context` 的形状为 `(num_steps_dec, batch_size, num_hiddens)` = `(7, 4, 16)`。\n",
    "3. 拼接后，`X_and_context` 的形状为 `(num_steps_dec, batch_size, embed_size + num_hiddens)` = `(7, 4, 24)`。\n",
    "\n",
    "---\n",
    "\n",
    "## 6. GRU 层 (`self.rnn`)\n",
    "\n",
    "**计算原理**:\n",
    "GRU 接收拼接后的输入 `X_and_context` 和初始隐藏状态 `state`，逐步计算每个时间步的隐藏状态和最终输出。\n",
    "\n",
    "**计算过程**:\n",
    "1. 输入 `X_and_context` 的形状为 `(num_steps_dec, batch_size, embed_size + num_hiddens)` = `(7, 4, 24)`。\n",
    "2. 初始隐藏状态 `state` 的形状为 `(num_layers, batch_size, num_hiddens)` = `(2, 4, 16)`。\n",
    "3. GRU 的输出：\n",
    "   - 每个时间步的隐藏状态序列 `output` 的形状为 `(num_steps_dec, batch_size, num_hiddens)` = `(7, 4, 16)`。\n",
    "   - 最终隐藏状态 `state` 的形状为 `(num_layers, batch_size, num_hiddens)` = `(2, 4, 16)`。\n",
    "\n",
    "---\n",
    "\n",
    "## 7. 全连接层 (`self.dense`)\n",
    "\n",
    "**计算原理**:\n",
    "全连接层将 GRU 输出的隐藏状态映射到词汇表维度，用于预测目标序列中的词分布。\n",
    "\n",
    "**计算过程**:\n",
    "1. 全连接层的输入： 输入 output 的形状为 (num_steps_dec, batch_size, num_hiddens) = (7, 4, 16)。\n",
    "2. 全连接层的权重和偏置： 权重矩阵的形状为 (num_hiddens, vocab_size) = (16, 10)。 偏置向量的形状为 (vocab_size,) = (10,)。\n",
    "3. 全连接层的输出：映射后的形状为 (num_steps_dec, batch_size, vocab_size) = (7, 4, 10)。\n",
    "4. 调整维度顺序 .permute(1, 0, 2)：将形状从 (num_steps_dec, batch_size, vocab_size) = (7, 4, 10) 调整为 (batch_size, num_steps_dec, vocab_size) = (4, 7, 10)。\n",
    "\n",
    ""
   ],
   "id": "929d7cd438a9eeb4"
  },
  {
   "metadata": {},
   "cell_type": "markdown",
   "source": [
    "### 从编码器输入到解码器输出的过程\n",
    "#### **编码器部分**\n",
    "\n",
    "1. **输入数据准备**\n",
    "   源序列的词索引被提供给编码器。词索引是每个单词的唯一标识，用于表示输入序列。\n",
    "\n",
    "2. **嵌入层处理**\n",
    "   编码器通过嵌入层将词索引转换为嵌入向量。这些嵌入向量是稠密的表示形式，捕获了每个单词的语义信息。\n",
    "\n",
    "3. **GRU 层处理**\n",
    "   嵌入向量被输入到 GRU 层，编码器通过多层 GRU 提取序列的时间依赖关系和全局语义信息。\n",
    "   GRU 的输出包括：\n",
    "   - 每个时间步的隐藏状态序列。\n",
    "   - 最终的隐藏状态。\n",
    "\n",
    "4. **返回编码器结果**\n",
    "   编码器的输出（上下文变量和隐藏状态）被传递给解码器，用于引导解码过程。\n",
    "\n",
    "---\n",
    "\n",
    "#### **解码器部分**\n",
    "\n",
    "1. **初始化解码器状态**\n",
    "   解码器从编码器接收最终隐藏状态，作为解码器的初始状态，同时准备目标序列的词索引作为输入。\n",
    "\n",
    "2. **目标序列嵌入**\n",
    "   解码器通过嵌入层将目标序列的词索引转换为嵌入向量，这些向量表示目标序列的语义信息。\n",
    "\n",
    "3. **广播上下文**\n",
    "   编码器的上下文信息（最后一层隐藏状态）被广播到目标序列的每个时间步，确保解码器的每个时间步都能访问全局上下文信息。\n",
    "\n",
    "4. **拼接输入与上下文**\n",
    "   解码器将目标序列的嵌入向量与广播的上下文信息拼接在一起，作为解码器的输入。\n",
    "\n",
    "5. **GRU 层处理**\n",
    "   拼接后的输入被送入解码器的 GRU 层，逐步生成目标序列的隐藏状态序列，并更新内部隐藏状态。\n",
    "\n",
    "6. **全连接层映射**\n",
    "   解码器通过全连接层将 GRU 的隐藏状态映射到目标词汇表分布，用于预测目标序列中的每个词。\n",
    "\n",
    "7. **输出调整**\n",
    "   解码器调整输出的形状，使其符合目标序列的格式，生成最终的词分布，用于目标序列的预测。\n",
    "\n",
    "---\n",
    "\n",
    "#### **最终结果**\n",
    "\n",
    "1. **输出分布**\n",
    "   包含目标序列每个时间步的词分布，用于生成具体的目标词。\n",
    "\n",
    "2. **最终隐藏状态**\n",
    "   包含解码器的最终隐藏状态，可用于进一步的解码或其他操作。\n"
   ],
   "id": "8e6b4e48e97f62f"
  },
  {
   "metadata": {
    "execution": {
     "iopub.execute_input": "2023-08-18T07:15:34.037911Z",
     "iopub.status.busy": "2023-08-18T07:15:34.037256Z",
     "iopub.status.idle": "2023-08-18T07:15:34.044866Z",
     "shell.execute_reply": "2023-08-18T07:15:34.044120Z"
    },
    "origin_pos": 31,
    "tab": [
     "pytorch"
    ],
    "ExecuteTime": {
     "end_time": "2025-04-09T02:35:05.868797Z",
     "start_time": "2025-04-09T02:35:05.858387Z"
    }
   },
   "cell_type": "code",
   "source": [
    "# 损失函数部分\n",
    "# 在数据集处理的过程中 通过在序列末尾填充特定的词元保持序列长度的相同\n",
    "# 使用该函数通过零值化屏蔽不相关的项\n",
    "def sequence_mask(X, valid_len, value=0):\n",
    "    # 获取x的列数\n",
    "    maxlen = X.size(1)\n",
    "    # mask是一个二维数组\n",
    "    mask = torch.arange((maxlen), dtype=torch.float32,\n",
    "                        device=X.device)[None, :] < valid_len[:, None]\n",
    "    X[~mask] = value\n",
    "    return X\n",
    "# X 是一个二维张量，表示序列数据\n",
    "# valid_len 是一个一维张量，表示每个序列需要保留的有效长度。\n",
    "X = torch.tensor([[1, 2, 3], [4, 5, 6]])\n",
    "sequence_mask(X, torch.tensor([1, 2]))\n",
    "# maxlen = 3\n",
    "# mask = tensor([[ True, False, False],\n",
    "#        [ True,  True, False]])"
   ],
   "id": "57c5a5f4",
   "outputs": [
    {
     "data": {
      "text/plain": [
       "tensor([[1, 0, 0],\n",
       "        [4, 5, 0]])"
      ]
     },
     "execution_count": 13,
     "metadata": {},
     "output_type": "execute_result"
    }
   ],
   "execution_count": 13
  },
  {
   "metadata": {},
   "cell_type": "markdown",
   "source": [
    "\n",
    "    mask = torch.arange((maxlen), dtype=torch.float32,\n",
    "                        device=X.device)[None, :] < valid_len[:, None]\n",
    "\n",
    "1. **`[None, :]`**\n",
    "   - 给张量新增一个维度，形状从 `(maxlen,)` 变为 `(1, maxlen)`。\n",
    "   - 示例:\n",
    "     ```\n",
    "     tensor([[0., 1., 2.]])\n",
    "     ```\n",
    "2. **`valid_len[:, None]`**\n",
    "   - 将 `valid_len` 转换为二维张量，形状从 `(batch_size,)` 变为 `(batch_size, 1)`。\n",
    "   - 示例（当 `valid_len = [1, 2]`）:\n",
    "     ```\n",
    "     tensor([[1.],\n",
    "             [2.]])\n",
    "     ```\n",
    "\n",
    "3. **布尔掩码生成**\n",
    "   - 利用 `<` 操作生成布尔掩码，表示哪些位置是有效的。\n",
    "   - PyTorch 广播机制会将 `(1, maxlen)` 和 `(batch_size, 1)` 扩展为 `(batch_size, maxlen)`。\n",
    "   - 示例：\n",
    "     ```\n",
    "     mask = [[True, False, False],\n",
    "             [True, True, False]]\n",
    "     ```"
   ],
   "id": "7d8b7f9aab788eec"
  },
  {
   "metadata": {
    "execution": {
     "iopub.execute_input": "2023-08-18T07:15:34.048373Z",
     "iopub.status.busy": "2023-08-18T07:15:34.047745Z",
     "iopub.status.idle": "2023-08-18T07:15:34.054283Z",
     "shell.execute_reply": "2023-08-18T07:15:34.053539Z"
    },
    "origin_pos": 36,
    "tab": [
     "pytorch"
    ],
    "ExecuteTime": {
     "end_time": "2025-04-09T02:39:47.695702Z",
     "start_time": "2025-04-09T02:39:47.686300Z"
    }
   },
   "cell_type": "code",
   "source": [
    "# 按照个人需求 可以使用指定非零值替代这些项\n",
    "X = torch.ones(2, 3, 4)\n",
    "sequence_mask(X, torch.tensor([1, 2]), value=-1)"
   ],
   "id": "fbb003c2",
   "outputs": [
    {
     "data": {
      "text/plain": [
       "tensor([[[ 1.,  1.,  1.,  1.],\n",
       "         [-1., -1., -1., -1.],\n",
       "         [-1., -1., -1., -1.]],\n",
       "\n",
       "        [[ 1.,  1.,  1.,  1.],\n",
       "         [ 1.,  1.,  1.,  1.],\n",
       "         [-1., -1., -1., -1.]]])"
      ]
     },
     "execution_count": 14,
     "metadata": {},
     "output_type": "execute_result"
    }
   ],
   "execution_count": 14
  },
  {
   "metadata": {
    "execution": {
     "iopub.execute_input": "2023-08-18T07:15:34.057946Z",
     "iopub.status.busy": "2023-08-18T07:15:34.057267Z",
     "iopub.status.idle": "2023-08-18T07:15:34.062428Z",
     "shell.execute_reply": "2023-08-18T07:15:34.061664Z"
    },
    "origin_pos": 41,
    "tab": [
     "pytorch"
    ],
    "ExecuteTime": {
     "end_time": "2025-04-09T02:42:40.624784Z",
     "start_time": "2025-04-09T02:42:40.617646Z"
    }
   },
   "cell_type": "code",
   "source": [
    "# 对交叉熵损失函数进行拓展\n",
    "# 继承自 PyTorch 的 nn.CrossEntropyLoss\n",
    "class MaskedSoftmaxCELoss(nn.CrossEntropyLoss):\n",
    "    \"\"\"带遮蔽的softmax交叉熵损失函数\"\"\"\n",
    "    # 模型预测输出pred的形状：(batch_size,num_steps,vocab_size)\n",
    "    # 目标标签label的形状：(batch_size,num_steps)\n",
    "    # 序列有效长度valid_len的形状：(batch_size,)\n",
    "    def forward(self, pred, label, valid_len):\n",
    "        # 创建一个与 label 形状相同的张量，所有元素初始化为 1\n",
    "        weights = torch.ones_like(label)\n",
    "        # 进行遮蔽\n",
    "        weights = sequence_mask(weights, valid_len)\n",
    "        # 不对批量数据的损失进行任何聚合（如求和或取平均），而是保留每个样本的逐元素损失。\n",
    "        self.reduction='none'\n",
    "        # 未加权损失\n",
    "        unweighted_loss = super(MaskedSoftmaxCELoss, self).forward(\n",
    "            pred.permute(0, 2, 1), label)\n",
    "        # 加权损失(遮蔽后的权重相乘)\n",
    "        weighted_loss = (unweighted_loss * weights).mean(dim=1)\n",
    "        return weighted_loss"
   ],
   "id": "0da33ae4",
   "outputs": [],
   "execution_count": 15
  },
  {
   "metadata": {
    "execution": {
     "iopub.execute_input": "2023-08-18T07:15:34.065956Z",
     "iopub.status.busy": "2023-08-18T07:15:34.065339Z",
     "iopub.status.idle": "2023-08-18T07:15:34.073758Z",
     "shell.execute_reply": "2023-08-18T07:15:34.072755Z"
    },
    "origin_pos": 46,
    "tab": [
     "pytorch"
    ],
    "ExecuteTime": {
     "end_time": "2025-04-09T02:50:00.140300Z",
     "start_time": "2025-04-09T02:50:00.130796Z"
    }
   },
   "cell_type": "code",
   "source": [
    "# 代码及安全性检查\n",
    "# 输出结果应为 第一个序列的损失应为第二个序列的两倍，而第三个序列的损失应为零。\n",
    "loss = MaskedSoftmaxCELoss()\n",
    "loss(torch.ones(3, 4, 10), torch.ones((3, 4), dtype=torch.long),\n",
    "     torch.tensor([4, 2, 0]))"
   ],
   "id": "65239ee5",
   "outputs": [
    {
     "data": {
      "text/plain": [
       "tensor([2.3026, 1.1513, 0.0000])"
      ]
     },
     "execution_count": 17,
     "metadata": {},
     "output_type": "execute_result"
    }
   ],
   "execution_count": 17
  },
  {
   "metadata": {
    "origin_pos": 49
   },
   "cell_type": "markdown",
   "source": [
    "## Teacher Forcing\n",
    "\n",
    "**Teacher Forcing** 是一种在序列到序列（Sequence-to-Sequence）模型（如机器翻译、文本生成等）训练过程中常用的技术。其核心思想是：\n",
    "\n",
    "> 在解码器的训练过程中，使用目标序列的真实值（即目标词）作为解码器每一步的输入，而不是依赖模型自身在前一步生成的预测值。\n",
    "\n",
    "---\n",
    "\n",
    "### 工作原理\n",
    "\n",
    "1. **编码器阶段**：\n",
    "   - 编码器接收输入序列（如源语言句子），生成上下文向量（Context Vector）或隐藏状态。\n",
    "\n",
    "2. **解码器阶段（使用 Teacher Forcing）**：\n",
    "   - 在解码器的每个时间步：\n",
    "     - **输入**：目标序列的真实值（即 Ground Truth）。\n",
    "     - **输出**：预测的概率分布，用于计算损失。\n",
    "\n",
    "3. **损失计算**：\n",
    "   - 使用解码器的预测值与目标序列的真实值计算损失（如交叉熵损失），并进行反向传播优化模型。\n",
    "\n",
    "---\n",
    "\n",
    "### 优势\n",
    "\n",
    "1. **加速模型训练**：\n",
    "   - 使用目标序列的真实值作为输入，避免了模型错误的累积，从而使训练过程更加稳定。\n",
    "\n",
    "2. **提高收敛效率**：\n",
    "   - 模型可以更快地学习到目标序列的对齐关系和特征。\n",
    "\n",
    "---\n",
    "\n",
    "### 局限性\n",
    "\n",
    "1. **测试阶段的输入差异**：\n",
    "   - 在测试阶段，解码器只能依赖前一步生成的值作为下一步的输入，而不是目标序列的真实值。这种训练与测试阶段输入方式的不一致可能会导致模型性能下降。\n",
    "\n",
    "2. **模型过于依赖真实值**：\n",
    "   - 如果模型过于依赖真实值，可能会导致在测试阶段对错误的输入更敏感，从而影响生成质量。"
   ],
   "id": "6bdc4e96"
  },
  {
   "metadata": {
    "execution": {
     "iopub.execute_input": "2023-08-18T07:15:34.077404Z",
     "iopub.status.busy": "2023-08-18T07:15:34.076756Z",
     "iopub.status.idle": "2023-08-18T07:15:34.087405Z",
     "shell.execute_reply": "2023-08-18T07:15:34.086461Z"
    },
    "origin_pos": 51,
    "tab": [
     "pytorch"
    ],
    "ExecuteTime": {
     "end_time": "2025-04-09T03:10:35.473158Z",
     "start_time": "2025-04-09T03:10:35.457008Z"
    }
   },
   "cell_type": "code",
   "source": [
    "import matplotlib.pyplot as plt\n",
    "import torch\n",
    "from torch import nn\n",
    "from d2l import torch as d2l\n",
    "\n",
    "# 修改了代码中的绘图方法\n",
    "# tgt_vocab: 目标词汇表，包含特殊标记（如 <bos>）。\n",
    "def train_seq2seq(net, data_iter, lr, num_epochs, tgt_vocab, device):\n",
    "    def xavier_init_weights(m):\n",
    "        # 对 nn.Linear 层的权重使用 Xavier 均匀分布初始化。\n",
    "        if type(m) == nn.Linear:\n",
    "            nn.init.xavier_uniform_(m.weight)\n",
    "        if type(m) == nn.GRU:\n",
    "            # 对GRU使用 Xavier 初始化\n",
    "            for param in m._flat_weights_names:\n",
    "                if \"weight\" in param:\n",
    "                    nn.init.xavier_uniform_(m._parameters[param])\n",
    "\n",
    "    net.apply(xavier_init_weights)\n",
    "    net.to(device)\n",
    "    optimizer = torch.optim.Adam(net.parameters(), lr=lr)\n",
    "    loss = MaskedSoftmaxCELoss()\n",
    "    net.train()\n",
    "\n",
    "    # 初始化 matplotlib 绘图\n",
    "    epochs = list(range(1, num_epochs + 1))\n",
    "    losses = []\n",
    "\n",
    "    # 开始训练\n",
    "    for epoch in range(num_epochs):\n",
    "        timer = d2l.Timer()\n",
    "        metric = d2l.Accumulator(2)  # 训练损失总和，词元数量\n",
    "        for batch in data_iter:\n",
    "            optimizer.zero_grad()\n",
    "            X, X_valid_len, Y, Y_valid_len = [x.to(device) for x in batch]\n",
    "            bos = torch.tensor([tgt_vocab['<bos>']] * Y.shape[0],\n",
    "                               device=device).reshape(-1, 1)\n",
    "            dec_input = torch.cat([bos, Y[:, :-1]], 1)\n",
    "            Y_hat, _ = net(X, dec_input, X_valid_len)\n",
    "            l = loss(Y_hat, Y, Y_valid_len)\n",
    "            l.sum().backward()\n",
    "            d2l.grad_clipping(net, 1)\n",
    "            num_tokens = Y_valid_len.sum()\n",
    "            optimizer.step()\n",
    "            with torch.no_grad():\n",
    "                metric.add(l.sum(), num_tokens)\n",
    "\n",
    "        # 记录每轮的平均损失\n",
    "        avg_loss = metric[0] / metric[1]\n",
    "        losses.append(avg_loss)\n",
    "\n",
    "    # 绘制损失曲线\n",
    "    plt.figure(figsize=(8, 6))\n",
    "    plt.plot(epochs, losses, label='Loss', color='blue')\n",
    "    plt.xlabel('Epoch')\n",
    "    plt.ylabel('Loss')\n",
    "    plt.title('Training Loss Curve')\n",
    "    plt.grid(True)\n",
    "    plt.legend()\n",
    "    plt.show()\n",
    "\n",
    "    print(f'Final loss {losses[-1]:.3f}, {metric[1] / timer.stop():.1f} tokens/sec on {str(device)}')"
   ],
   "id": "9d7b922e",
   "outputs": [],
   "execution_count": 26
  },
  {
   "metadata": {},
   "cell_type": "markdown",
   "source": [
    "## Xavier 初始化？\n",
    "\n",
    "**Xavier 初始化** 是一种权重初始化方法，用于帮助神经网络的训练更快地收敛，并避免梯度消失或梯度爆炸问题。\n",
    "---\n",
    "### 核心思想\n",
    "\n",
    "Xavier 初始化的目标是让**每一层的输入和输出的方差相同**，从而保持信号的稳定传播。\n",
    "权重被初始化为一个均匀分布或正态分布，其标准差由神经元的输入和输出节点数量决定。\n",
    "\n",
    "#### 公式\n",
    "\n",
    "1. **均匀分布**：\n",
    "   $$\n",
    "   W \\sim U\\left(-\\sqrt{\\frac{6}{n_{\\text{in}} + n_{\\text{out}}}}, \\sqrt{\\frac{6}{n_{\\text{in}} + n_{\\text{out}}}}\\right)\n",
    "   $$\n",
    "\n",
    "2. **正态分布**：\n",
    "   $$\n",
    "   W \\sim N\\left(0, \\frac{2}{n_{\\text{in}} + n_{\\text{out}}}\\right)\n",
    "   $$\n",
    "\n",
    "- \\( n_{\\text{in}} \\): 当前层的输入神经元个数。\n",
    "- \\( n_{\\text{out}} \\): 当前层的输出神经元个数。\n",
    "\n",
    "---\n",
    "\n",
    "### 为什么需要 Xavier 初始化？\n",
    "\n",
    "在深度学习中，**权重初始化不当**可能会导致以下问题：\n",
    "1. **梯度消失**：如果权重太小，经过多层传播后，信号会逐渐衰减，导致梯度变得非常小，训练几乎停滞。\n",
    "2. **梯度爆炸**：如果权重太大，信号会在层与层之间逐渐放大，导致梯度过大，训练不稳定甚至发散。\n",
    "\n",
    "Xavier 初始化通过平衡输入和输出的方差，减少了这些问题的发生。\n"
   ],
   "id": "483d589ef16660ab"
  },
  {
   "metadata": {
    "execution": {
     "iopub.execute_input": "2023-08-18T07:15:34.091791Z",
     "iopub.status.busy": "2023-08-18T07:15:34.090975Z",
     "iopub.status.idle": "2023-08-18T07:16:11.767145Z",
     "shell.execute_reply": "2023-08-18T07:16:11.765998Z"
    },
    "origin_pos": 55,
    "tab": [
     "pytorch"
    ],
    "ExecuteTime": {
     "end_time": "2025-04-09T03:10:46.512417Z",
     "start_time": "2025-04-09T03:10:39.444033Z"
    }
   },
   "cell_type": "code",
   "source": [
    "embed_size, num_hiddens, num_layers, dropout = 32, 32, 2, 0.1\n",
    "batch_size, num_steps = 64, 10\n",
    "lr, num_epochs, device = 0.005, 300, d2l.try_gpu()\n",
    "\n",
    "train_iter, src_vocab, tgt_vocab = d2l.load_data_nmt(batch_size, num_steps)\n",
    "encoder = Seq2SeqEncoder(len(src_vocab), embed_size, num_hiddens, num_layers,\n",
    "                        dropout)\n",
    "decoder = Seq2SeqDecoder(len(tgt_vocab), embed_size, num_hiddens, num_layers,\n",
    "                        dropout)\n",
    "net = d2l.EncoderDecoder(encoder, decoder)\n",
    "train_seq2seq(net, train_iter, lr, num_epochs, tgt_vocab, device)"
   ],
   "id": "79f585d6",
   "outputs": [
    {
     "data": {
      "text/plain": [
       "<Figure size 800x600 with 1 Axes>"
      ],
      "image/png": "[encoded data removed]"
     },
     "metadata": {},
     "output_type": "display_data"
    },
    {
     "name": "stdout",
     "output_type": "stream",
     "text": [
      "Final loss 0.018, 44500.1 tokens/sec on cuda:0\n"
     ]
    }
   ],
   "execution_count": 27
  },
  {
   "metadata": {
    "execution": {
     "iopub.execute_input": "2023-08-18T07:16:11.771151Z",
     "iopub.status.busy": "2023-08-18T07:16:11.770496Z",
     "iopub.status.idle": "2023-08-18T07:16:11.779631Z",
     "shell.execute_reply": "2023-08-18T07:16:11.778678Z"
    },
    "origin_pos": 58,
    "tab": [
     "pytorch"
    ],
    "ExecuteTime": {
     "end_time": "2025-04-09T03:02:51.267510Z",
     "start_time": "2025-04-09T03:02:51.257547Z"
    }
   },
   "cell_type": "code",
   "source": [
    "# 预测\n",
    "def predict_seq2seq(net, src_sentence, src_vocab, tgt_vocab, num_steps,\n",
    "                    device, save_attention_weights=False):\n",
    "    # 在预测时将net设置为评估模式\n",
    "    net.eval()\n",
    "    src_tokens = src_vocab[src_sentence.lower().split(' ')] + [\n",
    "        src_vocab['<eos>']]\n",
    "    enc_valid_len = torch.tensor([len(src_tokens)], device=device)\n",
    "    src_tokens = d2l.truncate_pad(src_tokens, num_steps, src_vocab['<pad>'])\n",
    "    # 添加批量轴\n",
    "    enc_X = torch.unsqueeze(\n",
    "        torch.tensor(src_tokens, dtype=torch.long, device=device), dim=0)\n",
    "    enc_outputs = net.encoder(enc_X, enc_valid_len)\n",
    "    dec_state = net.decoder.init_state(enc_outputs, enc_valid_len)\n",
    "    # 添加批量轴\n",
    "    dec_X = torch.unsqueeze(torch.tensor(\n",
    "        [tgt_vocab['<bos>']], dtype=torch.long, device=device), dim=0)\n",
    "    output_seq, attention_weight_seq = [], []\n",
    "    for _ in range(num_steps):\n",
    "        Y, dec_state = net.decoder(dec_X, dec_state)\n",
    "        # 我们使用具有预测最高可能性的词元，作为解码器在下一时间步的输入\n",
    "        dec_X = Y.argmax(dim=2)\n",
    "        pred = dec_X.squeeze(dim=0).type(torch.int32).item()\n",
    "        # 保存注意力权重（稍后讨论）\n",
    "        if save_attention_weights:\n",
    "            attention_weight_seq.append(net.decoder.attention_weights)\n",
    "        # 一旦序列结束词元被预测，输出序列的生成就完成了\n",
    "        if pred == tgt_vocab['<eos>']:\n",
    "            break\n",
    "        output_seq.append(pred)\n",
    "    return ' '.join(tgt_vocab.to_tokens(output_seq)), attention_weight_seq"
   ],
   "id": "7510bee7",
   "outputs": [],
   "execution_count": 22
  },
  {
   "metadata": {
    "origin_pos": 61
   },
   "cell_type": "markdown",
   "source": [
    "## 预测序列的评估\n",
    "\n",
    "我们可以通过与真实的标签序列进行比较来评估预测序列。\n",
    "虽然 :cite:`Papineni.Roukos.Ward.ea.2002`\n",
    "提出的BLEU（bilingual evaluation understudy）\n",
    "最先是用于评估机器翻译的结果，\n",
    "但现在它已经被广泛用于测量许多应用的输出序列的质量。\n",
    "原则上说，对于预测序列中的任意$n$元语法（n-grams），\n",
    "BLEU的评估都是这个$n$元语法是否出现在标签序列中。\n",
    "\n",
    "我们将BLEU定义为：\n",
    "\n",
    "$$ \\exp\\left(\\min\\left(0, 1 - \\frac{\\mathrm{len}_{\\text{label}}}{\\mathrm{len}_{\\text{pred}}}\\right)\\right) \\prod_{n=1}^k p_n^{1/2^n},$$\n",
    ":eqlabel:`eq_bleu`\n",
    "\n",
    "其中$\\mathrm{len}_{\\text{label}}$表示标签序列中的词元数和\n",
    "$\\mathrm{len}_{\\text{pred}}$表示预测序列中的词元数，\n",
    "$k$是用于匹配的最长的$n$元语法。\n",
    "另外，用$p_n$表示$n$元语法的精确度，它是两个数量的比值：\n",
    "第一个是预测序列与标签序列中匹配的$n$元语法的数量，\n",
    "第二个是预测序列中$n$元语法的数量的比率。\n",
    "具体地说，给定标签序列$A$、$B$、$C$、$D$、$E$、$F$\n",
    "和预测序列$A$、$B$、$B$、$C$、$D$，\n",
    "我们有$p_1 = 4/5$、$p_2 = 3/4$、$p_3 = 1/3$和$p_4 = 0$。\n",
    "\n",
    "根据 :eqref:`eq_bleu`中BLEU的定义，\n",
    "当预测序列与标签序列完全相同时，BLEU为$1$。\n",
    "此外，由于$n$元语法越长则匹配难度越大，\n",
    "所以BLEU为更长的$n$元语法的精确度分配更大的权重。\n",
    "具体来说，当$p_n$固定时，$p_n^{1/2^n}$\n",
    "会随着$n$的增长而增加（原始论文使用$p_n^{1/n}$）。\n",
    "而且，由于预测的序列越短获得的$p_n$值越高，\n",
    "所以 :eqref:`eq_bleu`中乘法项之前的系数用于惩罚较短的预测序列。\n",
    "例如，当$k=2$时，给定标签序列$A$、$B$、$C$、$D$、$E$、$F$\n",
    "和预测序列$A$、$B$，尽管$p_1 = p_2 = 1$，\n",
    "惩罚因子$\\exp(1-6/2) \\approx 0.14$会降低BLEU。\n",
    "\n",
    "[**BLEU的代码实现**]如下。\n"
   ],
   "id": "71773ad1"
  },
  {
   "metadata": {
    "execution": {
     "iopub.execute_input": "2023-08-18T07:16:11.784109Z",
     "iopub.status.busy": "2023-08-18T07:16:11.783827Z",
     "iopub.status.idle": "2023-08-18T07:16:11.791568Z",
     "shell.execute_reply": "2023-08-18T07:16:11.790396Z"
    },
    "origin_pos": 62,
    "tab": [
     "pytorch"
    ],
    "ExecuteTime": {
     "end_time": "2025-04-09T03:02:54.847764Z",
     "start_time": "2025-04-09T03:02:54.839693Z"
    }
   },
   "cell_type": "code",
   "source": [
    "def bleu(pred_seq, label_seq, k):  #@save\n",
    "    \"\"\"计算BLEU\"\"\"\n",
    "    pred_tokens, label_tokens = pred_seq.split(' '), label_seq.split(' ')\n",
    "    len_pred, len_label = len(pred_tokens), len(label_tokens)\n",
    "    score = math.exp(min(0, 1 - len_label / len_pred))\n",
    "    for n in range(1, k + 1):\n",
    "        num_matches, label_subs = 0, collections.defaultdict(int)\n",
    "        for i in range(len_label - n + 1):\n",
    "            label_subs[' '.join(label_tokens[i: i + n])] += 1\n",
    "        for i in range(len_pred - n + 1):\n",
    "            if label_subs[' '.join(pred_tokens[i: i + n])] > 0:\n",
    "                num_matches += 1\n",
    "                label_subs[' '.join(pred_tokens[i: i + n])] -= 1\n",
    "        score *= math.pow(num_matches / (len_pred - n + 1), math.pow(0.5, n))\n",
    "    return score"
   ],
   "id": "9135ade0",
   "outputs": [],
   "execution_count": 23
  },
  {
   "metadata": {
    "origin_pos": 63
   },
   "cell_type": "markdown",
   "source": [
    "最后，利用训练好的循环神经网络“编码器－解码器”模型，\n",
    "[**将几个英语句子翻译成法语**]，并计算BLEU的最终结果。\n"
   ],
   "id": "16c57898"
  },
  {
   "metadata": {
    "execution": {
     "iopub.execute_input": "2023-08-18T07:16:11.796025Z",
     "iopub.status.busy": "2023-08-18T07:16:11.795107Z",
     "iopub.status.idle": "2023-08-18T07:16:11.818936Z",
     "shell.execute_reply": "2023-08-18T07:16:11.817788Z"
    },
    "origin_pos": 64,
    "tab": [
     "pytorch"
    ],
    "ExecuteTime": {
     "end_time": "2025-04-09T03:02:56.914067Z",
     "start_time": "2025-04-09T03:02:56.888333Z"
    }
   },
   "cell_type": "code",
   "source": [
    "engs = ['go .', \"i lost .\", 'he\\'s calm .', 'i\\'m home .']\n",
    "fras = ['va !', 'j\\'ai perdu .', 'il est calme .', 'je suis chez moi .']\n",
    "for eng, fra in zip(engs, fras):\n",
    "    translation, attention_weight_seq = predict_seq2seq(\n",
    "        net, eng, src_vocab, tgt_vocab, num_steps, device)\n",
    "    print(f'{eng} => {translation}, bleu {bleu(translation, fra, k=2):.3f}')"
   ],
   "id": "653f0dd4",
   "outputs": [
    {
     "name": "stdout",
     "output_type": "stream",
     "text": [
      "go . => va <unk> ., bleu 0.000\n",
      "i lost . => j'ai <unk> <unk> ?, bleu 0.000\n",
      "he's calm . => il est doucement ., bleu 0.658\n",
      "i'm home . => je suis calme ., bleu 0.512\n"
     ]
    }
   ],
   "execution_count": 24
  }
 ],
 "metadata": {
  "language_info": {
   "name": "python"
  },
  "required_libs": [],
  "kernelspec": {
   "name": "python3",
   "language": "python",
   "display_name": "Python 3 (ipykernel)"
  }
 },
 "nbformat": 4,
 "nbformat_minor": 5
}
