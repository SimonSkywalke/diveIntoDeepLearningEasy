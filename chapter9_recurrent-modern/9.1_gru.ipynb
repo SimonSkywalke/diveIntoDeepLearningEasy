{
 "cells": [
  {
   "metadata": {
    "execution": {
     "iopub.execute_input": "2023-08-18T07:25:22.352712Z",
     "iopub.status.busy": "2023-08-18T07:25:22.351930Z",
     "iopub.status.idle": "2023-08-18T07:25:25.503017Z",
     "shell.execute_reply": "2023-08-18T07:25:25.502124Z"
    },
    "origin_pos": 2,
    "tab": [
     "pytorch"
    ],
    "ExecuteTime": {
     "end_time": "2025-04-08T02:36:26.380045Z",
     "start_time": "2025-04-08T02:36:26.347811Z"
    }
   },
   "cell_type": "code",
   "source": [
    "import torch\n",
    "from torch import nn\n",
    "from d2l import torch as d2l\n",
    "\n",
    "batch_size, num_steps = 32, 35\n",
    "# train_iter是一个数据迭代器，每次迭代返回一个批次的数据，包含两部分：\n",
    "# X：输入序列，形状为 (batch_size, num_steps) = (32, 35)\n",
    "# Y：目标序列(预测目标)，形状也是 (32, 35)\n",
    "# vocab 是一个词汇表对象，负责在文本和数字索引之间进行转换\n",
    "train_iter, vocab = d2l.load_data_time_machine(batch_size, num_steps)"
   ],
   "id": "a3bbf4ae",
   "outputs": [],
   "execution_count": 102
  },
  {
   "metadata": {
    "ExecuteTime": {
     "end_time": "2025-04-08T02:36:26.415313Z",
     "start_time": "2025-04-08T02:36:26.390999Z"
    }
   },
   "cell_type": "code",
   "source": [
    "# 了解形状以及具体用法\n",
    "train_iter_temp, vocab_temp = d2l.load_data_time_machine(batch_size, num_steps)\n",
    "for Xt, Yt in train_iter_temp:\n",
    "    print(Xt)\n",
    "    print(Xt.shape)\n",
    "    # # 将一个批次的X转换回文本查看\n",
    "    tokens = vocab_temp.to_tokens(Xt[0].tolist())\n",
    "    print(''.join(tokens))  # 显示第一个序列的原始文本\n",
    "    print(Yt)\n",
    "    print(Yt.shape)\n",
    "    # 在实际训练中，X作为输入，Y作为预测目标\n",
    "    break  # 只查看第一批\n",
    "# 输出词汇表大小\n",
    "print(len(vocab))  # 词汇表大小，例如28(包括26个小写字母、空格和未知词元)\n",
    "# 字符'e'对应的索引\n",
    "print(vocab['e'])\n",
    " # 索引5对应的字符\n",
    "print(vocab.idx_to_token[5])  # 索引5对应的字符，应为'e'"
   ],
   "id": "76dbc1d7828d07e4",
   "outputs": [
    {
     "name": "stdout",
     "output_type": "stream",
     "text": [
      "tensor([[ 3,  9,  2,  ...,  2,  1,  3],\n",
      "        [15,  4, 14,  ...,  4,  6, 11],\n",
      "        [17,  5,  3,  ...,  1,  4,  6],\n",
      "        ...,\n",
      "        [ 3,  1,  4,  ..., 12,  2, 13],\n",
      "        [ 6,  3, 15,  ...,  5,  1, 13],\n",
      "        [ 9,  2,  1,  ...,  4,  5, 10]])\n",
      "torch.Size([32, 35])\n",
      "the time machine by h g wellsithe t\n",
      "tensor([[ 9,  2,  1,  ...,  1,  3,  5],\n",
      "        [ 4, 14, 18,  ...,  6, 11, 20],\n",
      "        [ 5,  3,  9,  ...,  4,  6, 11],\n",
      "        ...,\n",
      "        [ 1,  4,  1,  ...,  2, 13,  1],\n",
      "        [ 3, 15, 10,  ...,  1, 13, 14],\n",
      "        [ 2,  1, 13,  ...,  5, 10,  1]])\n",
      "torch.Size([32, 35])\n",
      "28\n",
      "2\n",
      "i\n"
     ]
    }
   ],
   "execution_count": 103
  },
  {
   "cell_type": "code",
   "id": "8664bb4a",
   "metadata": {
    "execution": {
     "iopub.execute_input": "2023-08-18T07:25:25.507494Z",
     "iopub.status.busy": "2023-08-18T07:25:25.506826Z",
     "iopub.status.idle": "2023-08-18T07:25:25.513659Z",
     "shell.execute_reply": "2023-08-18T07:25:25.512868Z"
    },
    "origin_pos": 7,
    "tab": [
     "pytorch"
    ],
    "ExecuteTime": {
     "end_time": "2025-04-08T02:36:26.448896Z",
     "start_time": "2025-04-08T02:36:26.445902Z"
    }
   },
   "source": [
    "# 进行参数初始化\n",
    "def get_params(vocab_size, num_hiddens, device):\n",
    "    num_inputs = num_outputs = vocab_size\n",
    "\n",
    "    # 标准差为0.01的高斯分布\n",
    "    def normal(shape):\n",
    "        return torch.randn(size=shape, device=device)*0.01\n",
    "\n",
    "    def three():\n",
    "        return (normal((num_inputs, num_hiddens)),\n",
    "                normal((num_hiddens, num_hiddens)),\n",
    "                torch.zeros(num_hiddens, device=device))\n",
    "\n",
    "    W_xz, W_hz, b_z = three()  # 更新门参数\n",
    "    W_xr, W_hr, b_r = three()  # 重置门参数\n",
    "    W_xh, W_hh, b_h = three()  # 候选隐状态参数\n",
    "    # 输出层参数\n",
    "    W_hq = normal((num_hiddens, num_outputs))\n",
    "    b_q = torch.zeros(num_outputs, device=device)\n",
    "    # 附加梯度\n",
    "    params = [W_xz, W_hz, b_z, W_xr, W_hr, b_r, W_xh, W_hh, b_h, W_hq, b_q]\n",
    "    for param in params:\n",
    "        param.requires_grad_(True)\n",
    "    return params"
   ],
   "outputs": [],
   "execution_count": 104
  },
  {
   "cell_type": "code",
   "id": "cc77ddd0",
   "metadata": {
    "execution": {
     "iopub.execute_input": "2023-08-18T07:25:25.517215Z",
     "iopub.status.busy": "2023-08-18T07:25:25.516638Z",
     "iopub.status.idle": "2023-08-18T07:25:25.520532Z",
     "shell.execute_reply": "2023-08-18T07:25:25.519776Z"
    },
    "origin_pos": 12,
    "tab": [
     "pytorch"
    ],
    "ExecuteTime": {
     "end_time": "2025-04-08T02:36:26.469492Z",
     "start_time": "2025-04-08T02:36:26.468320Z"
    }
   },
   "source": [
    "# 隐状态的初始化函数\n",
    "def init_gru_state(batch_size, num_hiddens, device):\n",
    "    return (torch.zeros((batch_size, num_hiddens), device=device), )"
   ],
   "outputs": [],
   "execution_count": 105
  },
  {
   "cell_type": "code",
   "id": "648faa2f",
   "metadata": {
    "execution": {
     "iopub.execute_input": "2023-08-18T07:25:25.523984Z",
     "iopub.status.busy": "2023-08-18T07:25:25.523454Z",
     "iopub.status.idle": "2023-08-18T07:25:25.529513Z",
     "shell.execute_reply": "2023-08-18T07:25:25.528547Z"
    },
    "origin_pos": 17,
    "tab": [
     "pytorch"
    ],
    "ExecuteTime": {
     "end_time": "2025-04-08T02:36:26.479863Z",
     "start_time": "2025-04-08T02:36:26.478353Z"
    }
   },
   "source": [
    "# 门循环单元模型\n",
    "def gru(inputs, state, params):\n",
    "    W_xz, W_hz, b_z, W_xr, W_hr, b_r, W_xh, W_hh, b_h, W_hq, b_q = params\n",
    "    H, = state\n",
    "    outputs = []\n",
    "    for X in inputs:\n",
    "        Z = torch.sigmoid((X @ W_xz) + (H @ W_hz) + b_z)\n",
    "        R = torch.sigmoid((X @ W_xr) + (H @ W_hr) + b_r)\n",
    "        H_tilda = torch.tanh((X @ W_xh) + ((R * H) @ W_hh) + b_h)\n",
    "        H = Z * H + (1 - Z) * H_tilda\n",
    "        Y = H @ W_hq + b_q\n",
    "        outputs.append(Y)\n",
    "    return torch.cat(outputs, dim=0), (H,)"
   ],
   "outputs": [],
   "execution_count": 106
  },
  {
   "metadata": {
    "ExecuteTime": {
     "end_time": "2025-04-08T02:36:26.490823Z",
     "start_time": "2025-04-08T02:36:26.489108Z"
    }
   },
   "cell_type": "code",
   "source": [
    "from torch.nn import functional as F\n",
    "class RNNModelScratch:\n",
    "    # 从零实现的RNN模型框架\n",
    "    # 在本例中 前项传播函数forward_fn == gru\n",
    "    def __init__(self, vocab_size, num_hiddens, device,\n",
    "                 get_params, init_state, forward_fn):\n",
    "        self.vocab_size, self.num_hiddens = vocab_size, num_hiddens\n",
    "        self.params = get_params(vocab_size, num_hiddens, device)\n",
    "        self.init_state, self.forward_fn = init_state, forward_fn\n",
    "\n",
    "    def __call__(self, X, state):\n",
    "        X = F.one_hot(X.T, self.vocab_size).type(torch.float32)\n",
    "        return self.forward_fn(X, state, self.params)\n",
    "\n",
    "    # 初始化参数方法\n",
    "    def begin_state(self, batch_size, device):\n",
    "        return self.init_state(batch_size, self.num_hiddens, device)"
   ],
   "id": "5f8272d6dfa4755c",
   "outputs": [],
   "execution_count": 107
  },
  {
   "metadata": {
    "ExecuteTime": {
     "end_time": "2025-04-08T02:36:26.502539Z",
     "start_time": "2025-04-08T02:36:26.500059Z"
    }
   },
   "cell_type": "code",
   "source": [
    "# 此方法来自d2l包\n",
    "import math\n",
    "from d2l.torch import grad_clipping\n",
    "\n",
    "# RNN类模型在一个训练轮次中的训练过程\n",
    "# 要训练的模型 数据迭代器 损失函数 参数更新器 计算设备 是否使用随机抽样的方式获取序列\n",
    "def train_epoch_ch8(model, train_iter, loss, updater, device,\n",
    "                    use_random_iter):\n",
    "    # 初始化隐状态为None\n",
    "    # 定义一个计时器 用于测量训练速度\n",
    "    state, timer = None, d2l.Timer()\n",
    "    # metric: 累加器，用于记录加权损失总和 处理的词元总数\n",
    "    metric = d2l.Accumulator(2)\n",
    "    for X, Y in train_iter:\n",
    "        # 在第一次迭代或随机抽样时初始化隐状态\n",
    "        if state is None or use_random_iter:\n",
    "            # 会调用init_gru_state方法\n",
    "            state = model.begin_state(batch_size=X.shape[0], device=device)\n",
    "        else:\n",
    "            # # 分离隐藏状态，防止梯度在序列间传播\n",
    "            if isinstance(model, nn.Module) and not isinstance(state, tuple):\n",
    "                # 对于PyTorch的GRU，state是张量\n",
    "                state.detach_()\n",
    "            else:\n",
    "                # 对于LSTM或自定义实现，state是张量元组\n",
    "                for s in state:\n",
    "                    s.detach_()\n",
    "    # detach_() 方法是训练序列模型的关键技巧，它防止梯度在不同批次之间反向传播，解决了训练RNN时的长期依赖问题。\n",
    "        # 将Y展平\n",
    "        y = Y.T.reshape(-1)\n",
    "        # 将数据移动到对应的设备\n",
    "        X, y = X.to(device), y.to(device)\n",
    "        # 执行前向传播，获得预测和新的隐藏状态\n",
    "        y_hat, state = model(X, state)\n",
    "        # 计算损失并取平均值\n",
    "        # y.long(): 确保目标是长整型，CrossEntropyLoss要求目标是整数类别索引\n",
    "        l = loss(y_hat, y.long()).mean()\n",
    "        # PyTorch优化器：标准的梯度清零、反向传播、梯度裁剪、参数更新流程\n",
    "        if isinstance(updater, torch.optim.Optimizer):\n",
    "            updater.zero_grad()\n",
    "            l.backward()\n",
    "            grad_clipping(model, 1)\n",
    "            updater.step()\n",
    "        else:\n",
    "        # 自定义updater：执行反向传播和梯度裁剪后调用自定义更新函数\n",
    "            l.backward()\n",
    "            grad_clipping(model, 1)\n",
    "            # Since the `mean` function has been invoked\n",
    "            updater(batch_size=1)\n",
    "            # 累计两个指标 加权损失：当前批次损失乘以词元数量 词元数量：用于计算平均损失\n",
    "        metric.add(l * d2l.size(y), d2l.size(y))\n",
    "    # 返回困惑度以及每秒处理的词元数\n",
    "    return math.exp(metric[0] / metric[1]), metric[1] / timer.stop()"
   ],
   "id": "69f2b91d25127310",
   "outputs": [],
   "execution_count": 108
  },
  {
   "metadata": {
    "ExecuteTime": {
     "end_time": "2025-04-08T02:36:26.515375Z",
     "start_time": "2025-04-08T02:36:26.513601Z"
    }
   },
   "cell_type": "code",
   "source": [
    "# 该函数在上一章已经写过注解了\n",
    "def predict_ch8(prefix, num_preds, model, vocab, device):\n",
    "    # 根据预输入片段生成预测\n",
    "    state = model.begin_state(batch_size=1, device=device)\n",
    "    outputs = [vocab[prefix[0]]]\n",
    "    get_input = lambda: d2l.reshape(d2l.tensor(\n",
    "        [outputs[-1]], device=device), (1, 1))\n",
    "    # 预热阶段\n",
    "    for y in prefix[1:]:\n",
    "        _, state = model(get_input(), state)\n",
    "        outputs.append(vocab[y])\n",
    "    # 生成阶段\n",
    "    for _ in range(num_preds):\n",
    "        y, state = model(get_input(), state)\n",
    "        outputs.append(int(y.argmax(dim=1).reshape(1)))\n",
    "    return ''.join([vocab.idx_to_token[i] for i in outputs])"
   ],
   "id": "2bb491af314c6e99",
   "outputs": [],
   "execution_count": 109
  },
  {
   "metadata": {
    "ExecuteTime": {
     "end_time": "2025-04-08T02:36:26.526522Z",
     "start_time": "2025-04-08T02:36:26.524359Z"
    }
   },
   "cell_type": "code",
   "source": [
    "import matplotlib.pyplot as plt\n",
    "\n",
    "def train_ch8(model, train_iter, vocab, lr, num_epochs, device,\n",
    "                   use_random_iter=False):\n",
    "    # 创建两个列表跟踪每个epoch的困惑度 用于绘图\n",
    "    epochs = []\n",
    "    ppls = []\n",
    "\n",
    "    # 使用交叉熵损失进行处理\n",
    "    loss = nn.CrossEntropyLoss()\n",
    "\n",
    "    # 初始化优化器\n",
    "    if isinstance(model, nn.Module):\n",
    "        # PyTorch模型：使用标准SGD优化器\n",
    "        updater = torch.optim.SGD(model.parameters(), lr)\n",
    "    else:\n",
    "        # 自定义模型：使用函数式SGD实现\n",
    "        updater = lambda batch_size: d2l.sgd(model.params, lr, batch_size)\n",
    "\n",
    "    # 预测函数\n",
    "    def predict(prefix):\n",
    "        return d2l.predict_ch8(prefix, 50, model, vocab, device)\n",
    "\n",
    "    # 训练循环\n",
    "    for epoch in range(num_epochs):\n",
    "        ppl, speed = d2l.train_epoch_ch8(\n",
    "            model, train_iter, loss, updater, device, use_random_iter)\n",
    "        # 更新列表中的轮次以及困惑度\n",
    "        epochs.append(epoch + 1)\n",
    "        ppls.append(ppl)\n",
    "\n",
    "    # 训练完成后打印最终结果\n",
    "    print(f'训练完成。最终困惑度: {ppl:.2f}, 速度: {speed:.1f} tokens/sec on {str(device)}')\n",
    "    print('生成文本示例:')\n",
    "    print(predict('time traveller'))\n",
    "\n",
    "    # 训练完成后绘制困惑度曲线\n",
    "    plt.figure(figsize=(10, 6))\n",
    "    plt.plot(epochs, ppls, 'b-', linewidth=2)\n",
    "    plt.xlabel('Epoch')\n",
    "    plt.ylabel('Perplexity')\n",
    "    plt.grid(True)\n",
    "    plt.tight_layout()\n",
    "    plt.show()"
   ],
   "id": "111fca3727550f94",
   "outputs": [],
   "execution_count": 110
  },
  {
   "cell_type": "code",
   "id": "6763946e",
   "metadata": {
    "execution": {
     "iopub.execute_input": "2023-08-18T07:25:25.534734Z",
     "iopub.status.busy": "2023-08-18T07:25:25.534372Z",
     "iopub.status.idle": "2023-08-18T07:29:05.217170Z",
     "shell.execute_reply": "2023-08-18T07:29:05.216294Z"
    },
    "origin_pos": 21,
    "tab": [
     "pytorch"
    ],
    "ExecuteTime": {
     "end_time": "2025-04-08T02:37:04.261808Z",
     "start_time": "2025-04-08T02:36:26.536561Z"
    }
   },
   "source": [
    "# 进行训练\n",
    "vocab_size, num_hiddens, device = len(vocab), 256, d2l.try_gpu()\n",
    "num_epochs, lr = 500, 1\n",
    "model = RNNModelScratch(len(vocab), num_hiddens, device, get_params,\n",
    "                            init_gru_state, gru)\n",
    "train_ch8(model, train_iter, vocab, lr, num_epochs, device)"
   ],
   "outputs": [
    {
     "name": "stdout",
     "output_type": "stream",
     "text": [
      "训练完成。最终困惑度: 1.06, 速度: 120594.8 tokens/sec on cuda:0\n",
      "生成文本示例:\n",
      "time travellerit s against reason said filbywhat thes ohach he g\n"
     ]
    },
    {
     "data": {
      "text/plain": [
       "<Figure size 1000x600 with 1 Axes>"
      ],
      "image/png": "[encoded data removed]"
     },
     "metadata": {},
     "output_type": "display_data"
    }
   ],
   "execution_count": 111
  },
  {
   "metadata": {
    "ExecuteTime": {
     "end_time": "2025-04-08T02:37:04.281271Z",
     "start_time": "2025-04-08T02:37:04.278843Z"
    }
   },
   "cell_type": "code",
   "source": [
    "# 简洁实现对应pytorch封装RNN类\n",
    "# 继承了nn.Module的神经网络模型\n",
    "class RNNModel(nn.Module):\n",
    "    def __init__(self, rnn_layer, vocab_size, **kwargs):\n",
    "        super(RNNModel, self).__init__(**kwargs)\n",
    "        # 预构建的RNN层实例（可以是nn.RNN、nn.GRU或nn.LSTM）\n",
    "        self.rnn = rnn_layer\n",
    "        # 词表大小\n",
    "        self.vocab_size = vocab_size\n",
    "        self.num_hiddens = self.rnn.hidden_size\n",
    "        # 对双向RNN的支持\n",
    "        if not self.rnn.bidirectional:\n",
    "            self.num_directions = 1\n",
    "            self.linear = nn.Linear(self.num_hiddens, self.vocab_size)\n",
    "        else:\n",
    "            self.num_directions = 2\n",
    "            self.linear = nn.Linear(self.num_hiddens * 2, self.vocab_size)\n",
    "\n",
    "    # 前向传播\n",
    "    def forward(self, inputs, state):\n",
    "        X = F.one_hot(inputs.T.long(), self.vocab_size)\n",
    "        X = X.to(torch.float32)\n",
    "        Y, state = self.rnn(X, state)\n",
    "        output = self.linear(Y.reshape((-1, Y.shape[-1])))\n",
    "        return output, state\n",
    "\n",
    "    def begin_state(self, device, batch_size=1):\n",
    "        # 针对不不同的RNN变体进行状态初始化\n",
    "        if not isinstance(self.rnn, nn.LSTM):\n",
    "            # GRU/标准RNN（非LSTM）只需要单个隐藏状态张量\n",
    "            # 形状为[num_directions * num_layers, batch_size, num_hiddens 初始值全为零\n",
    "            return  torch.zeros((self.num_directions * self.rnn.num_layers,\n",
    "                                 batch_size, self.num_hiddens),\n",
    "                                device=device)\n",
    "        else:\n",
    "            # LSTM需要隐藏状态(h)和单元状态(c)两个张量 两个张量具有相同的形状和结构 以元组形式返回(h, c)\n",
    "            return (torch.zeros((\n",
    "                self.num_directions * self.rnn.num_layers,\n",
    "                batch_size, self.num_hiddens), device=device),\n",
    "                    torch.zeros((\n",
    "                        self.num_directions * self.rnn.num_layers,\n",
    "                        batch_size, self.num_hiddens), device=device))"
   ],
   "id": "78e7826682be461f",
   "outputs": [],
   "execution_count": 112
  },
  {
   "cell_type": "code",
   "id": "6549d929",
   "metadata": {
    "execution": {
     "iopub.execute_input": "2023-08-18T07:29:05.220877Z",
     "iopub.status.busy": "2023-08-18T07:29:05.220574Z",
     "iopub.status.idle": "2023-08-18T07:29:30.037933Z",
     "shell.execute_reply": "2023-08-18T07:29:30.036733Z"
    },
    "origin_pos": 26,
    "tab": [
     "pytorch"
    ],
    "ExecuteTime": {
     "end_time": "2025-04-08T02:37:08.396124Z",
     "start_time": "2025-04-08T02:37:04.300575Z"
    }
   },
   "source": [
    "# 简洁实现\n",
    "num_inputs = vocab_size\n",
    "gru_layer = nn.GRU(num_inputs, num_hiddens)\n",
    "model = RNNModel(gru_layer, len(vocab))\n",
    "model = model.to(device)\n",
    "train_ch8(model, train_iter, vocab, lr, num_epochs, device)"
   ],
   "outputs": [
    {
     "name": "stdout",
     "output_type": "stream",
     "text": [
      "训练完成。最终困惑度: 1.04, 速度: 1091993.7 tokens/sec on cuda:0\n",
      "生成文本示例:\n",
      "time travelleryou can show black is white by argument said filby\n"
     ]
    },
    {
     "data": {
      "text/plain": [
       "<Figure size 1000x600 with 1 Axes>"
      ],
      "image/png": "[encoded data removed]"
     },
     "metadata": {},
     "output_type": "display_data"
    }
   ],
   "execution_count": 113
  },
  {
   "metadata": {},
   "cell_type": "markdown",
   "source": [
    "# 数据维度变化详解：从输入到GRU模型的输出\n",
    "\n",
    "本文详细解析了整个计算过程中，数据在GRU模型中的维度变化，结合上下文中已给出的具体参数：\n",
    "\n",
    "### 参数上下文\n",
    "- **`batch_size`**: 32\n",
    "- **`num_steps`**: 35\n",
    "- **`vocab_size`**: 28\n",
    "- **`num_hiddens`**: 256\n",
    "- **`num_layers`**: 1（单层GRU）\n",
    "- **`num_directions`**: 1（单向GRU）\n",
    "\n",
    "---\n",
    "\n",
    "## 1. 输入数据维度\n",
    "\n",
    "- **输入序列**: `X`\n",
    "  - 形状: `[batch_size, num_steps]` → `[32, 35]`\n",
    "  - 数据类型: 整数索引 (`torch.int64`)\n",
    "  - 描述: 每行是一个序列，每个元素是词元的整数索引。\n",
    "\n",
    "- **目标序列**: `y`\n",
    "  - 形状: `[batch_size, num_steps]` → `[32, 35]`\n",
    "  - 数据类型: 整数索引 (`torch.int64`)\n",
    "  - 描述: 目标序列，通常是输入序列的偏移版本，用于计算下一时间步的预测。\n",
    "\n",
    "---\n",
    "\n",
    "## 2. 输入转置与独热编码\n",
    "\n",
    "- **转置后的输入**: `X.T`\n",
    "  - 形状: `[num_steps, batch_size]` → `[35, 32]`\n",
    "  - 数据类型: 整数索引 (`torch.int64`)\n",
    "  - 描述: 输入序列进行转置，使时间步维度 (`num_steps`) 在第一维，符合 PyTorch RNN 的输入要求。\n",
    "\n",
    "- **独热编码后的输入**: `F.one_hot(X.T, vocab_size)`\n",
    "  - 形状: `[num_steps, batch_size, vocab_size]` → `[35, 32, 28]`\n",
    "  - 数据类型: 浮点数 (`torch.float32`)\n",
    "  - 描述: 每个整数索引被转换为长度为 `vocab_size` 的独热向量，用于表示词元。\n",
    "\n",
    "---\n",
    "\n",
    "## 3. GRU层处理\n",
    "\n",
    "- **GRU输入**: `X`\n",
    "  - 形状: `[num_steps, batch_size, vocab_size]` → `[35, 32, 28]`\n",
    "  - 数据类型: 浮点数 (`torch.float32`)\n",
    "  - 描述: GRU层接收独热编码的序列输入。\n",
    "\n",
    "- **隐藏状态序列输出**: `Y`\n",
    "  - 形状: `[num_steps, batch_size, num_hiddens]` → `[35, 32, 256]`\n",
    "  - 数据类型: 浮点数 (`torch.float32`)\n",
    "  - 描述: 每个时间步的隐藏状态输出，包含上下文信息。\n",
    "\n",
    "- **最终隐藏状态**: `state`\n",
    "  - 形状: `[num_layers * num_directions, batch_size, num_hiddens]` → `[1, 32, 256]`\n",
    "  - 数据类型: 浮点数 (`torch.float32`)\n",
    "  - 描述: 最后时间步的隐藏状态，用于下一批次或序列的初始化。\n",
    "\n",
    "---\n",
    "\n",
    "## 4. 输出层处理\n",
    "\n",
    "- **GRU输出重塑**: `Y.reshape((-1, Y.shape[-1]))`\n",
    "  - 形状: `[num_steps * batch_size, num_hiddens]` → `[1120, 256]`\n",
    "  - 描述: 将时间步和批次维度合并，为线性层准备输入。\n",
    "\n",
    "- **线性层输出**: `self.linear(...)`\n",
    "  - 形状: `[num_steps * batch_size, vocab_size]` → `[1120, 28]`\n",
    "  - 描述: 将隐藏状态映射到词汇空间的logits，每行表示一个时间位置的预测分布。\n",
    "\n",
    "---\n",
    "\n",
    "## 5. 损失函数输入\n",
    "\n",
    "- **预测输出**: `y_hat`\n",
    "  - 形状: `[num_steps * batch_size, vocab_size]` → `[1120, 28]`\n",
    "  - 描述: 由线性层输出的logits，用于计算损失。\n",
    "\n",
    "- **目标标签**: `y`\n",
    "  - 形状: `[batch_size, num_steps]` → `[32, 35]`\n",
    "  - 转化后形状: `[num_steps * batch_size]` → `[1120]`\n",
    "  - 描述: 目标序列展平成一维，与预测输出的每行一一对应。\n",
    "\n",
    "---\n",
    "\n",
    "## 总结\n",
    "\n",
    "| **阶段**            | **变量名称**     | **形状 (通用)**                        | **形状 (实例参数)**                        | **描述**                                    |\n",
    "|---------------------|------------------|-----------------------------------------|--------------------------------------------|---------------------------------------------|\n",
    "| **原始输入**         | `X`             | `[batch_size, num_steps]`              | `[32, 35]`                                 | 每行是一个序列，元素为词元索引              |\n",
    "| **目标标签**         | `y`             | `[batch_size, num_steps]`              | `[32, 35]`                                 | 目标序列，通常是`X`的偏移版本               |\n",
    "| **转置后**           | `X.T`           | `[num_steps, batch_size]`              | `[35, 32]`                                 | 转置后的输入                                |\n",
    "| **独热编码后**       | `F.one_hot`     | `[num_steps, batch_size, vocab_size]`  | `[35, 32, 28]`                             | 每个词元索引被转换为one-hot向量             |\n",
    "| **GRU层输出**        | `Y`             | `[num_steps, batch_size, num_hiddens]` | `[35, 32, 256]`                            | 每个时间步的隐藏状态                        |\n",
    "| **GRU最终状态**      | `state`         | `[num_layers*num_directions, batch_size, num_hiddens]` | `[1, 32, 256]`                   | GRU的最终隐藏状态                          |\n",
    "| **重塑后**           | `Y.reshape`     | `[num_steps * batch_size, num_hiddens]`| `[1120, 256]`                              | 合并时间步和批次维度                        |\n",
    "| **线性层输出**       | `output`/`y_hat`| `[num_steps * batch_size, vocab_size]` | `[1120, 28]`                               | 每行是一个时间步的预测分布                  |\n",
    "| **目标展平**         | `y.reshape`     | `[num_steps * batch_size]`             | `[1120]`                                   | 展平成一维，与预测分布逐行对应              |\n",
    "\n",
    "本文清晰展示了数据在GRU模型中的形状变化，为理解模型的输入输出关系提供了详细的参考。"
   ],
   "id": "e133e220e0bd87df"
  },
  {
   "metadata": {},
   "cell_type": "code",
   "outputs": [],
   "execution_count": null,
   "source": "",
   "id": "cc922c3863b1c8de"
  }
 ],
 "metadata": {
  "language_info": {
   "name": "python"
  },
  "required_libs": [],
  "kernelspec": {
   "name": "python3",
   "language": "python",
   "display_name": "Python 3 (ipykernel)"
  }
 },
 "nbformat": 4,
 "nbformat_minor": 5
}
