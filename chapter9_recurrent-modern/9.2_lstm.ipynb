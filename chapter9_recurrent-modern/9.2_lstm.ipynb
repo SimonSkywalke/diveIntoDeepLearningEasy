{
 "cells": [
  {
   "cell_type": "code",
   "id": "96a7231c",
   "metadata": {
    "execution": {
     "iopub.execute_input": "2023-08-18T07:24:18.324326Z",
     "iopub.status.busy": "2023-08-18T07:24:18.323673Z",
     "iopub.status.idle": "2023-08-18T07:24:21.607373Z",
     "shell.execute_reply": "2023-08-18T07:24:21.606483Z"
    },
    "origin_pos": 2,
    "tab": [
     "pytorch"
    ],
    "ExecuteTime": {
     "end_time": "2025-04-08T05:42:38.007749Z",
     "start_time": "2025-04-08T05:42:36.792242Z"
    }
   },
   "source": [
    "import torch\n",
    "from torch import nn\n",
    "from d2l import torch as d2l\n",
    "\n",
    "batch_size, num_steps = 32, 35\n",
    "train_iter, vocab = d2l.load_data_time_machine(batch_size, num_steps)"
   ],
   "outputs": [],
   "execution_count": 1
  },
  {
   "cell_type": "code",
   "id": "2d90745d",
   "metadata": {
    "execution": {
     "iopub.execute_input": "2023-08-18T07:24:21.612618Z",
     "iopub.status.busy": "2023-08-18T07:24:21.611785Z",
     "iopub.status.idle": "2023-08-18T07:24:21.619127Z",
     "shell.execute_reply": "2023-08-18T07:24:21.618267Z"
    },
    "origin_pos": 7,
    "tab": [
     "pytorch"
    ],
    "ExecuteTime": {
     "end_time": "2025-04-08T05:42:39.717771Z",
     "start_time": "2025-04-08T05:42:39.710023Z"
    }
   },
   "source": [
    "def get_lstm_params(vocab_size, num_hiddens, device):\n",
    "    num_inputs = num_outputs = vocab_size\n",
    "\n",
    "    def normal(shape):\n",
    "        return torch.randn(size=shape, device=device)*0.01\n",
    "\n",
    "    def three():\n",
    "        return (normal((num_inputs, num_hiddens)),\n",
    "                normal((num_hiddens, num_hiddens)),\n",
    "                torch.zeros(num_hiddens, device=device))\n",
    "\n",
    "    W_xi, W_hi, b_i = three()  # 输入门参数\n",
    "    W_xf, W_hf, b_f = three()  # 遗忘门参数\n",
    "    W_xo, W_ho, b_o = three()  # 输出门参数\n",
    "    W_xc, W_hc, b_c = three()  # 候选记忆元参数\n",
    "    # 输出层参数\n",
    "    W_hq = normal((num_hiddens, num_outputs))\n",
    "    b_q = torch.zeros(num_outputs, device=device)\n",
    "    # 附加梯度\n",
    "    params = [W_xi, W_hi, b_i, W_xf, W_hf, b_f, W_xo, W_ho, b_o, W_xc, W_hc,\n",
    "              b_c, W_hq, b_q]\n",
    "    for param in params:\n",
    "        param.requires_grad_(True)\n",
    "    return params"
   ],
   "outputs": [],
   "execution_count": 2
  },
  {
   "cell_type": "code",
   "id": "beeae3b9",
   "metadata": {
    "execution": {
     "iopub.execute_input": "2023-08-18T07:24:21.623788Z",
     "iopub.status.busy": "2023-08-18T07:24:21.623183Z",
     "iopub.status.idle": "2023-08-18T07:24:21.628423Z",
     "shell.execute_reply": "2023-08-18T07:24:21.627603Z"
    },
    "origin_pos": 12,
    "tab": [
     "pytorch"
    ],
    "ExecuteTime": {
     "end_time": "2025-04-08T05:42:41.861757Z",
     "start_time": "2025-04-08T05:42:41.857331Z"
    }
   },
   "source": [
    "def init_lstm_state(batch_size, num_hiddens, device):\n",
    "    return (torch.zeros((batch_size, num_hiddens), device=device),\n",
    "            torch.zeros((batch_size, num_hiddens), device=device))"
   ],
   "outputs": [],
   "execution_count": 3
  },
  {
   "cell_type": "code",
   "id": "50de4e9c",
   "metadata": {
    "execution": {
     "iopub.execute_input": "2023-08-18T07:24:21.632468Z",
     "iopub.status.busy": "2023-08-18T07:24:21.631955Z",
     "iopub.status.idle": "2023-08-18T07:24:21.638292Z",
     "shell.execute_reply": "2023-08-18T07:24:21.637498Z"
    },
    "origin_pos": 17,
    "tab": [
     "pytorch"
    ],
    "ExecuteTime": {
     "end_time": "2025-04-08T05:42:43.407345Z",
     "start_time": "2025-04-08T05:42:43.399334Z"
    }
   },
   "source": [
    "def lstm(inputs, state, params):\n",
    "    [W_xi, W_hi, b_i, W_xf, W_hf, b_f, W_xo, W_ho, b_o, W_xc, W_hc, b_c,\n",
    "     W_hq, b_q] = params\n",
    "    (H, C) = state\n",
    "    outputs = []\n",
    "    for X in inputs:\n",
    "        I = torch.sigmoid((X @ W_xi) + (H @ W_hi) + b_i)\n",
    "        F = torch.sigmoid((X @ W_xf) + (H @ W_hf) + b_f)\n",
    "        O = torch.sigmoid((X @ W_xo) + (H @ W_ho) + b_o)\n",
    "        C_tilda = torch.tanh((X @ W_xc) + (H @ W_hc) + b_c)\n",
    "        C = F * C + I * C_tilda\n",
    "        H = O * torch.tanh(C)\n",
    "        Y = (H @ W_hq) + b_q\n",
    "        outputs.append(Y)\n",
    "    return torch.cat(outputs, dim=0), (H, C)"
   ],
   "outputs": [],
   "execution_count": 4
  },
  {
   "metadata": {
    "ExecuteTime": {
     "end_time": "2025-04-08T05:42:45.140552Z",
     "start_time": "2025-04-08T05:42:45.132704Z"
    }
   },
   "cell_type": "code",
   "source": [
    "import matplotlib.pyplot as plt\n",
    "\n",
    "def train_ch8(model, train_iter, vocab, lr, num_epochs, device,\n",
    "                   use_random_iter=False):\n",
    "    # 创建两个列表跟踪每个epoch的困惑度 用于绘图\n",
    "    epochs = []\n",
    "    ppls = []\n",
    "\n",
    "    # 使用交叉熵损失进行处理\n",
    "    loss = nn.CrossEntropyLoss()\n",
    "\n",
    "    # 初始化优化器\n",
    "    if isinstance(model, nn.Module):\n",
    "        # PyTorch模型：使用标准SGD优化器\n",
    "        updater = torch.optim.SGD(model.parameters(), lr)\n",
    "    else:\n",
    "        # 自定义模型：使用函数式SGD实现\n",
    "        updater = lambda batch_size: d2l.sgd(model.params, lr, batch_size)\n",
    "\n",
    "    # 预测函数\n",
    "    def predict(prefix):\n",
    "        return d2l.predict_ch8(prefix, 50, model, vocab, device)\n",
    "\n",
    "    # 训练循环\n",
    "    for epoch in range(num_epochs):\n",
    "        ppl, speed = d2l.train_epoch_ch8(\n",
    "            model, train_iter, loss, updater, device, use_random_iter)\n",
    "        # 更新列表中的轮次以及困惑度\n",
    "        epochs.append(epoch + 1)\n",
    "        ppls.append(ppl)\n",
    "\n",
    "    # 训练完成后打印最终结果\n",
    "    print(f'训练完成。最终困惑度: {ppl:.2f}, 速度: {speed:.1f} tokens/sec on {str(device)}')\n",
    "    print('生成文本示例:')\n",
    "    print(predict('time traveller'))\n",
    "\n",
    "    # 训练完成后绘制困惑度曲线\n",
    "    plt.figure(figsize=(10, 6))\n",
    "    plt.plot(epochs, ppls, 'b-', linewidth=2)\n",
    "    plt.xlabel('Epoch')\n",
    "    plt.ylabel('Perplexity')\n",
    "    plt.grid(True)\n",
    "    plt.tight_layout()\n",
    "    plt.show()"
   ],
   "id": "481a4ebaed402ccc",
   "outputs": [],
   "execution_count": 5
  },
  {
   "cell_type": "code",
   "id": "e2025d7a",
   "metadata": {
    "execution": {
     "iopub.execute_input": "2023-08-18T07:24:21.642387Z",
     "iopub.status.busy": "2023-08-18T07:24:21.641860Z",
     "iopub.status.idle": "2023-08-18T07:28:54.778673Z",
     "shell.execute_reply": "2023-08-18T07:28:54.777826Z"
    },
    "origin_pos": 21,
    "tab": [
     "pytorch"
    ],
    "ExecuteTime": {
     "end_time": "2025-04-08T05:43:44.203629Z",
     "start_time": "2025-04-08T05:42:58.549091Z"
    }
   },
   "source": [
    "vocab_size, num_hiddens, device = len(vocab), 256, d2l.try_gpu()\n",
    "num_epochs, lr = 500, 1\n",
    "model = d2l.RNNModelScratch(len(vocab), num_hiddens, device, get_lstm_params,\n",
    "                            init_lstm_state, lstm)\n",
    "train_ch8(model, train_iter, vocab, lr, num_epochs, device)"
   ],
   "outputs": [
    {
     "name": "stdout",
     "output_type": "stream",
     "text": [
      "训练完成。最终困惑度: 1.12, 速度: 100596.8 tokens/sec on cuda:0\n",
      "生成文本示例:\n",
      "time traveller for so it will be convenient to speak of himwas e\n"
     ]
    },
    {
     "data": {
      "text/plain": [
       "<Figure size 1000x600 with 1 Axes>"
      ],
      "image/png": "[encoded data removed]"
     },
     "metadata": {},
     "output_type": "display_data"
    }
   ],
   "execution_count": 7
  },
  {
   "cell_type": "code",
   "id": "ca7c37b2",
   "metadata": {
    "execution": {
     "iopub.execute_input": "2023-08-18T07:28:54.782381Z",
     "iopub.status.busy": "2023-08-18T07:28:54.781811Z",
     "iopub.status.idle": "2023-08-18T07:29:19.488133Z",
     "shell.execute_reply": "2023-08-18T07:29:19.487180Z"
    },
    "origin_pos": 26,
    "tab": [
     "pytorch"
    ],
    "ExecuteTime": {
     "end_time": "2025-04-08T05:44:09.448719Z",
     "start_time": "2025-04-08T05:44:05.008130Z"
    }
   },
   "source": [
    "# 高级实现\n",
    "num_inputs = vocab_size\n",
    "lstm_layer = nn.LSTM(num_inputs, num_hiddens)\n",
    "model = d2l.RNNModel(lstm_layer, len(vocab))\n",
    "model = model.to(device)\n",
    "train_ch8(model, train_iter, vocab, lr, num_epochs, device)"
   ],
   "outputs": [
    {
     "name": "stdout",
     "output_type": "stream",
     "text": [
      "训练完成。最终困惑度: 1.05, 速度: 1041052.8 tokens/sec on cuda:0\n",
      "生成文本示例:\n",
      "time traveller for so it will be convenient to speak of himwas e\n"
     ]
    },
    {
     "data": {
      "text/plain": [
       "<Figure size 1000x600 with 1 Axes>"
      ],
      "image/png": "[encoded data removed]"
     },
     "metadata": {},
     "output_type": "display_data"
    }
   ],
   "execution_count": 8
  },
  {
   "metadata": {},
   "cell_type": "markdown",
   "source": [
    "# LSTM 计算过程详解及参数意义与作用\n",
    "\n",
    "本文详细解析 LSTM（长短期记忆网络）的核心计算公式、数据流以及各个参数的意义与作用，帮助理解其在长序列数据处理中的优势。\n",
    "\n",
    "---\n",
    "\n",
    "## 参数上下文\n",
    "假设以下参数：\n",
    "- **`batch_size`**: `32`\n",
    "- **`num_steps`**: `35` （时间步数）\n",
    "- **`input_size`**: `28` （输入特征维度）\n",
    "- **`hidden_size`**: `256` （隐藏状态 $H_t$ 和记忆单元 $C_t$ 的特征维度）\n",
    "- **`output_size`**: `28$ （最终输出 $Y_t$ 的特征维度）\n",
    "\n",
    "---\n",
    "\n",
    "## LSTM 的核心公式与计算过程\n",
    "\n",
    "### 1. 输入门 ($i_t$)\n",
    "公式：\n",
    "$$\n",
    "i_t = \\sigma(X_t W_{xi} + H_{t-1} W_{hi} + b_i)\n",
    "$$\n",
    "\n",
    "#### 意义\n",
    "输入门决定了当前时间步的候选记忆单元 $\\tilde{C}_t$ 中有多少信息可以写入到当前的记忆单元 $C_t$。\n",
    "\n",
    "#### 作用\n",
    "- 控制当前输入 $X_t$ 的重要程度。\n",
    "- 类似于“允许输入”的开关。\n",
    "\n",
    "#### 计算过程\n",
    "- $X_t W_{xi}$: 输入 $X_t$ 的形状为 $[32, 28]$，权重 $W_{xi}$ 的形状为 $[28, 256]$，结果为 $[32, 256]$。\n",
    "- $H_{t-1} W_{hi}$: 隐状态 $H_{t-1}$ 的形状为 $[32, 256]$，权重 $W_{hi}$ 的形状为 $[256, 256]$，结果为 $[32, 256]$。\n",
    "- 偏置 $b_i$: 形状为 $[256]$，通过广播与上述结果相加。\n",
    "- **最终 $i_t$ 的形状**: $[32, 256]$。\n",
    "\n",
    "---\n",
    "\n",
    "### 2. 遗忘门 ($f_t$)\n",
    "公式：\n",
    "$$\n",
    "f_t = \\sigma(X_t W_{xf} + H_{t-1} W_{hf} + b_f)\n",
    "$$\n",
    "\n",
    "#### 意义\n",
    "遗忘门决定了上一个记忆单元 $C_{t-1}$ 中哪些信息需要被遗忘（丢弃）。\n",
    "\n",
    "#### 作用\n",
    "- 控制前一时间步的记忆单元 $C_{t-1}$ 的保留比例。\n",
    "- 遗忘门的设计是解决梯度消失问题的关键，确保模型能够“记住”重要的历史信息而非全部保留。\n",
    "\n",
    "#### 计算过程\n",
    "- $X_t W_{xf}$: 输入 $X_t$ 的形状为 $[32, 28]$，权重 $W_{xf}$ 的形状为 $[28, 256]$，结果为 $[32, 256]$。\n",
    "- $H_{t-1} W_{hf}$: 隐状态 $H_{t-1}$ 的形状为 $[32, 256]$，权重 $W_{hf}$ 的形状为 $[256, 256]$，结果为 $[32, 256]$。\n",
    "- 偏置 $b_f$: 形状为 $[256]$，通过广播与上述结果相加。\n",
    "- **最终 $f_t$ 的形状**: $[32, 256]$。\n",
    "\n",
    "---\n",
    "\n",
    "### 3. 候选记忆单元 ($\\tilde{C}_t$)\n",
    "公式：\n",
    "$$\n",
    "\\tilde{C}_t = \\tanh(X_t W_{xc} + H_{t-1} W_{hc} + b_c)\n",
    "$$\n",
    "\n",
    "#### 意义\n",
    "候选记忆单元是当前时间步用于更新记忆单元 $C_t$ 的新信息。\n",
    "\n",
    "#### 作用\n",
    "- 提供当前时间步的潜在记忆信息。\n",
    "- 通过输入门 $i_t$ 控制其写入比例。\n",
    "\n",
    "#### 计算过程\n",
    "- $X_t W_{xc}$: 输入 $X_t$ 的形状为 $[32, 28]$，权重 $W_{xc}$ 的形状为 $[28, 256]$，结果为 $[32, 256]$。\n",
    "- $H_{t-1} W_{hc}$: 隐状态 $H_{t-1}$ 的形状为 $[32, 256]$，权重 $W_{hc}$ 的形状为 $[256, 256]$，结果为 $[32, 256]$。\n",
    "- 偏置 $b_c$: 形状为 $[256]$，通过广播与上述结果相加。\n",
    "- **最终 $\\tilde{C}_t$ 的形状**: $[32, 256]$。\n",
    "\n",
    "---\n",
    "\n",
    "### 4. 记忆单元更新 ($C_t$)\n",
    "公式：\n",
    "$$\n",
    "C_t = f_t \\odot C_{t-1} + i_t \\odot \\tilde{C}_t\n",
    "$$\n",
    "\n",
    "#### 意义\n",
    "记忆单元是 LSTM 的内部核心状态，用于存储长期依赖信息。\n",
    "\n",
    "#### 作用\n",
    "- 综合遗忘门 $f_t$ 和输入门 $i_t$ 的作用，对前一时间步记忆 $C_{t-1}$ 和当前候选记忆 $\\tilde{C}_t$ 进行加权更新。\n",
    "- $C_t$ 是整个 LSTM 网络的长期记忆存储。\n",
    "\n",
    "#### 计算过程\n",
    "- $f_t \\odot C_{t-1}$: 遗忘门 $f_t$ 和前一时间步记忆单元 $C_{t-1}$ 按元素相乘，形状为 $[32, 256]$。\n",
    "- $i_t \\odot \\tilde{C}_t$: 输入门 $i_t$ 和候选记忆单元 $\\tilde{C}_t$ 按元素相乘，形状为 $[32, 256]$。\n",
    "- **最终 $C_t$ 的形状**: $[32, 256]$。\n",
    "\n",
    "---\n",
    "\n",
    "### 5. 输出门 ($o_t$)\n",
    "公式：\n",
    "$$\n",
    "o_t = \\sigma(X_t W_{xo} + H_{t-1} W_{ho} + b_o)\n",
    "$$\n",
    "\n",
    "#### 意义\n",
    "输出门决定了当前时间步的记忆单元 $C_t$ 中哪些信息需要输出（映射到隐藏状态 $H_t$）。\n",
    "\n",
    "#### 作用\n",
    "- 控制记忆单元 $C_t$ 的输出比例。\n",
    "- 决定当前时间步的隐藏状态 $H_t$。\n",
    "\n",
    "#### 计算过程\n",
    "- $X_t W_{xo}$: 输入 $X_t$ 的形状为 $[32, 28]$，权重 $W_{xo}$ 的形状为 $[28, 256]$，结果为 $[32, 256]$。\n",
    "- $H_{t-1} W_{ho}$: 隐状态 $H_{t-1}$ 的形状为 $[32, 256]$，权重 $W_{ho}$ 的形状为 $[256, 256]$，结果为 $[32, 256]$。\n",
    "- 偏置 $b_o$: 形状为 $[256]$，通过广播与上述结果相加。\n",
    "- **最终 $o_t$ 的形状**: $[32, 256]$。\n",
    "\n",
    "---\n",
    "\n",
    "### 6. 隐状态更新 ($H_t$)\n",
    "公式：\n",
    "$$\n",
    "H_t = o_t \\odot \\tanh(C_t)\n",
    "$$\n",
    "\n",
    "#### 意义\n",
    "隐藏状态是当前时间步的输出，同时也作为下一时间步的输入。\n",
    "\n",
    "#### 作用\n",
    "- 提供当前时间步的输出信息。\n",
    "- 连接时间步之间的信息流动。\n",
    "\n",
    "#### 计算过程\n",
    "- $\\tanh(C_t)$: 对记忆单元 $C_t$ 应用 $\\tanh$ 激活函数，形状为 $[32, 256]$。\n",
    "- $o_t \\odot \\tanh(C_t)$: 输出门 $o_t$ 和 $\\tanh(C_t)$ 按元素相乘，形状为 $[32, 256]$。\n",
    "- **最终 $H_t$ 的形状**: $[32, 256]$。\n",
    "\n",
    "---\n",
    "\n",
    "### 7. 输出 ($Y_t$)\n",
    "公式：\n",
    "$$\n",
    "Y_t = H_t W_{hq} + b_q\n",
    "$$\n",
    "\n",
    "#### 计算过程\n",
    "- $H_t W_{hq}$: 隐状态 $H_t$ 的形状为 $[32, 256]$，权重 $W_{hq}$ 的形状为 $[256, 28]$，结果为 $[32, 28]$。\n",
    "- 偏置 $b_q$: 形状为 $[28]$，通过广播与上述结果相加。\n",
    "- **最终 $Y_t$ 的形状**: $[32, 28]$。"
   ],
   "id": "55feb90c81e8e0e2"
  },
  {
   "metadata": {},
   "cell_type": "code",
   "outputs": [],
   "execution_count": null,
   "source": "",
   "id": "7baeb58682fe0adc"
  }
 ],
 "metadata": {
  "language_info": {
   "name": "python"
  },
  "required_libs": [],
  "kernelspec": {
   "name": "python3",
   "language": "python",
   "display_name": "Python 3 (ipykernel)"
  }
 },
 "nbformat": 4,
 "nbformat_minor": 5
}
