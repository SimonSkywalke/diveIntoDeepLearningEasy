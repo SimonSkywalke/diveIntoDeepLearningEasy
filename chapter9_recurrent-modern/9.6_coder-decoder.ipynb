{
 "cells": [
  {
   "cell_type": "code",
   "id": "17f77c60",
   "metadata": {
    "execution": {
     "iopub.execute_input": "2023-08-18T07:05:48.406295Z",
     "iopub.status.busy": "2023-08-18T07:05:48.405469Z",
     "iopub.status.idle": "2023-08-18T07:05:49.653322Z",
     "shell.execute_reply": "2023-08-18T07:05:49.651979Z"
    },
    "origin_pos": 2,
    "tab": [
     "pytorch"
    ],
    "ExecuteTime": {
     "end_time": "2025-02-10T04:15:48.532405Z",
     "start_time": "2025-02-10T04:15:47.074609Z"
    }
   },
   "source": [
    "from torch import nn\n",
    "\n",
    "\n",
    "#编码器\n",
    "class Encoder(nn.Module):\n",
    "    \"\"\"编码器-解码器架构的基本编码器接口\"\"\"\n",
    "    def __init__(self, **kwargs):\n",
    "        super(Encoder, self).__init__(**kwargs)\n",
    "\n",
    "    def forward(self, X, *args):\n",
    "        # 指定输入为可变长的序列\n",
    "        # 继承这个类的子列要实现该方法\n",
    "        raise NotImplementedError"
   ],
   "outputs": [],
   "execution_count": 1
  },
  {
   "cell_type": "code",
   "id": "5c7a6471",
   "metadata": {
    "execution": {
     "iopub.execute_input": "2023-08-18T07:05:49.659889Z",
     "iopub.status.busy": "2023-08-18T07:05:49.659020Z",
     "iopub.status.idle": "2023-08-18T07:05:49.666360Z",
     "shell.execute_reply": "2023-08-18T07:05:49.665230Z"
    },
    "origin_pos": 7,
    "tab": [
     "pytorch"
    ],
    "ExecuteTime": {
     "end_time": "2025-02-10T04:15:48.596404Z",
     "start_time": "2025-02-10T04:15:48.582427Z"
    }
   },
   "source": [
    "#解码器\n",
    "class Decoder(nn.Module):\n",
    "    # 用于将编码器的输出转化为编码后的状态\n",
    "    def __init__(self, **kwargs):\n",
    "        super(Decoder, self).__init__(**kwargs)\n",
    "\n",
    "    def init_state(self, enc_outputs, *args):\n",
    "        raise NotImplementedError\n",
    "\n",
    "    def forward(self, X, state):\n",
    "        raise NotImplementedError"
   ],
   "outputs": [],
   "execution_count": 2
  },
  {
   "cell_type": "code",
   "id": "53fb0929",
   "metadata": {
    "execution": {
     "iopub.execute_input": "2023-08-18T07:05:49.671685Z",
     "iopub.status.busy": "2023-08-18T07:05:49.670944Z",
     "iopub.status.idle": "2023-08-18T07:05:49.678831Z",
     "shell.execute_reply": "2023-08-18T07:05:49.677718Z"
    },
    "origin_pos": 12,
    "tab": [
     "pytorch"
    ],
    "ExecuteTime": {
     "end_time": "2025-02-10T04:15:48.691008Z",
     "start_time": "2025-02-10T04:15:48.678010Z"
    }
   },
   "source": [
    "# 合并编码器和解码器\n",
    "class EncoderDecoder(nn.Module):\n",
    "    \"\"\"编码器-解码器架构的基类\"\"\"\n",
    "    def __init__(self, encoder, decoder, **kwargs):\n",
    "        super(EncoderDecoder, self).__init__(**kwargs)\n",
    "        self.encoder = encoder\n",
    "        self.decoder = decoder\n",
    "\n",
    "    def forward(self, enc_X, dec_X, *args):\n",
    "        enc_outputs = self.encoder(enc_X, *args)\n",
    "        dec_state = self.decoder.init_state(enc_outputs, *args)\n",
    "        return self.decoder(dec_X, dec_state)"
   ],
   "outputs": [],
   "execution_count": 3
  }
 ],
 "metadata": {
  "language_info": {
   "name": "python"
  },
  "required_libs": [],
  "kernelspec": {
   "name": "python3",
   "language": "python",
   "display_name": "Python 3 (ipykernel)"
  }
 },
 "nbformat": 4,
 "nbformat_minor": 5
}
