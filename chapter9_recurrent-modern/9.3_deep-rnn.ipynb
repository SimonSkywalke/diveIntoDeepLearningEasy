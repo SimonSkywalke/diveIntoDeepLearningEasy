{
 "cells": [
  {
   "cell_type": "code",
   "id": "0c3000b3",
   "metadata": {
    "execution": {
     "iopub.execute_input": "2023-08-18T07:24:40.256397Z",
     "iopub.status.busy": "2023-08-18T07:24:40.255737Z",
     "iopub.status.idle": "2023-08-18T07:24:43.344661Z",
     "shell.execute_reply": "2023-08-18T07:24:43.343759Z"
    },
    "origin_pos": 2,
    "tab": [
     "pytorch"
    ],
    "ExecuteTime": {
     "end_time": "2025-04-08T06:08:39.057079Z",
     "start_time": "2025-04-08T06:08:37.860733Z"
    }
   },
   "source": [
    "import torch\n",
    "from torch import nn\n",
    "from d2l import torch as d2l\n",
    "\n",
    "batch_size, num_steps = 32, 35\n",
    "train_iter, vocab = d2l.load_data_time_machine(batch_size, num_steps)"
   ],
   "outputs": [],
   "execution_count": 1
  },
  {
   "cell_type": "code",
   "id": "d9ce730c",
   "metadata": {
    "execution": {
     "iopub.execute_input": "2023-08-18T07:24:43.348714Z",
     "iopub.status.busy": "2023-08-18T07:24:43.348349Z",
     "iopub.status.idle": "2023-08-18T07:24:45.383961Z",
     "shell.execute_reply": "2023-08-18T07:24:45.383098Z"
    },
    "origin_pos": 6,
    "tab": [
     "pytorch"
    ],
    "ExecuteTime": {
     "end_time": "2025-04-08T06:08:41.809920Z",
     "start_time": "2025-04-08T06:08:41.706824Z"
    }
   },
   "source": [
    "# 新增了了num_layers参数来设定隐藏层数\n",
    "vocab_size, num_hiddens, num_layers = len(vocab), 256, 2\n",
    "num_inputs = vocab_size\n",
    "device = d2l.try_gpu()\n",
    "lstm_layer = nn.LSTM(num_inputs, num_hiddens, num_layers)\n",
    "model = d2l.RNNModel(lstm_layer, len(vocab))\n",
    "model = model.to(device)"
   ],
   "outputs": [],
   "execution_count": 2
  },
  {
   "metadata": {
    "ExecuteTime": {
     "end_time": "2025-04-08T06:08:43.255074Z",
     "start_time": "2025-04-08T06:08:43.243774Z"
    }
   },
   "cell_type": "code",
   "source": [
    "import matplotlib.pyplot as plt\n",
    "\n",
    "def train_ch8(model, train_iter, vocab, lr, num_epochs, device,\n",
    "                   use_random_iter=False):\n",
    "    # 创建两个列表跟踪每个epoch的困惑度 用于绘图\n",
    "    epochs = []\n",
    "    ppls = []\n",
    "\n",
    "    # 使用交叉熵损失进行处理\n",
    "    loss = nn.CrossEntropyLoss()\n",
    "\n",
    "    # 初始化优化器\n",
    "    if isinstance(model, nn.Module):\n",
    "        # PyTorch模型：使用标准SGD优化器\n",
    "        updater = torch.optim.SGD(model.parameters(), lr)\n",
    "    else:\n",
    "        # 自定义模型：使用函数式SGD实现\n",
    "        updater = lambda batch_size: d2l.sgd(model.params, lr, batch_size)\n",
    "\n",
    "    # 预测函数\n",
    "    def predict(prefix):\n",
    "        return d2l.predict_ch8(prefix, 50, model, vocab, device)\n",
    "\n",
    "    # 训练循环\n",
    "    for epoch in range(num_epochs):\n",
    "        ppl, speed = d2l.train_epoch_ch8(\n",
    "            model, train_iter, loss, updater, device, use_random_iter)\n",
    "        # 更新列表中的轮次以及困惑度\n",
    "        epochs.append(epoch + 1)\n",
    "        ppls.append(ppl)\n",
    "\n",
    "    # 训练完成后打印最终结果\n",
    "    print(f'训练完成。最终困惑度: {ppl:.2f}, 速度: {speed:.1f} tokens/sec on {str(device)}')\n",
    "    print('生成文本示例:')\n",
    "    print(predict('time traveller'))\n",
    "\n",
    "    # 训练完成后绘制困惑度曲线\n",
    "    plt.figure(figsize=(10, 6))\n",
    "    plt.plot(epochs, ppls, 'b-', linewidth=2)\n",
    "    plt.xlabel('Epoch')\n",
    "    plt.ylabel('Perplexity')\n",
    "    plt.grid(True)\n",
    "    plt.tight_layout()\n",
    "    plt.show()"
   ],
   "id": "5ae20a83961f78e",
   "outputs": [],
   "execution_count": 3
  },
  {
   "cell_type": "code",
   "id": "97524e5b",
   "metadata": {
    "execution": {
     "iopub.execute_input": "2023-08-18T07:24:45.388179Z",
     "iopub.status.busy": "2023-08-18T07:24:45.387601Z",
     "iopub.status.idle": "2023-08-18T07:25:17.829775Z",
     "shell.execute_reply": "2023-08-18T07:25:17.828890Z"
    },
    "origin_pos": 9,
    "tab": [
     "pytorch"
    ],
    "ExecuteTime": {
     "end_time": "2025-04-08T06:08:51.623267Z",
     "start_time": "2025-04-08T06:08:44.683031Z"
    }
   },
   "source": [
    "num_epochs, lr = 500, 2\n",
    "train_ch8(model, train_iter, vocab, lr*1.0, num_epochs, device)"
   ],
   "outputs": [
    {
     "name": "stdout",
     "output_type": "stream",
     "text": [
      "训练完成。最终困惑度: 1.02, 速度: 675600.7 tokens/sec on cuda:0\n",
      "生成文本示例:\n",
      "time travelleryou can show black is white by argument said filby\n"
     ]
    },
    {
     "data": {
      "text/plain": [
       "<Figure size 1000x600 with 1 Axes>"
      ],
      "image/png": "[encoded data removed]"
     },
     "metadata": {},
     "output_type": "display_data"
    }
   ],
   "execution_count": 4
  },
  {
   "metadata": {},
   "cell_type": "markdown",
   "source": [
    "# 双隐藏层循环神经网络（RNN）计算过程详解\n",
    "\n",
    "本文详细解析一个具有两个隐藏层的循环神经网络（RNN）的核心计算公式、数据流和数据维度变化，帮助理解其在时间序列数据处理中的工作机制。\n",
    "\n",
    "---\n",
    "\n",
    "## 参数上下文\n",
    "\n",
    "假设以下参数：\n",
    "- **`batch_size`**: `32`\n",
    "- **`num_steps`**: `35` （时间步数）\n",
    "- **`input_size`**: `28` （输入特征维度）\n",
    "- **`num_hiddens`**: `256` （每层隐藏状态的特征维度）\n",
    "- **`num_layers`**: `2` （隐藏层数）\n",
    "\n",
    "---\n",
    "\n",
    "## 双隐藏层 RNN 的核心公式与计算过程\n",
    "\n",
    "在每个时间步 $t$，双隐藏层 RNN 的计算公式如下：\n",
    "\n",
    "### 1. 第一隐藏层的状态更新\n",
    "公式：\n",
    "$$\n",
    "H_t^{(1)} = \\tanh(X_t W_{xh}^{(1)} + H_{t-1}^{(1)} W_{hh}^{(1)} + b_h^{(1)})\n",
    "$$\n",
    "\n",
    "#### 计算过程\n",
    "- **输入变换**: $X_t W_{xh}^{(1)}$\n",
    "  - 输入 $X_t$ 的形状为 $[32, 28]$，权重矩阵 $W_{xh}^{(1)}$ 的形状为 $[28, 256]$，结果形状为 $[32, 256]$。\n",
    "- **隐藏状态变换**: $H_{t-1}^{(1)} W_{hh}^{(1)}$\n",
    "  - 上一时间步的隐藏状态 $H_{t-1}^{(1)}$ 的形状为 $[32, 256]$，权重矩阵 $W_{hh}^{(1)}$ 的形状为 $[256, 256]$，结果形状为 $[32, 256]$。\n",
    "- **偏置添加**: $b_h^{(1)}$\n",
    "  - 偏置向量 $b_h^{(1)}$ 的形状为 $[256]$，通过广播与上述结果相加。\n",
    "- **激活函数**: $\\tanh$\n",
    "  - 将结果通过 $\\tanh$ 激活函数，输出隐藏状态 $H_t^{(1)}$。\n",
    "\n",
    "#### **最终 $H_t^{(1)}$ 的形状**: $[32, 256]$\n",
    "\n",
    "---\n",
    "\n",
    "### 2. 第二隐藏层的状态更新\n",
    "公式：\n",
    "$$\n",
    "H_t^{(2)} = \\tanh(H_t^{(1)} W_{xh}^{(2)} + H_{t-1}^{(2)} W_{hh}^{(2)} + b_h^{(2)})\n",
    "$$\n",
    "\n",
    "#### 计算过程\n",
    "- **输入变换**: $H_t^{(1)} W_{xh}^{(2)}$\n",
    "  - 第一隐藏层的输出 $H_t^{(1)}$ 的形状为 $[32, 256]$，权重矩阵 $W_{xh}^{(2)}$ 的形状为 $[256, 256]$，结果形状为 $[32, 256]$。\n",
    "- **隐藏状态变换**: $H_{t-1}^{(2)} W_{hh}^{(2)}$\n",
    "  - 第二隐藏层上一时间步的隐藏状态 $H_{t-1}^{(2)}$ 的形状为 $[32, 256]$，权重矩阵 $W_{hh}^{(2)}$ 的形状为 $[256, 256]$，结果形状为 $[32, 256]$。\n",
    "- **偏置添加**: $b_h^{(2)}$\n",
    "  - 偏置向量 $b_h^{(2)}$ 的形状为 $[256]$，通过广播与上述结果相加。\n",
    "- **激活函数**: $\\tanh$\n",
    "  - 将结果通过 $\\tanh$ 激活函数，输出隐藏状态 $H_t^{(2)}$。\n",
    "\n",
    "#### **最终 $H_t^{(2)}$ 的形状**: $[32, 256]$\n",
    "\n",
    "---\n",
    "\n",
    "### 3. 输出计算\n",
    "公式：\n",
    "$$\n",
    "Y_t = H_t^{(2)} W_{hq} + b_q\n",
    "$$\n",
    "\n",
    "#### 计算过程\n",
    "- **隐藏状态变换**: $H_t^{(2)} W_{hq}$\n",
    "  - 第二隐藏层的输出 $H_t^{(2)}$ 的形状为 $[32, 256]$，权重矩阵 $W_{hq}$ 的形状为 $[256, 28]$，结果形状为 $[32, 28]$。\n",
    "- **偏置添加**: $b_q$\n",
    "  - 偏置向量 $b_q$ 的形状为 $[28]$，通过广播与上述结果相加。\n",
    "- **最终输出 $Y_t$ 的形状**: $[32, 28]$\n",
    "\n",
    "---\n",
    "\n",
    "## 数据流与变量维度变化\n",
    "\n",
    "以下是每个变量在时间步 $t$ 的维度变化过程：\n",
    "\n",
    "| **变量名称**        | **公式**                                     | **形状**            | **描述**                                   |\n",
    "|---------------------|----------------------------------------------|---------------------|-------------------------------------------|\n",
    "| 输入 $X_t$          | -                                            | $[32, 28]$         | 每个时间步的输入特征                       |\n",
    "| 第一层隐藏状态 $H_t^{(1)}$ | $\\tanh(X_t W_{xh}^{(1)} + H_{t-1}^{(1)} W_{hh}^{(1)} + b_h^{(1)})$ | $[32, 256]$ | 第一隐藏层的输出                         |\n",
    "| 第二层隐藏状态 $H_t^{(2)}$ | $\\tanh(H_t^{(1)} W_{xh}^{(2)} + H_{t-1}^{(2)} W_{hh}^{(2)} + b_h^{(2)})$ | $[32, 256]$ | 第二隐藏层的输出                         |\n",
    "| 输出 $Y_t$          | $H_t^{(2)} W_{hq} + b_q$                    | $[32, 28]$         | 模型的最终输出                            |\n",
    "\n",
    "---\n",
    "\n",
    "## 总结\n",
    "\n",
    "双隐藏层 RNN 的结构通过层数的堆叠，能够学习更加复杂的时间序列特征。每一层的隐藏状态根据前一时间步的信息和当前层的输入进行更新，层与层之间通过隐藏状态传递信息。最终，第二隐藏层的输出通过线性变换生成模型的预测结果。\n"
   ],
   "id": "c6b8f949d148e166"
  }
 ],
 "metadata": {
  "language_info": {
   "name": "python"
  },
  "required_libs": [],
  "kernelspec": {
   "name": "python3",
   "language": "python",
   "display_name": "Python 3 (ipykernel)"
  }
 },
 "nbformat": 4,
 "nbformat_minor": 5
}
